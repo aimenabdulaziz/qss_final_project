{
 "cells": [
  {
   "cell_type": "markdown",
   "metadata": {},
   "source": [
    "# Import Packages"
   ]
  },
  {
   "cell_type": "code",
   "execution_count": 17,
   "metadata": {},
   "outputs": [],
   "source": [
    "import pandas as pd\n",
    "import numpy as np\n",
    "import random\n",
    "\n",
    "# repeated printouts\n",
    "from IPython.core.interactiveshell import InteractiveShell\n",
    "InteractiveShell.ast_node_interactivity = \"all\""
   ]
  },
  {
   "cell_type": "markdown",
   "metadata": {},
   "source": [
    "# Load the raw data\n",
    "\n",
    "We are only loading the excel sheets we will use for our research purposes. The sheets we need are `Demographics`, `Presenting Problems`, `Emergency Crisis Services`."
   ]
  },
  {
   "cell_type": "code",
   "execution_count": 3,
   "metadata": {},
   "outputs": [],
   "source": [
    "# Read selected excel sheets into pandas dataframes and save in a dictionary\n",
    "file_path = '../data/Dartmouth Data Set.xlsx'\n",
    "sheet_names = ['Demographics', 'Presenting Problems']\n",
    "\n",
    "# create an empty dictionary to store the sheet data\n",
    "sheet_data = {}\n",
    "\n",
    "# loop through each sheet name and read the corresponding sheet data into a pandas dataframe\n",
    "for sheet_name in sheet_names:\n",
    "    sheet_data[sheet_name] = pd.read_excel(file_path, sheet_name)"
   ]
  },
  {
   "cell_type": "markdown",
   "metadata": {},
   "source": [
    "# Save the data in variables and inspect them"
   ]
  },
  {
   "cell_type": "code",
   "execution_count": 4,
   "metadata": {},
   "outputs": [],
   "source": [
    "# Retrieve the dataframes from the dictionary and save them in variables\n",
    "demographics = sheet_data['Demographics']\n",
    "presenting_problems = sheet_data['Presenting Problems']"
   ]
  },
  {
   "cell_type": "code",
   "execution_count": 5,
   "metadata": {},
   "outputs": [
    {
     "data": {
      "text/html": [
       "<div>\n",
       "<style scoped>\n",
       "    .dataframe tbody tr th:only-of-type {\n",
       "        vertical-align: middle;\n",
       "    }\n",
       "\n",
       "    .dataframe tbody tr th {\n",
       "        vertical-align: top;\n",
       "    }\n",
       "\n",
       "    .dataframe thead th {\n",
       "        text-align: right;\n",
       "    }\n",
       "</style>\n",
       "<table border=\"1\" class=\"dataframe\">\n",
       "  <thead>\n",
       "    <tr style=\"text-align: right;\">\n",
       "      <th></th>\n",
       "      <th>Local ID</th>\n",
       "      <th>Region</th>\n",
       "      <th>County</th>\n",
       "      <th>Start Coordinator</th>\n",
       "      <th>Date Enrolled in START</th>\n",
       "      <th>Status</th>\n",
       "      <th>Status Date</th>\n",
       "      <th>Time Enrolled in START</th>\n",
       "      <th>Source of referral to START</th>\n",
       "      <th>Suitability of enrollment in START</th>\n",
       "      <th>...</th>\n",
       "      <th>State sponsored ICF/DD stay in past 1 - 5 years (at enrollment to START)</th>\n",
       "      <th>Jailed in the past year (at enrollment to START)</th>\n",
       "      <th>Jailed in the past 1 - 5 years (at enrollment to START)</th>\n",
       "      <th>Employment Status at Enrollment</th>\n",
       "      <th>Grade In School</th>\n",
       "      <th>Current IEP</th>\n",
       "      <th>Current 504 Plan</th>\n",
       "      <th>School Setting</th>\n",
       "      <th>Custody Status</th>\n",
       "      <th>Child Lives With</th>\n",
       "    </tr>\n",
       "  </thead>\n",
       "  <tbody>\n",
       "    <tr>\n",
       "      <th>0</th>\n",
       "      <td>8085297</td>\n",
       "      <td>California : CA START East Bay</td>\n",
       "      <td>Contra Costa</td>\n",
       "      <td>Mary Akhuetie</td>\n",
       "      <td>2020-12-30</td>\n",
       "      <td>Active</td>\n",
       "      <td>2020-12-30</td>\n",
       "      <td>Business Hours (Monday - Friday 8am - 5pm)</td>\n",
       "      <td>Case Manager/Service Coordinator</td>\n",
       "      <td>Appropriate</td>\n",
       "      <td>...</td>\n",
       "      <td>No</td>\n",
       "      <td>No</td>\n",
       "      <td>No</td>\n",
       "      <td>Student</td>\n",
       "      <td>Grade 7</td>\n",
       "      <td>Yes: 2020-11-16</td>\n",
       "      <td>No</td>\n",
       "      <td>Special school-out of district</td>\n",
       "      <td>Parental custody</td>\n",
       "      <td>Parents</td>\n",
       "    </tr>\n",
       "    <tr>\n",
       "      <th>1</th>\n",
       "      <td>440987</td>\n",
       "      <td>New York : Region 3</td>\n",
       "      <td>Saratoga</td>\n",
       "      <td>Natalia Wolosen</td>\n",
       "      <td>2020-12-29</td>\n",
       "      <td>Inactive (stable functioning)</td>\n",
       "      <td>2021-08-09</td>\n",
       "      <td>Business Hours (Monday - Friday 8am - 5pm)</td>\n",
       "      <td>Case Manager/Service Coordinator</td>\n",
       "      <td>Appropriate</td>\n",
       "      <td>...</td>\n",
       "      <td>No</td>\n",
       "      <td>No</td>\n",
       "      <td>No</td>\n",
       "      <td>Student</td>\n",
       "      <td>Grade 11</td>\n",
       "      <td>No</td>\n",
       "      <td>No</td>\n",
       "      <td>Other: BOCES 4:1:2</td>\n",
       "      <td>Parental custody</td>\n",
       "      <td>Parents</td>\n",
       "    </tr>\n",
       "    <tr>\n",
       "      <th>2</th>\n",
       "      <td>8008815</td>\n",
       "      <td>California : CA START East Bay</td>\n",
       "      <td>Alameda</td>\n",
       "      <td>Sharon Cyrus-Savary</td>\n",
       "      <td>2020-12-29</td>\n",
       "      <td>Inactive (no longer requesting services)</td>\n",
       "      <td>2021-06-27</td>\n",
       "      <td>Business Hours (Monday - Friday 8am - 5pm)</td>\n",
       "      <td>Case Manager/Service Coordinator</td>\n",
       "      <td>Appropriate</td>\n",
       "      <td>...</td>\n",
       "      <td>No</td>\n",
       "      <td>No</td>\n",
       "      <td>No</td>\n",
       "      <td>Student</td>\n",
       "      <td>Grade 8</td>\n",
       "      <td>Yes: 2020-01-01</td>\n",
       "      <td>No</td>\n",
       "      <td>Special school-in district</td>\n",
       "      <td>Parental custody</td>\n",
       "      <td>Parents</td>\n",
       "    </tr>\n",
       "    <tr>\n",
       "      <th>3</th>\n",
       "      <td>220396</td>\n",
       "      <td>New York : Region 3</td>\n",
       "      <td>Albany</td>\n",
       "      <td>Matthew Wolcott</td>\n",
       "      <td>2020-12-29</td>\n",
       "      <td>Inactive (inappropriate for services)</td>\n",
       "      <td>2021-06-11</td>\n",
       "      <td>Business Hours (Monday - Friday 8am - 5pm)</td>\n",
       "      <td>Case Manager/Service Coordinator</td>\n",
       "      <td>Appropriate</td>\n",
       "      <td>...</td>\n",
       "      <td>No</td>\n",
       "      <td>No</td>\n",
       "      <td>No</td>\n",
       "      <td>Not employed</td>\n",
       "      <td>NaN</td>\n",
       "      <td>NaN</td>\n",
       "      <td>NaN</td>\n",
       "      <td>NaN</td>\n",
       "      <td>NaN</td>\n",
       "      <td>NaN</td>\n",
       "    </tr>\n",
       "    <tr>\n",
       "      <th>4</th>\n",
       "      <td>6570649</td>\n",
       "      <td>California : CA START San Andreas</td>\n",
       "      <td>Santa Cruz</td>\n",
       "      <td>Ilian Navarro</td>\n",
       "      <td>2020-12-29</td>\n",
       "      <td>Active</td>\n",
       "      <td>2020-12-29</td>\n",
       "      <td>Business Hours (Monday - Friday 8am - 5pm)</td>\n",
       "      <td>Case Manager/Service Coordinator</td>\n",
       "      <td>Appropriate</td>\n",
       "      <td>...</td>\n",
       "      <td>No</td>\n",
       "      <td>No</td>\n",
       "      <td>No</td>\n",
       "      <td>NaN</td>\n",
       "      <td>NaN</td>\n",
       "      <td>NaN</td>\n",
       "      <td>NaN</td>\n",
       "      <td>Other: COE Program Held at Cabrillo College</td>\n",
       "      <td>NaN</td>\n",
       "      <td>NaN</td>\n",
       "    </tr>\n",
       "  </tbody>\n",
       "</table>\n",
       "<p>5 rows × 48 columns</p>\n",
       "</div>"
      ],
      "text/plain": [
       "  Local ID                             Region        County  \\\n",
       "0  8085297     California : CA START East Bay  Contra Costa   \n",
       "1   440987                New York : Region 3      Saratoga   \n",
       "2  8008815     California : CA START East Bay       Alameda   \n",
       "3   220396                New York : Region 3        Albany   \n",
       "4  6570649  California : CA START San Andreas    Santa Cruz   \n",
       "\n",
       "     Start Coordinator Date Enrolled in START  \\\n",
       "0        Mary Akhuetie             2020-12-30   \n",
       "1      Natalia Wolosen             2020-12-29   \n",
       "2  Sharon Cyrus-Savary             2020-12-29   \n",
       "3      Matthew Wolcott             2020-12-29   \n",
       "4        Ilian Navarro             2020-12-29   \n",
       "\n",
       "                                     Status Status Date  \\\n",
       "0                                    Active  2020-12-30   \n",
       "1             Inactive (stable functioning)  2021-08-09   \n",
       "2  Inactive (no longer requesting services)  2021-06-27   \n",
       "3     Inactive (inappropriate for services)  2021-06-11   \n",
       "4                                    Active  2020-12-29   \n",
       "\n",
       "                       Time Enrolled in START  \\\n",
       "0  Business Hours (Monday - Friday 8am - 5pm)   \n",
       "1  Business Hours (Monday - Friday 8am - 5pm)   \n",
       "2  Business Hours (Monday - Friday 8am - 5pm)   \n",
       "3  Business Hours (Monday - Friday 8am - 5pm)   \n",
       "4  Business Hours (Monday - Friday 8am - 5pm)   \n",
       "\n",
       "        Source of referral to START Suitability of enrollment in START  ...  \\\n",
       "0  Case Manager/Service Coordinator                        Appropriate  ...   \n",
       "1  Case Manager/Service Coordinator                        Appropriate  ...   \n",
       "2  Case Manager/Service Coordinator                        Appropriate  ...   \n",
       "3  Case Manager/Service Coordinator                        Appropriate  ...   \n",
       "4  Case Manager/Service Coordinator                        Appropriate  ...   \n",
       "\n",
       "  State sponsored ICF/DD stay in past 1 - 5 years (at enrollment to START)  \\\n",
       "0                                                 No                         \n",
       "1                                                 No                         \n",
       "2                                                 No                         \n",
       "3                                                 No                         \n",
       "4                                                 No                         \n",
       "\n",
       "  Jailed in the past year (at enrollment to START)  \\\n",
       "0                                               No   \n",
       "1                                               No   \n",
       "2                                               No   \n",
       "3                                               No   \n",
       "4                                               No   \n",
       "\n",
       "  Jailed in the past 1 - 5 years (at enrollment to START)  \\\n",
       "0                                                 No        \n",
       "1                                                 No        \n",
       "2                                                 No        \n",
       "3                                                 No        \n",
       "4                                                 No        \n",
       "\n",
       "  Employment Status at Enrollment Grade In School      Current IEP  \\\n",
       "0                         Student         Grade 7  Yes: 2020-11-16   \n",
       "1                         Student        Grade 11               No   \n",
       "2                         Student         Grade 8  Yes: 2020-01-01   \n",
       "3                    Not employed             NaN              NaN   \n",
       "4                             NaN             NaN              NaN   \n",
       "\n",
       "  Current 504 Plan                                School Setting  \\\n",
       "0               No                Special school-out of district   \n",
       "1               No                            Other: BOCES 4:1:2   \n",
       "2               No                    Special school-in district   \n",
       "3              NaN                                           NaN   \n",
       "4              NaN  Other: COE Program Held at Cabrillo College    \n",
       "\n",
       "     Custody Status Child Lives With  \n",
       "0  Parental custody          Parents  \n",
       "1  Parental custody          Parents  \n",
       "2  Parental custody          Parents  \n",
       "3               NaN              NaN  \n",
       "4               NaN              NaN  \n",
       "\n",
       "[5 rows x 48 columns]"
      ]
     },
     "execution_count": 5,
     "metadata": {},
     "output_type": "execute_result"
    },
    {
     "data": {
      "text/plain": [
       "Index(['Local ID', 'Region', 'County', 'Start Coordinator',\n",
       "       'Date Enrolled in START', 'Status', 'Status Date',\n",
       "       'Time Enrolled in START', 'Source of referral to START',\n",
       "       'Suitability of enrollment in START',\n",
       "       'Individual/Caregiver reliable access to technology',\n",
       "       'Presenting problems at time of enrollment', 'Services at Enrollment',\n",
       "       'Date of birth', 'Gender', 'Race', 'Ethnicity',\n",
       "       'Level of Intellectual Disability',\n",
       "       'Current living situation at enrollment to START',\n",
       "       'More than one living situation over the last 5 years?',\n",
       "       'More than one living situation over the last year?',\n",
       "       'Psychiatric hospitalization in past year (at enrollment to START)',\n",
       "       'Psychiatric hospitalizations in past 1 - 5 years (at enrollment to START)',\n",
       "       'Emergency department visits in past year (at enrollment to START)',\n",
       "       'Emergency department visits in past 1-5 years (at enrollment to START)',\n",
       "       'Law enforcement encounters in past year (at enrollment to START)',\n",
       "       'Law enforcement encounters in past 1 - 5 years (at enrollment to START)',\n",
       "       'Psychiatric diagnoses', 'Medical diagnoses', 'Other Disabilities',\n",
       "       'Cause/etiology of disability',\n",
       "       'Who is the individual's primary caregiver?',\n",
       "       'Does the individual have a secondary caregiver?',\n",
       "       'Does the individual have a legal guardian?', 'Funding',\n",
       "       'History of Child Protective Services involvement in past year (at enrollment to START)',\n",
       "       'History of Child Protective Services involvement in lifetime (at enrollment to START)',\n",
       "       'State sponsored ICF/DD stay in past year (at enrollment to START)',\n",
       "       'State sponsored ICF/DD stay in past 1 - 5 years (at enrollment to START)',\n",
       "       'Jailed in the past year (at enrollment to START)',\n",
       "       'Jailed in the past 1 - 5 years (at enrollment to START)',\n",
       "       'Employment Status at Enrollment', 'Grade In School', 'Current IEP',\n",
       "       'Current 504 Plan', 'School Setting', 'Custody Status',\n",
       "       'Child Lives With'],\n",
       "      dtype='object')"
      ]
     },
     "execution_count": 5,
     "metadata": {},
     "output_type": "execute_result"
    },
    {
     "name": "stdout",
     "output_type": "stream",
     "text": [
      "<class 'pandas.core.frame.DataFrame'>\n",
      "RangeIndex: 4986 entries, 0 to 4985\n",
      "Data columns (total 48 columns):\n",
      " #   Column                                                                                  Non-Null Count  Dtype         \n",
      "---  ------                                                                                  --------------  -----         \n",
      " 0   Local ID                                                                                4986 non-null   object        \n",
      " 1   Region                                                                                  4986 non-null   object        \n",
      " 2   County                                                                                  4986 non-null   object        \n",
      " 3   Start Coordinator                                                                       4947 non-null   object        \n",
      " 4   Date Enrolled in START                                                                  4986 non-null   datetime64[ns]\n",
      " 5   Status                                                                                  4986 non-null   object        \n",
      " 6   Status Date                                                                             4986 non-null   datetime64[ns]\n",
      " 7   Time Enrolled in START                                                                  4893 non-null   object        \n",
      " 8   Source of referral to START                                                             4964 non-null   object        \n",
      " 9   Suitability of enrollment in START                                                      4986 non-null   object        \n",
      " 10  Individual/Caregiver reliable access to technology                                      863 non-null    object        \n",
      " 11  Presenting problems at time of enrollment                                               4958 non-null   object        \n",
      " 12  Services at Enrollment                                                                  4899 non-null   object        \n",
      " 13  Date of birth                                                                           4986 non-null   datetime64[ns]\n",
      " 14  Gender                                                                                  4986 non-null   object        \n",
      " 15  Race                                                                                    4986 non-null   object        \n",
      " 16  Ethnicity                                                                               4986 non-null   object        \n",
      " 17  Level of Intellectual Disability                                                        4985 non-null   object        \n",
      " 18  Current living situation at enrollment to START                                         4986 non-null   object        \n",
      " 19  More than one living situation over the last 5 years?                                   4986 non-null   object        \n",
      " 20  More than one living situation over the last year?                                      4023 non-null   object        \n",
      " 21  Psychiatric hospitalization in past year (at enrollment to START)                       4871 non-null   object        \n",
      " 22  Psychiatric hospitalizations in past 1 - 5 years (at enrollment to START)               4850 non-null   object        \n",
      " 23  Emergency department visits in past year (at enrollment to START)                       4859 non-null   object        \n",
      " 24  Emergency department visits in past 1-5 years (at enrollment to START)                  4843 non-null   object        \n",
      " 25  Law enforcement encounters in past year (at enrollment to START)                        29 non-null     object        \n",
      " 26  Law enforcement encounters in past 1 - 5 years (at enrollment to START)                 29 non-null     object        \n",
      " 27  Psychiatric diagnoses                                                                   4615 non-null   object        \n",
      " 28  Medical diagnoses                                                                       3171 non-null   object        \n",
      " 29  Other Disabilities                                                                      910 non-null    object        \n",
      " 30  Cause/etiology of disability                                                            964 non-null    object        \n",
      " 31  Who is the individual's primary caregiver?                                              4857 non-null   object        \n",
      " 32  Does the individual have a secondary caregiver?                                         4986 non-null   object        \n",
      " 33  Does the individual have a legal guardian?                                              4986 non-null   object        \n",
      " 34  Funding                                                                                 4904 non-null   object        \n",
      " 35  History of Child Protective Services involvement in past year (at enrollment to START)  4986 non-null   object        \n",
      " 36  History of Child Protective Services involvement in lifetime (at enrollment to START)   4986 non-null   object        \n",
      " 37  State sponsored ICF/DD stay in past year (at enrollment to START)                       4986 non-null   object        \n",
      " 38  State sponsored ICF/DD stay in past 1 - 5 years (at enrollment to START)                4986 non-null   object        \n",
      " 39  Jailed in the past year (at enrollment to START)                                        4986 non-null   object        \n",
      " 40  Jailed in the past 1 - 5 years (at enrollment to START)                                 4986 non-null   object        \n",
      " 41  Employment Status at Enrollment                                                         4750 non-null   object        \n",
      " 42  Grade In School                                                                         2803 non-null   object        \n",
      " 43  Current IEP                                                                             3669 non-null   object        \n",
      " 44  Current 504 Plan                                                                        3379 non-null   object        \n",
      " 45  School Setting                                                                          2068 non-null   object        \n",
      " 46  Custody Status                                                                          2339 non-null   object        \n",
      " 47  Child Lives With                                                                        2612 non-null   object        \n",
      "dtypes: datetime64[ns](3), object(45)\n",
      "memory usage: 1.8+ MB\n"
     ]
    }
   ],
   "source": [
    "# Explore the demographics dataframe\n",
    "demographics.head()\n",
    "demographics.columns\n",
    "demographics.info()"
   ]
  },
  {
   "cell_type": "code",
   "execution_count": 6,
   "metadata": {},
   "outputs": [
    {
     "data": {
      "text/html": [
       "<div>\n",
       "<style scoped>\n",
       "    .dataframe tbody tr th:only-of-type {\n",
       "        vertical-align: middle;\n",
       "    }\n",
       "\n",
       "    .dataframe tbody tr th {\n",
       "        vertical-align: top;\n",
       "    }\n",
       "\n",
       "    .dataframe thead th {\n",
       "        text-align: right;\n",
       "    }\n",
       "</style>\n",
       "<table border=\"1\" class=\"dataframe\">\n",
       "  <thead>\n",
       "    <tr style=\"text-align: right;\">\n",
       "      <th></th>\n",
       "      <th>Client Local Id</th>\n",
       "      <th>START Coordinator</th>\n",
       "      <th>Region</th>\n",
       "      <th>Presenting Problems at Enrollment</th>\n",
       "    </tr>\n",
       "  </thead>\n",
       "  <tbody>\n",
       "    <tr>\n",
       "      <th>0</th>\n",
       "      <td>1</td>\n",
       "      <td>Ashley Gruver</td>\n",
       "      <td>Iowa : County Social Services</td>\n",
       "      <td>Aggression (physical, verbal, property destruc...</td>\n",
       "    </tr>\n",
       "    <tr>\n",
       "      <th>1</th>\n",
       "      <td>1</td>\n",
       "      <td>Ashley Gruver</td>\n",
       "      <td>Iowa : County Social Services</td>\n",
       "      <td>Mental health symptoms</td>\n",
       "    </tr>\n",
       "    <tr>\n",
       "      <th>2</th>\n",
       "      <td>1</td>\n",
       "      <td>Ashley Gruver</td>\n",
       "      <td>Iowa : County Social Services</td>\n",
       "      <td>Self-injurious</td>\n",
       "    </tr>\n",
       "    <tr>\n",
       "      <th>3</th>\n",
       "      <td>000083W</td>\n",
       "      <td>Amy Huff</td>\n",
       "      <td>North Carolina : West</td>\n",
       "      <td>Aggression (physical, verbal, property destruc...</td>\n",
       "    </tr>\n",
       "    <tr>\n",
       "      <th>4</th>\n",
       "      <td>000083W</td>\n",
       "      <td>Amy Huff</td>\n",
       "      <td>North Carolina : West</td>\n",
       "      <td>Decrease in ability to participate in daily fu...</td>\n",
       "    </tr>\n",
       "  </tbody>\n",
       "</table>\n",
       "</div>"
      ],
      "text/plain": [
       "  Client Local Id START Coordinator                         Region  \\\n",
       "0               1     Ashley Gruver  Iowa : County Social Services   \n",
       "1               1     Ashley Gruver  Iowa : County Social Services   \n",
       "2               1     Ashley Gruver  Iowa : County Social Services   \n",
       "3         000083W          Amy Huff          North Carolina : West   \n",
       "4         000083W          Amy Huff          North Carolina : West   \n",
       "\n",
       "                   Presenting Problems at Enrollment  \n",
       "0  Aggression (physical, verbal, property destruc...  \n",
       "1                             Mental health symptoms  \n",
       "2                                    Self-injurious   \n",
       "3  Aggression (physical, verbal, property destruc...  \n",
       "4  Decrease in ability to participate in daily fu...  "
      ]
     },
     "execution_count": 6,
     "metadata": {},
     "output_type": "execute_result"
    },
    {
     "data": {
      "text/plain": [
       "Index(['Client Local Id', 'START Coordinator', 'Region',\n",
       "       'Presenting Problems at Enrollment'],\n",
       "      dtype='object')"
      ]
     },
     "execution_count": 6,
     "metadata": {},
     "output_type": "execute_result"
    },
    {
     "name": "stdout",
     "output_type": "stream",
     "text": [
      "<class 'pandas.core.frame.DataFrame'>\n",
      "RangeIndex: 31014 entries, 0 to 31013\n",
      "Data columns (total 4 columns):\n",
      " #   Column                             Non-Null Count  Dtype \n",
      "---  ------                             --------------  ----- \n",
      " 0   Client Local Id                    31014 non-null  object\n",
      " 1   START Coordinator                  29435 non-null  object\n",
      " 2   Region                             31014 non-null  object\n",
      " 3   Presenting Problems at Enrollment  31014 non-null  object\n",
      "dtypes: object(4)\n",
      "memory usage: 969.3+ KB\n"
     ]
    }
   ],
   "source": [
    "# Explore the presenting problems dataframe\n",
    "presenting_problems.head()\n",
    "presenting_problems.columns\n",
    "presenting_problems.info()"
   ]
  },
  {
   "attachments": {},
   "cell_type": "markdown",
   "metadata": {},
   "source": [
    "Let's skim `Presenting Problems at Enrollment` to see some of the presented problems"
   ]
  },
  {
   "cell_type": "code",
   "execution_count": 7,
   "metadata": {},
   "outputs": [
    {
     "data": {
      "text/plain": [
       "['Other: Court involvement and assault charge pending',\n",
       " 'Other: Negative self talk',\n",
       " 'Other: urinating and refusing to shower/eat',\n",
       " 'Other: Targeting Staff',\n",
       " 'Other: medical concerns',\n",
       " 'Other: Hoarding',\n",
       " 'Other: Excelled from school due to extreme aggression',\n",
       " 'Other: health issues',\n",
       " 'Other: Bobby is refusing to go to his medical appointments and he is drinking too much alcohol (beer). Bobby was arrested for public intoxication.',\n",
       " 'Other: Medication Consult ',\n",
       " 'Other: unsafe behaviors in community',\n",
       " 'Other: transitioned out of jail and court ordered respite for 90 days for aggression',\n",
       " 'Other: Substance Abuse',\n",
       " 'Other: Making false statement',\n",
       " 'Other: medical symptoms- intense increase in seizure activity',\n",
       " 'Other: Depression,irritability, sexualized behavior',\n",
       " 'Other: Transition from temporary placement',\n",
       " 'Other: Non-adherence to school routine',\n",
       " 'Other: trauma and ASD education in the home and school',\n",
       " 'Other: on probation']"
      ]
     },
     "execution_count": 7,
     "metadata": {},
     "output_type": "execute_result"
    }
   ],
   "source": [
    "random.choices(presenting_problems['Presenting Problems at Enrollment'].unique(), k = 20)"
   ]
  },
  {
   "attachments": {},
   "cell_type": "markdown",
   "metadata": {},
   "source": [
    "<font color = \"green\"> As we can see above the presented problems are all over the place. In the next section, we will focus on cleaning this column to narrow down the presented problems.  </font>"
   ]
  },
  {
   "cell_type": "markdown",
   "metadata": {},
   "source": [
    "# Data cleaning/preprocessing"
   ]
  },
  {
   "attachments": {},
   "cell_type": "markdown",
   "metadata": {},
   "source": [
    "Let's first rename `Presenting Problems at Enrollment` column to `presented_problems` for more readability."
   ]
  },
  {
   "cell_type": "code",
   "execution_count": 8,
   "metadata": {},
   "outputs": [
    {
     "data": {
      "text/plain": [
       "Index(['Client Local Id', 'START Coordinator', 'Region', 'presented_problems'], dtype='object')"
      ]
     },
     "execution_count": 8,
     "metadata": {},
     "output_type": "execute_result"
    }
   ],
   "source": [
    "# rename the column\n",
    "presenting_problems.rename(columns={'Presenting Problems at Enrollment': 'presented_problems'}, inplace=True)\n",
    "\n",
    "# confirm that the column was renamed successfully\n",
    "presenting_problems.columns"
   ]
  },
  {
   "cell_type": "code",
   "execution_count": 9,
   "metadata": {},
   "outputs": [
    {
     "data": {
      "text/plain": [
       "Aggression (physical, verbal, property destruction, threats)                                                                                        7427\n",
       "Family needs assistance                                                                                                                             4489\n",
       "Mental health symptoms                                                                                                                              4356\n",
       "Self-injurious                                                                                                                                      2640\n",
       "Diagnosis and treatment plan assistance                                                                                                             2246\n",
       "                                                                                                                                                    ... \n",
       "Other: Social Skills                                                                                                                                   1\n",
       "Other: over-eating                                                                                                                                     1\n",
       "Other: Individual will claim he has seizures to go to the hospital, although he does not have a history of any seizure activity and/or seizures.       1\n",
       "Other: Lack of paid and natural supports                                                                                                               1\n",
       "Other: High utilization of Emergency Services                                                                                                          1\n",
       "Name: presented_problems, Length: 734, dtype: int64"
      ]
     },
     "execution_count": 9,
     "metadata": {},
     "output_type": "execute_result"
    }
   ],
   "source": [
    "presenting_problems['presented_problems'].value_counts()"
   ]
  },
  {
   "attachments": {},
   "cell_type": "markdown",
   "metadata": {},
   "source": [
    "Now, let's turn all the presenting problems into lowercase to see add consistency."
   ]
  },
  {
   "cell_type": "code",
   "execution_count": 10,
   "metadata": {},
   "outputs": [
    {
     "data": {
      "text/html": [
       "<div>\n",
       "<style scoped>\n",
       "    .dataframe tbody tr th:only-of-type {\n",
       "        vertical-align: middle;\n",
       "    }\n",
       "\n",
       "    .dataframe tbody tr th {\n",
       "        vertical-align: top;\n",
       "    }\n",
       "\n",
       "    .dataframe thead th {\n",
       "        text-align: right;\n",
       "    }\n",
       "</style>\n",
       "<table border=\"1\" class=\"dataframe\">\n",
       "  <thead>\n",
       "    <tr style=\"text-align: right;\">\n",
       "      <th></th>\n",
       "      <th>Client Local Id</th>\n",
       "      <th>START Coordinator</th>\n",
       "      <th>Region</th>\n",
       "      <th>presented_problems</th>\n",
       "    </tr>\n",
       "  </thead>\n",
       "  <tbody>\n",
       "    <tr>\n",
       "      <th>29761</th>\n",
       "      <td>8621334</td>\n",
       "      <td>Natalie David</td>\n",
       "      <td>California : CA START San Diego</td>\n",
       "      <td>decrease in ability to participate in daily fu...</td>\n",
       "    </tr>\n",
       "    <tr>\n",
       "      <th>26425</th>\n",
       "      <td>6580564</td>\n",
       "      <td>Alexandra Roth</td>\n",
       "      <td>California : CA START San Andreas</td>\n",
       "      <td>family needs assistance</td>\n",
       "    </tr>\n",
       "  </tbody>\n",
       "</table>\n",
       "</div>"
      ],
      "text/plain": [
       "      Client Local Id START Coordinator                             Region  \\\n",
       "29761         8621334     Natalie David    California : CA START San Diego   \n",
       "26425         6580564    Alexandra Roth  California : CA START San Andreas   \n",
       "\n",
       "                                      presented_problems  \n",
       "29761  decrease in ability to participate in daily fu...  \n",
       "26425                            family needs assistance  "
      ]
     },
     "execution_count": 10,
     "metadata": {},
     "output_type": "execute_result"
    }
   ],
   "source": [
    "presenting_problems['presented_problems'] = presenting_problems['presented_problems'].str.lower()\n",
    "presenting_problems.sample(2)"
   ]
  },
  {
   "cell_type": "code",
   "execution_count": 11,
   "metadata": {},
   "outputs": [
    {
     "data": {
      "text/plain": [
       "array(['aggression (physical, verbal, property destruction, threats)',\n",
       "       'mental health symptoms', 'self-injurious ',\n",
       "       'decrease in ability to participate in daily functions',\n",
       "       'leaving unexpectedly', 'diagnosis and treatment plan assistance',\n",
       "       'family needs assistance', 'at risk of losing placement',\n",
       "       'sexualized behavior', 'suicidal ideation',\n",
       "       'transition from hospital', 'suicidal action'], dtype=object)"
      ]
     },
     "execution_count": 11,
     "metadata": {},
     "output_type": "execute_result"
    },
    {
     "name": "stdout",
     "output_type": "stream",
     "text": [
      "The number of rows in the presenting_problems dataframe before dropping 'other' is: 31014\n",
      "The number of rows in the presenting_problems dataframe after dropping 'other' is: 30011\n",
      "The number of unique presenting problems before dropping 'other' is: 704\n",
      "The number of unique presenting problems after dropping 'other' is: 12\n"
     ]
    }
   ],
   "source": [
    "# subset to rows that do not contain 'other:' for presented problems\n",
    "presenting_problems_no_other = presenting_problems[~presenting_problems[\"presented_problems\"].str.contains('other:')].copy()\n",
    "presenting_problems_no_other.presented_problems.unique()\n",
    "\n",
    "print(f\"The number of rows in the presenting_problems dataframe before dropping 'other' is: {presenting_problems.shape[0]}\")\n",
    "print(f\"The number of rows in the presenting_problems dataframe after dropping 'other' is: {presenting_problems_no_other.shape[0]}\")\n",
    "print(f\"The number of unique presenting problems before dropping 'other' is: {presenting_problems.presented_problems.nunique()}\")\n",
    "print(f\"The number of unique presenting problems after dropping 'other' is: {presenting_problems_no_other.presented_problems.nunique()}\")"
   ]
  },
  {
   "attachments": {},
   "cell_type": "markdown",
   "metadata": {},
   "source": [
    "Let's see how many rows we are losing by removing presented problems that start with `other:`"
   ]
  },
  {
   "cell_type": "code",
   "execution_count": 12,
   "metadata": {},
   "outputs": [
    {
     "name": "stdout",
     "output_type": "stream",
     "text": [
      "Retention Rate After Dropping 'Other': 96.77%\n"
     ]
    }
   ],
   "source": [
    "print(f\"Retention Rate After Dropping 'Other': {round(100*presenting_problems_no_other.shape[0]/presenting_problems.shape[0], 2)}%\")"
   ]
  },
  {
   "cell_type": "markdown",
   "metadata": {},
   "source": [
    "A retention rate of 96.77% is really good, so we will stick with the 12 unique presented problems. Now, we will write a function to parse the `Region` variable to `state` and `region`"
   ]
  },
  {
   "cell_type": "code",
   "execution_count": 13,
   "metadata": {},
   "outputs": [
    {
     "data": {
      "text/html": [
       "<div>\n",
       "<style scoped>\n",
       "    .dataframe tbody tr th:only-of-type {\n",
       "        vertical-align: middle;\n",
       "    }\n",
       "\n",
       "    .dataframe tbody tr th {\n",
       "        vertical-align: top;\n",
       "    }\n",
       "\n",
       "    .dataframe thead th {\n",
       "        text-align: right;\n",
       "    }\n",
       "</style>\n",
       "<table border=\"1\" class=\"dataframe\">\n",
       "  <thead>\n",
       "    <tr style=\"text-align: right;\">\n",
       "      <th></th>\n",
       "      <th>Client Local Id</th>\n",
       "      <th>START Coordinator</th>\n",
       "      <th>Region</th>\n",
       "      <th>presented_problems</th>\n",
       "      <th>state</th>\n",
       "      <th>region_new</th>\n",
       "    </tr>\n",
       "  </thead>\n",
       "  <tbody>\n",
       "    <tr>\n",
       "      <th>16437</th>\n",
       "      <td>362583</td>\n",
       "      <td>Rebecca Rasnake</td>\n",
       "      <td>New York : Region 1</td>\n",
       "      <td>at risk of losing placement</td>\n",
       "      <td>new york</td>\n",
       "      <td>region 1</td>\n",
       "    </tr>\n",
       "    <tr>\n",
       "      <th>18418</th>\n",
       "      <td>390426</td>\n",
       "      <td>Alicia Mitchell</td>\n",
       "      <td>New York : Region 4 Tri-Borough - Queens</td>\n",
       "      <td>aggression (physical, verbal, property destruc...</td>\n",
       "      <td>new york</td>\n",
       "      <td>region 4 tri-borough - queens</td>\n",
       "    </tr>\n",
       "    <tr>\n",
       "      <th>9242</th>\n",
       "      <td>210735</td>\n",
       "      <td>Andre Huggins</td>\n",
       "      <td>New York : Region 4 Tri-Borough - Manhattan</td>\n",
       "      <td>aggression (physical, verbal, property destruc...</td>\n",
       "      <td>new york</td>\n",
       "      <td>region 4 tri-borough - manhattan</td>\n",
       "    </tr>\n",
       "  </tbody>\n",
       "</table>\n",
       "</div>"
      ],
      "text/plain": [
       "      Client Local Id START Coordinator  \\\n",
       "16437          362583   Rebecca Rasnake   \n",
       "18418          390426   Alicia Mitchell   \n",
       "9242           210735     Andre Huggins   \n",
       "\n",
       "                                            Region  \\\n",
       "16437                          New York : Region 1   \n",
       "18418     New York : Region 4 Tri-Borough - Queens   \n",
       "9242   New York : Region 4 Tri-Borough - Manhattan   \n",
       "\n",
       "                                      presented_problems     state  \\\n",
       "16437                        at risk of losing placement  new york   \n",
       "18418  aggression (physical, verbal, property destruc...  new york   \n",
       "9242   aggression (physical, verbal, property destruc...  new york   \n",
       "\n",
       "                             region_new  \n",
       "16437                          region 1  \n",
       "18418     region 4 tri-borough - queens  \n",
       "9242   region 4 tri-borough - manhattan  "
      ]
     },
     "execution_count": 13,
     "metadata": {},
     "output_type": "execute_result"
    }
   ],
   "source": [
    "def parse_region(row):\n",
    "    \"\"\"\n",
    "    Parse a string in the format \"<state>: <region>\" and return a tuple\n",
    "    containing the state and region.\n",
    "    \n",
    "    Parameters:\n",
    "    row (str): A string in the format \"<state> : <region>\".\n",
    "    \n",
    "    Returns:\n",
    "    A tuple containing the parsed state and region.\n",
    "    \"\"\"\n",
    "    state, region = row.lower().split(':')\n",
    "    return state.strip(), region.strip()\n",
    "\n",
    "# apply the function on the demographics, presenting_problems_no_other, and emergency_crisis_services dataframes\n",
    "presenting_problems_no_other.loc[:, ['state', 'region_new']] = presenting_problems_no_other['Region'].apply(parse_region).tolist()\n",
    "demographics.loc[:, ['state', 'region_new']] = demographics['Region'].apply(parse_region).tolist()\n",
    "\n",
    "# sample from the presenting_problems_no_other dataframe\n",
    "presenting_problems_no_other.sample(3)"
   ]
  },
  {
   "cell_type": "code",
   "execution_count": 14,
   "metadata": {},
   "outputs": [
    {
     "data": {
      "text/plain": [
       "array(['iowa', 'north carolina', 'texas', 'new york', 'california',\n",
       "       'colorado', 'new hampshire', 'maryland'], dtype=object)"
      ]
     },
     "execution_count": 14,
     "metadata": {},
     "output_type": "execute_result"
    }
   ],
   "source": [
    "# check all the unique states in the presenting_problems_no_other dataframe\n",
    "presenting_problems_no_other.state.unique()"
   ]
  },
  {
   "cell_type": "markdown",
   "metadata": {},
   "source": [
    "Next, we will merge the `demographic` and `presenting_problems_no_other` dataframes using the `Client ID`."
   ]
  },
  {
   "cell_type": "code",
   "execution_count": 18,
   "metadata": {},
   "outputs": [
    {
     "name": "stdout",
     "output_type": "stream",
     "text": [
      "the shape of the presenting_problems_no_other dataframe is (30011, 6)\n",
      "the shape of the demographics dataframe is (4986, 50)\n",
      "the shape of the demographics_problems_merged dataframe is (17808, 57)\n",
      "the retention rate after merging the demographics and presenting_problems_no_other dataframes is 59.34%\n"
     ]
    }
   ],
   "source": [
    "demographics_problems_merged = presenting_problems_no_other.merge(demographics, left_on='Client Local Id', right_on='Local ID',\n",
    "                                                                  how='inner', suffixes=('_presenting_problems', '_demographics'), \n",
    "                                                                  indicator = True).drop_duplicates()\n",
    "\n",
    "print(f'the shape of the presenting_problems_no_other dataframe is {presenting_problems_no_other.shape}')\n",
    "print(f'the shape of the demographics dataframe is {demographics.shape}')\n",
    "print(f'the shape of the demographics_problems_merged dataframe is {demographics_problems_merged.shape}')\n",
    "print(f'the retention rate after merging the demographics and presenting_problems_no_other dataframes is {round(100*demographics_problems_merged.shape[0]/presenting_problems_no_other.shape[0], 2)}%')"
   ]
  },
  {
   "attachments": {},
   "cell_type": "markdown",
   "metadata": {},
   "source": [
    "We can see that the rows for the `presenting_problems_no_other` is reduced from 30,011 to 17,808. We have lost about 40.66% of our data during the merge process. This is due to the lack of match in the clients' unique ID in the demographic dataset."
   ]
  },
  {
   "cell_type": "code",
   "execution_count": 19,
   "metadata": {},
   "outputs": [
    {
     "data": {
      "text/html": [
       "<div>\n",
       "<style scoped>\n",
       "    .dataframe tbody tr th:only-of-type {\n",
       "        vertical-align: middle;\n",
       "    }\n",
       "\n",
       "    .dataframe tbody tr th {\n",
       "        vertical-align: top;\n",
       "    }\n",
       "\n",
       "    .dataframe thead th {\n",
       "        text-align: right;\n",
       "    }\n",
       "</style>\n",
       "<table border=\"1\" class=\"dataframe\">\n",
       "  <thead>\n",
       "    <tr style=\"text-align: right;\">\n",
       "      <th></th>\n",
       "      <th>Client Local Id</th>\n",
       "      <th>START Coordinator</th>\n",
       "      <th>Region_presenting_problems</th>\n",
       "      <th>presented_problems</th>\n",
       "      <th>state_presenting_problems</th>\n",
       "      <th>region_new_presenting_problems</th>\n",
       "      <th>Local ID</th>\n",
       "      <th>Region_demographics</th>\n",
       "      <th>County</th>\n",
       "      <th>Start Coordinator</th>\n",
       "      <th>...</th>\n",
       "      <th>Employment Status at Enrollment</th>\n",
       "      <th>Grade In School</th>\n",
       "      <th>Current IEP</th>\n",
       "      <th>Current 504 Plan</th>\n",
       "      <th>School Setting</th>\n",
       "      <th>Custody Status</th>\n",
       "      <th>Child Lives With</th>\n",
       "      <th>state_demographics</th>\n",
       "      <th>region_new_demographics</th>\n",
       "      <th>_merge</th>\n",
       "    </tr>\n",
       "  </thead>\n",
       "  <tbody>\n",
       "    <tr>\n",
       "      <th>17626</th>\n",
       "      <td>972015W</td>\n",
       "      <td>Carolyn Martin</td>\n",
       "      <td>North Carolina : West</td>\n",
       "      <td>mental health symptoms</td>\n",
       "      <td>north carolina</td>\n",
       "      <td>west</td>\n",
       "      <td>972015W</td>\n",
       "      <td>North Carolina : West</td>\n",
       "      <td>Mecklenburg</td>\n",
       "      <td>Carolyn Martin</td>\n",
       "      <td>...</td>\n",
       "      <td>Day/vocational program</td>\n",
       "      <td>Grade 11</td>\n",
       "      <td>Yes: 1969-12-31</td>\n",
       "      <td>No</td>\n",
       "      <td>Separate classroom</td>\n",
       "      <td>Child protective services custody</td>\n",
       "      <td>Residential staff</td>\n",
       "      <td>north carolina</td>\n",
       "      <td>west</td>\n",
       "      <td>both</td>\n",
       "    </tr>\n",
       "    <tr>\n",
       "      <th>12794</th>\n",
       "      <td>437808</td>\n",
       "      <td>Anaica Allen</td>\n",
       "      <td>New York : Region 4 Tri-Borough - Queens</td>\n",
       "      <td>self-injurious</td>\n",
       "      <td>new york</td>\n",
       "      <td>region 4 tri-borough - queens</td>\n",
       "      <td>437808</td>\n",
       "      <td>New York : Region 4 Tri-Borough - Queens</td>\n",
       "      <td>Queens</td>\n",
       "      <td>Anaica Allen</td>\n",
       "      <td>...</td>\n",
       "      <td>Not employed</td>\n",
       "      <td>Not in school</td>\n",
       "      <td>Yes: 2019-12-31</td>\n",
       "      <td>No</td>\n",
       "      <td>Other: Ungraded (6:1:1)</td>\n",
       "      <td>Other: New York State warden</td>\n",
       "      <td>Other: Lives in OPWDD facility</td>\n",
       "      <td>new york</td>\n",
       "      <td>region 4 tri-borough - queens</td>\n",
       "      <td>both</td>\n",
       "    </tr>\n",
       "    <tr>\n",
       "      <th>15466</th>\n",
       "      <td>6584447</td>\n",
       "      <td>Dante Collins</td>\n",
       "      <td>California : CA START San Andreas</td>\n",
       "      <td>diagnosis and treatment plan assistance</td>\n",
       "      <td>california</td>\n",
       "      <td>ca start san andreas</td>\n",
       "      <td>6584447</td>\n",
       "      <td>California : CA START San Andreas</td>\n",
       "      <td>Santa Clara</td>\n",
       "      <td>Dante Collins</td>\n",
       "      <td>...</td>\n",
       "      <td>NaN</td>\n",
       "      <td>Grade 10</td>\n",
       "      <td>Yes: 2019-04-23</td>\n",
       "      <td>No</td>\n",
       "      <td>Other: Special Day Classroom</td>\n",
       "      <td>Other: Lives in Professional Parent home via U...</td>\n",
       "      <td>Other: Professional Parent</td>\n",
       "      <td>california</td>\n",
       "      <td>ca start san andreas</td>\n",
       "      <td>both</td>\n",
       "    </tr>\n",
       "  </tbody>\n",
       "</table>\n",
       "<p>3 rows × 57 columns</p>\n",
       "</div>"
      ],
      "text/plain": [
       "      Client Local Id START Coordinator  \\\n",
       "17626         972015W    Carolyn Martin   \n",
       "12794          437808      Anaica Allen   \n",
       "15466         6584447     Dante Collins   \n",
       "\n",
       "                     Region_presenting_problems  \\\n",
       "17626                     North Carolina : West   \n",
       "12794  New York : Region 4 Tri-Borough - Queens   \n",
       "15466         California : CA START San Andreas   \n",
       "\n",
       "                            presented_problems state_presenting_problems  \\\n",
       "17626                   mental health symptoms            north carolina   \n",
       "12794                          self-injurious                   new york   \n",
       "15466  diagnosis and treatment plan assistance                california   \n",
       "\n",
       "      region_new_presenting_problems Local ID  \\\n",
       "17626                           west  972015W   \n",
       "12794  region 4 tri-borough - queens   437808   \n",
       "15466           ca start san andreas  6584447   \n",
       "\n",
       "                            Region_demographics       County  \\\n",
       "17626                     North Carolina : West  Mecklenburg   \n",
       "12794  New York : Region 4 Tri-Borough - Queens       Queens   \n",
       "15466         California : CA START San Andreas  Santa Clara   \n",
       "\n",
       "      Start Coordinator  ... Employment Status at Enrollment Grade In School  \\\n",
       "17626    Carolyn Martin  ...          Day/vocational program        Grade 11   \n",
       "12794      Anaica Allen  ...                    Not employed   Not in school   \n",
       "15466     Dante Collins  ...                             NaN        Grade 10   \n",
       "\n",
       "           Current IEP Current 504 Plan                School Setting  \\\n",
       "17626  Yes: 1969-12-31               No            Separate classroom   \n",
       "12794  Yes: 2019-12-31               No       Other: Ungraded (6:1:1)   \n",
       "15466  Yes: 2019-04-23               No  Other: Special Day Classroom   \n",
       "\n",
       "                                          Custody Status  \\\n",
       "17626                  Child protective services custody   \n",
       "12794                       Other: New York State warden   \n",
       "15466  Other: Lives in Professional Parent home via U...   \n",
       "\n",
       "                     Child Lives With state_demographics  \\\n",
       "17626               Residential staff     north carolina   \n",
       "12794  Other: Lives in OPWDD facility           new york   \n",
       "15466      Other: Professional Parent         california   \n",
       "\n",
       "             region_new_demographics _merge  \n",
       "17626                           west   both  \n",
       "12794  region 4 tri-borough - queens   both  \n",
       "15466           ca start san andreas   both  \n",
       "\n",
       "[3 rows x 57 columns]"
      ]
     },
     "execution_count": 19,
     "metadata": {},
     "output_type": "execute_result"
    },
    {
     "data": {
      "text/plain": [
       "(17808, 57)"
      ]
     },
     "execution_count": 19,
     "metadata": {},
     "output_type": "execute_result"
    }
   ],
   "source": [
    "demographics_problems_merged.sample(3)\n",
    "demographics_problems_merged.shape"
   ]
  },
  {
   "cell_type": "code",
   "execution_count": 20,
   "metadata": {},
   "outputs": [
    {
     "name": "stdout",
     "output_type": "stream",
     "text": [
      "Data type for the date variable: datetime64[ns]\n"
     ]
    },
    {
     "data": {
      "text/html": [
       "<div>\n",
       "<style scoped>\n",
       "    .dataframe tbody tr th:only-of-type {\n",
       "        vertical-align: middle;\n",
       "    }\n",
       "\n",
       "    .dataframe tbody tr th {\n",
       "        vertical-align: top;\n",
       "    }\n",
       "\n",
       "    .dataframe thead th {\n",
       "        text-align: right;\n",
       "    }\n",
       "</style>\n",
       "<table border=\"1\" class=\"dataframe\">\n",
       "  <thead>\n",
       "    <tr style=\"text-align: right;\">\n",
       "      <th></th>\n",
       "      <th>enrollment_date</th>\n",
       "      <th>enrollment_ym_derived</th>\n",
       "      <th>enrollment_year</th>\n",
       "    </tr>\n",
       "  </thead>\n",
       "  <tbody>\n",
       "    <tr>\n",
       "      <th>2816</th>\n",
       "      <td>2018-08-27</td>\n",
       "      <td>2018-08-01</td>\n",
       "      <td>2018</td>\n",
       "    </tr>\n",
       "    <tr>\n",
       "      <th>7852</th>\n",
       "      <td>2017-05-12</td>\n",
       "      <td>2017-05-01</td>\n",
       "      <td>2017</td>\n",
       "    </tr>\n",
       "    <tr>\n",
       "      <th>6733</th>\n",
       "      <td>2020-08-12</td>\n",
       "      <td>2020-08-01</td>\n",
       "      <td>2020</td>\n",
       "    </tr>\n",
       "  </tbody>\n",
       "</table>\n",
       "</div>"
      ],
      "text/plain": [
       "     enrollment_date enrollment_ym_derived  enrollment_year\n",
       "2816      2018-08-27            2018-08-01             2018\n",
       "7852      2017-05-12            2017-05-01             2017\n",
       "6733      2020-08-12            2020-08-01             2020"
      ]
     },
     "execution_count": 20,
     "metadata": {},
     "output_type": "execute_result"
    }
   ],
   "source": [
    "# convert to datetime format and save in enrollment_date\n",
    "demographics_problems_merged['enrollment_date'] = pd.to_datetime(demographics_problems_merged['Date Enrolled in START'])\n",
    "print(f\"Data type for the date variable: {demographics_problems_merged['enrollment_date'].dtype}\")\n",
    "\n",
    "# round down to the first of the month and year\n",
    "demographics_problems_merged['enrollment_ym_derived'] = demographics_problems_merged.enrollment_date.dt.to_period('M').dt.to_timestamp(how='start')\n",
    "\n",
    "# create a new column for the year\n",
    "demographics_problems_merged['enrollment_year'] = pd.DatetimeIndex(demographics_problems_merged['enrollment_date']).year\n",
    "\n",
    "demographics_problems_merged[['enrollment_date', 'enrollment_ym_derived', 'enrollment_year']].sample(3)"
   ]
  },
  {
   "cell_type": "code",
   "execution_count": 21,
   "metadata": {},
   "outputs": [
    {
     "data": {
      "text/plain": [
       "Mild                   7883\n",
       "Moderate               4927\n",
       "Severe                 1250\n",
       "Normal intelligence    1211\n",
       "Borderline              982\n",
       "Profound                220\n",
       "Name: disability_level, dtype: int64"
      ]
     },
     "execution_count": 21,
     "metadata": {},
     "output_type": "execute_result"
    }
   ],
   "source": [
    "# renaming the disability level column\n",
    "demographics_problems_merged.rename(columns={'Level of Intellectual Disability': 'disability_level'}, inplace=True)\n",
    "\n",
    "# remove the rows where 'disability_level' is 'None noted'\n",
    "demographics_problems_merged = demographics_problems_merged[demographics_problems_merged[\"disability_level\"] != 'None noted']\n",
    "demographics_problems_merged.disability_level.value_counts()"
   ]
  },
  {
   "cell_type": "code",
   "execution_count": 22,
   "metadata": {},
   "outputs": [
    {
     "data": {
      "text/plain": [
       "CategoricalDtype(categories=['Normal intelligence', 'Borderline', 'Mild', 'Moderate',\n",
       "                  'Severe', 'Profound'],\n",
       ", ordered=True)"
      ]
     },
     "execution_count": 22,
     "metadata": {},
     "output_type": "execute_result"
    }
   ],
   "source": [
    "# make the disability level column an ordered factor variable\n",
    "disability_levels_ordered = ['Normal intelligence', 'Borderline', 'Mild', 'Moderate', 'Severe', 'Profound']\n",
    "\n",
    "# convert disability_level to ordered categorical variable\n",
    "demographics_problems_merged['disability_level_ordered'] = pd.Categorical(demographics_problems_merged['disability_level'], \n",
    "                                                                          categories = disability_levels_ordered, ordered = True)\n",
    "\n",
    "# check the data type of the disability_level_ordered column\n",
    "demographics_problems_merged['disability_level_ordered'].dtype"
   ]
  },
  {
   "cell_type": "code",
   "execution_count": 23,
   "metadata": {},
   "outputs": [
    {
     "data": {
      "text/plain": [
       "Male      11041\n",
       "Female     5366\n",
       "Name: Gender, dtype: int64"
      ]
     },
     "execution_count": 23,
     "metadata": {},
     "output_type": "execute_result"
    }
   ],
   "source": [
    "# remove the rows where 'Gender' starts with 'other'\n",
    "demographics_problems_merged = demographics_problems_merged[~demographics_problems_merged[\"Gender\"].str.contains('Other:')]\n",
    "demographics_problems_merged.Gender.value_counts()"
   ]
  },
  {
   "cell_type": "code",
   "execution_count": 24,
   "metadata": {},
   "outputs": [
    {
     "name": "stdout",
     "output_type": "stream",
     "text": [
      "There are 61 columns in the demographics_problems_merged dataframe.\n"
     ]
    }
   ],
   "source": [
    "print(f'There are {len(demographics_problems_merged.columns)} columns in the demographics_problems_merged dataframe.')"
   ]
  },
  {
   "cell_type": "code",
   "execution_count": 25,
   "metadata": {},
   "outputs": [
    {
     "data": {
      "text/plain": [
       "Index(['Client Local Id', 'START Coordinator', 'Region_presenting_problems',\n",
       "       'presented_problems', 'state_presenting_problems',\n",
       "       'region_new_presenting_problems', 'Local ID', 'Region_demographics',\n",
       "       'County', 'Start Coordinator', 'Date Enrolled in START', 'Status',\n",
       "       'Status Date', 'Time Enrolled in START', 'Source of referral to START',\n",
       "       'Suitability of enrollment in START',\n",
       "       'Individual/Caregiver reliable access to technology',\n",
       "       'Presenting problems at time of enrollment', 'Services at Enrollment',\n",
       "       'Date of birth', 'Gender', 'Race', 'Ethnicity', 'disability_level',\n",
       "       'Current living situation at enrollment to START',\n",
       "       'More than one living situation over the last 5 years?',\n",
       "       'More than one living situation over the last year?',\n",
       "       'Psychiatric hospitalization in past year (at enrollment to START)',\n",
       "       'Psychiatric hospitalizations in past 1 - 5 years (at enrollment to START)',\n",
       "       'Emergency department visits in past year (at enrollment to START)',\n",
       "       'Emergency department visits in past 1-5 years (at enrollment to START)',\n",
       "       'Law enforcement encounters in past year (at enrollment to START)',\n",
       "       'Law enforcement encounters in past 1 - 5 years (at enrollment to START)',\n",
       "       'Psychiatric diagnoses', 'Medical diagnoses', 'Other Disabilities',\n",
       "       'Cause/etiology of disability',\n",
       "       'Who is the individual's primary caregiver?',\n",
       "       'Does the individual have a secondary caregiver?',\n",
       "       'Does the individual have a legal guardian?', 'Funding',\n",
       "       'History of Child Protective Services involvement in past year (at enrollment to START)',\n",
       "       'History of Child Protective Services involvement in lifetime (at enrollment to START)',\n",
       "       'State sponsored ICF/DD stay in past year (at enrollment to START)',\n",
       "       'State sponsored ICF/DD stay in past 1 - 5 years (at enrollment to START)',\n",
       "       'Jailed in the past year (at enrollment to START)',\n",
       "       'Jailed in the past 1 - 5 years (at enrollment to START)',\n",
       "       'Employment Status at Enrollment', 'Grade In School', 'Current IEP',\n",
       "       'Current 504 Plan', 'School Setting', 'Custody Status',\n",
       "       'Child Lives With', 'state_demographics', 'region_new_demographics',\n",
       "       '_merge', 'enrollment_date', 'enrollment_ym_derived', 'enrollment_year',\n",
       "       'disability_level_ordered'],\n",
       "      dtype='object')"
      ]
     },
     "execution_count": 25,
     "metadata": {},
     "output_type": "execute_result"
    }
   ],
   "source": [
    "demographics_problems_merged.columns"
   ]
  },
  {
   "attachments": {},
   "cell_type": "markdown",
   "metadata": {},
   "source": [
    "Since the dataset an overwhelming number of columns, we will subset the data to only the columns we will need moving forward."
   ]
  },
  {
   "cell_type": "code",
   "execution_count": 26,
   "metadata": {},
   "outputs": [
    {
     "data": {
      "text/html": [
       "<div>\n",
       "<style scoped>\n",
       "    .dataframe tbody tr th:only-of-type {\n",
       "        vertical-align: middle;\n",
       "    }\n",
       "\n",
       "    .dataframe tbody tr th {\n",
       "        vertical-align: top;\n",
       "    }\n",
       "\n",
       "    .dataframe thead th {\n",
       "        text-align: right;\n",
       "    }\n",
       "</style>\n",
       "<table border=\"1\" class=\"dataframe\">\n",
       "  <thead>\n",
       "    <tr style=\"text-align: right;\">\n",
       "      <th></th>\n",
       "      <th>Local ID</th>\n",
       "      <th>state_demographics</th>\n",
       "      <th>enrollment_date</th>\n",
       "      <th>enrollment_ym_derived</th>\n",
       "      <th>enrollment_year</th>\n",
       "      <th>disability_level</th>\n",
       "      <th>disability_level_ordered</th>\n",
       "      <th>presented_problems</th>\n",
       "      <th>Gender</th>\n",
       "      <th>Ethnicity</th>\n",
       "    </tr>\n",
       "  </thead>\n",
       "  <tbody>\n",
       "    <tr>\n",
       "      <th>0</th>\n",
       "      <td>000083W</td>\n",
       "      <td>north carolina</td>\n",
       "      <td>2018-06-27</td>\n",
       "      <td>2018-06-01</td>\n",
       "      <td>2018</td>\n",
       "      <td>Mild</td>\n",
       "      <td>Mild</td>\n",
       "      <td>aggression (physical, verbal, property destruc...</td>\n",
       "      <td>Female</td>\n",
       "      <td>Not of Hispanic origin</td>\n",
       "    </tr>\n",
       "    <tr>\n",
       "      <th>1</th>\n",
       "      <td>000083W</td>\n",
       "      <td>north carolina</td>\n",
       "      <td>2018-06-27</td>\n",
       "      <td>2018-06-01</td>\n",
       "      <td>2018</td>\n",
       "      <td>Mild</td>\n",
       "      <td>Mild</td>\n",
       "      <td>decrease in ability to participate in daily fu...</td>\n",
       "      <td>Female</td>\n",
       "      <td>Not of Hispanic origin</td>\n",
       "    </tr>\n",
       "    <tr>\n",
       "      <th>2</th>\n",
       "      <td>000083W</td>\n",
       "      <td>north carolina</td>\n",
       "      <td>2018-06-27</td>\n",
       "      <td>2018-06-01</td>\n",
       "      <td>2018</td>\n",
       "      <td>Mild</td>\n",
       "      <td>Mild</td>\n",
       "      <td>leaving unexpectedly</td>\n",
       "      <td>Female</td>\n",
       "      <td>Not of Hispanic origin</td>\n",
       "    </tr>\n",
       "  </tbody>\n",
       "</table>\n",
       "</div>"
      ],
      "text/plain": [
       "  Local ID state_demographics enrollment_date enrollment_ym_derived  \\\n",
       "0  000083W     north carolina      2018-06-27            2018-06-01   \n",
       "1  000083W     north carolina      2018-06-27            2018-06-01   \n",
       "2  000083W     north carolina      2018-06-27            2018-06-01   \n",
       "\n",
       "   enrollment_year disability_level disability_level_ordered  \\\n",
       "0             2018             Mild                     Mild   \n",
       "1             2018             Mild                     Mild   \n",
       "2             2018             Mild                     Mild   \n",
       "\n",
       "                                  presented_problems  Gender  \\\n",
       "0  aggression (physical, verbal, property destruc...  Female   \n",
       "1  decrease in ability to participate in daily fu...  Female   \n",
       "2                               leaving unexpectedly  Female   \n",
       "\n",
       "                Ethnicity  \n",
       "0  Not of Hispanic origin  \n",
       "1  Not of Hispanic origin  \n",
       "2  Not of Hispanic origin  "
      ]
     },
     "execution_count": 26,
     "metadata": {},
     "output_type": "execute_result"
    },
    {
     "name": "stdout",
     "output_type": "stream",
     "text": [
      "The dataset changed from demographics_problems_merged with 61 columns to clean_merged with 10 columns.\n"
     ]
    }
   ],
   "source": [
    "# subset the demographics_problems_merged dataframe to the columns we need\n",
    "clean_merged = demographics_problems_merged[['Local ID', 'state_demographics', 'enrollment_date', \n",
    "                                             'enrollment_ym_derived', 'enrollment_year', 'disability_level',\n",
    "                                             'disability_level_ordered', 'presented_problems',\n",
    "                                             'Gender', 'Ethnicity']]\n",
    "\n",
    "clean_merged.head(3)\n",
    "print(f'The dataset changed from demographics_problems_merged with {demographics_problems_merged.shape[1]} columns to clean_merged with {clean_merged.shape[1]} columns.')"
   ]
  },
  {
   "cell_type": "code",
   "execution_count": 29,
   "metadata": {},
   "outputs": [],
   "source": [
    "# save the cleaned_merged dataframe to a pkl file\n",
    "clean_merged.to_pickle('../data/clean_presented_problems.pkl')"
   ]
  },
  {
   "cell_type": "code",
   "execution_count": null,
   "metadata": {},
   "outputs": [],
   "source": []
  }
 ],
 "metadata": {
  "kernelspec": {
   "display_name": "Python 3 (ipykernel)",
   "language": "python",
   "name": "python3"
  },
  "language_info": {
   "codemirror_mode": {
    "name": "ipython",
    "version": 3
   },
   "file_extension": ".py",
   "mimetype": "text/x-python",
   "name": "python",
   "nbconvert_exporter": "python",
   "pygments_lexer": "ipython3",
   "version": "3.9.12"
  },
  "vscode": {
   "interpreter": {
    "hash": "48a02c5e975c804dcf2278658419dc84d4068d13da7f0f36cd1aa7eb80cf5577"
   }
  }
 },
 "nbformat": 4,
 "nbformat_minor": 2
}
