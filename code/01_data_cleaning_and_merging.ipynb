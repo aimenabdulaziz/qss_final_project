{
 "cells": [
  {
   "cell_type": "markdown",
   "metadata": {},
   "source": [
    "# Import Packages"
   ]
  },
  {
   "cell_type": "code",
   "execution_count": 1,
   "metadata": {},
   "outputs": [],
   "source": [
    "import pandas as pd\n",
    "import numpy as np\n",
    "import random\n",
    "from plotnine import *\n",
    "import geopandas as gpd\n",
    "# import geoplot as gplt\n",
    "import statsmodels.formula.api as sm\n",
    "# repeated printouts\n",
    "from IPython.core.interactiveshell import InteractiveShell\n",
    "InteractiveShell.ast_node_interactivity = \"all\"\n",
    "\n",
    "# datetime \n",
    "from datetime import timedelta, date, datetime\n",
    "from dateutil.relativedelta import relativedelta"
   ]
  },
  {
   "cell_type": "markdown",
   "metadata": {},
   "source": [
    "# Load the raw data\n",
    "\n",
    "We are only loading the excel sheets we will use for our research purposes. The sheets we need are `Demographics`, `Presenting Problems`, `Emergency Crisis Services`."
   ]
  },
  {
   "cell_type": "code",
   "execution_count": 2,
   "metadata": {},
   "outputs": [],
   "source": [
    "# Read selected excel sheets into pandas dataframes and save in a dictionary\n",
    "file_path = '../input/Dartmouth Data Set.xlsx'\n",
    "sheet_names = ['Demographics', 'Presenting Problems', 'Emergency Crisis Services', 'living Situation change', 'In-patient admissions']\n",
    "\n",
    "# create an empty dictionary to store the sheet data\n",
    "sheet_data = {}\n",
    "\n",
    "# loop through each sheet name and read the corresponding sheet data into a pandas dataframe\n",
    "for sheet_name in sheet_names:\n",
    "    sheet_data[sheet_name] = pd.read_excel(file_path, sheet_name)"
   ]
  },
  {
   "cell_type": "markdown",
   "metadata": {},
   "source": [
    "# Save the data in variables and inspect them"
   ]
  },
  {
   "cell_type": "code",
   "execution_count": 3,
   "metadata": {},
   "outputs": [],
   "source": [
    "# Retrieve the dataframes from the dictionary and save them in variables\n",
    "demographics = sheet_data['Demographics']\n",
    "presenting_problems = sheet_data['Presenting Problems']\n",
    "emergency_crisis_services = sheet_data['Emergency Crisis Services']\n",
    "living_situation_change = sheet_data['living Situation change']\n",
    "in_patient_admissions = sheet_data['In-patient admissions']"
   ]
  },
  {
   "cell_type": "code",
   "execution_count": 4,
   "metadata": {},
   "outputs": [
    {
     "data": {
      "text/html": [
       "<div>\n",
       "<style scoped>\n",
       "    .dataframe tbody tr th:only-of-type {\n",
       "        vertical-align: middle;\n",
       "    }\n",
       "\n",
       "    .dataframe tbody tr th {\n",
       "        vertical-align: top;\n",
       "    }\n",
       "\n",
       "    .dataframe thead th {\n",
       "        text-align: right;\n",
       "    }\n",
       "</style>\n",
       "<table border=\"1\" class=\"dataframe\">\n",
       "  <thead>\n",
       "    <tr style=\"text-align: right;\">\n",
       "      <th></th>\n",
       "      <th>Local ID</th>\n",
       "      <th>Region</th>\n",
       "      <th>County</th>\n",
       "      <th>Start Coordinator</th>\n",
       "      <th>Date Enrolled in START</th>\n",
       "      <th>Status</th>\n",
       "      <th>Status Date</th>\n",
       "      <th>Time Enrolled in START</th>\n",
       "      <th>Source of referral to START</th>\n",
       "      <th>Suitability of enrollment in START</th>\n",
       "      <th>...</th>\n",
       "      <th>State sponsored ICF/DD stay in past 1 - 5 years (at enrollment to START)</th>\n",
       "      <th>Jailed in the past year (at enrollment to START)</th>\n",
       "      <th>Jailed in the past 1 - 5 years (at enrollment to START)</th>\n",
       "      <th>Employment Status at Enrollment</th>\n",
       "      <th>Grade In School</th>\n",
       "      <th>Current IEP</th>\n",
       "      <th>Current 504 Plan</th>\n",
       "      <th>School Setting</th>\n",
       "      <th>Custody Status</th>\n",
       "      <th>Child Lives With</th>\n",
       "    </tr>\n",
       "  </thead>\n",
       "  <tbody>\n",
       "    <tr>\n",
       "      <th>0</th>\n",
       "      <td>8085297</td>\n",
       "      <td>California : CA START East Bay</td>\n",
       "      <td>Contra Costa</td>\n",
       "      <td>Mary Akhuetie</td>\n",
       "      <td>2020-12-30</td>\n",
       "      <td>Active</td>\n",
       "      <td>2020-12-30</td>\n",
       "      <td>Business Hours (Monday - Friday 8am - 5pm)</td>\n",
       "      <td>Case Manager/Service Coordinator</td>\n",
       "      <td>Appropriate</td>\n",
       "      <td>...</td>\n",
       "      <td>No</td>\n",
       "      <td>No</td>\n",
       "      <td>No</td>\n",
       "      <td>Student</td>\n",
       "      <td>Grade 7</td>\n",
       "      <td>Yes: 2020-11-16</td>\n",
       "      <td>No</td>\n",
       "      <td>Special school-out of district</td>\n",
       "      <td>Parental custody</td>\n",
       "      <td>Parents</td>\n",
       "    </tr>\n",
       "    <tr>\n",
       "      <th>1</th>\n",
       "      <td>440987</td>\n",
       "      <td>New York : Region 3</td>\n",
       "      <td>Saratoga</td>\n",
       "      <td>Natalia Wolosen</td>\n",
       "      <td>2020-12-29</td>\n",
       "      <td>Inactive (stable functioning)</td>\n",
       "      <td>2021-08-09</td>\n",
       "      <td>Business Hours (Monday - Friday 8am - 5pm)</td>\n",
       "      <td>Case Manager/Service Coordinator</td>\n",
       "      <td>Appropriate</td>\n",
       "      <td>...</td>\n",
       "      <td>No</td>\n",
       "      <td>No</td>\n",
       "      <td>No</td>\n",
       "      <td>Student</td>\n",
       "      <td>Grade 11</td>\n",
       "      <td>No</td>\n",
       "      <td>No</td>\n",
       "      <td>Other: BOCES 4:1:2</td>\n",
       "      <td>Parental custody</td>\n",
       "      <td>Parents</td>\n",
       "    </tr>\n",
       "    <tr>\n",
       "      <th>2</th>\n",
       "      <td>8008815</td>\n",
       "      <td>California : CA START East Bay</td>\n",
       "      <td>Alameda</td>\n",
       "      <td>Sharon Cyrus-Savary</td>\n",
       "      <td>2020-12-29</td>\n",
       "      <td>Inactive (no longer requesting services)</td>\n",
       "      <td>2021-06-27</td>\n",
       "      <td>Business Hours (Monday - Friday 8am - 5pm)</td>\n",
       "      <td>Case Manager/Service Coordinator</td>\n",
       "      <td>Appropriate</td>\n",
       "      <td>...</td>\n",
       "      <td>No</td>\n",
       "      <td>No</td>\n",
       "      <td>No</td>\n",
       "      <td>Student</td>\n",
       "      <td>Grade 8</td>\n",
       "      <td>Yes: 2020-01-01</td>\n",
       "      <td>No</td>\n",
       "      <td>Special school-in district</td>\n",
       "      <td>Parental custody</td>\n",
       "      <td>Parents</td>\n",
       "    </tr>\n",
       "    <tr>\n",
       "      <th>3</th>\n",
       "      <td>220396</td>\n",
       "      <td>New York : Region 3</td>\n",
       "      <td>Albany</td>\n",
       "      <td>Matthew Wolcott</td>\n",
       "      <td>2020-12-29</td>\n",
       "      <td>Inactive (inappropriate for services)</td>\n",
       "      <td>2021-06-11</td>\n",
       "      <td>Business Hours (Monday - Friday 8am - 5pm)</td>\n",
       "      <td>Case Manager/Service Coordinator</td>\n",
       "      <td>Appropriate</td>\n",
       "      <td>...</td>\n",
       "      <td>No</td>\n",
       "      <td>No</td>\n",
       "      <td>No</td>\n",
       "      <td>Not employed</td>\n",
       "      <td>NaN</td>\n",
       "      <td>NaN</td>\n",
       "      <td>NaN</td>\n",
       "      <td>NaN</td>\n",
       "      <td>NaN</td>\n",
       "      <td>NaN</td>\n",
       "    </tr>\n",
       "    <tr>\n",
       "      <th>4</th>\n",
       "      <td>6570649</td>\n",
       "      <td>California : CA START San Andreas</td>\n",
       "      <td>Santa Cruz</td>\n",
       "      <td>Ilian Navarro</td>\n",
       "      <td>2020-12-29</td>\n",
       "      <td>Active</td>\n",
       "      <td>2020-12-29</td>\n",
       "      <td>Business Hours (Monday - Friday 8am - 5pm)</td>\n",
       "      <td>Case Manager/Service Coordinator</td>\n",
       "      <td>Appropriate</td>\n",
       "      <td>...</td>\n",
       "      <td>No</td>\n",
       "      <td>No</td>\n",
       "      <td>No</td>\n",
       "      <td>NaN</td>\n",
       "      <td>NaN</td>\n",
       "      <td>NaN</td>\n",
       "      <td>NaN</td>\n",
       "      <td>Other: COE Program Held at Cabrillo College</td>\n",
       "      <td>NaN</td>\n",
       "      <td>NaN</td>\n",
       "    </tr>\n",
       "  </tbody>\n",
       "</table>\n",
       "<p>5 rows × 48 columns</p>\n",
       "</div>"
      ],
      "text/plain": [
       "  Local ID                             Region        County  \\\n",
       "0  8085297     California : CA START East Bay  Contra Costa   \n",
       "1   440987                New York : Region 3      Saratoga   \n",
       "2  8008815     California : CA START East Bay       Alameda   \n",
       "3   220396                New York : Region 3        Albany   \n",
       "4  6570649  California : CA START San Andreas    Santa Cruz   \n",
       "\n",
       "     Start Coordinator Date Enrolled in START  \\\n",
       "0        Mary Akhuetie             2020-12-30   \n",
       "1      Natalia Wolosen             2020-12-29   \n",
       "2  Sharon Cyrus-Savary             2020-12-29   \n",
       "3      Matthew Wolcott             2020-12-29   \n",
       "4        Ilian Navarro             2020-12-29   \n",
       "\n",
       "                                     Status Status Date  \\\n",
       "0                                    Active  2020-12-30   \n",
       "1             Inactive (stable functioning)  2021-08-09   \n",
       "2  Inactive (no longer requesting services)  2021-06-27   \n",
       "3     Inactive (inappropriate for services)  2021-06-11   \n",
       "4                                    Active  2020-12-29   \n",
       "\n",
       "                       Time Enrolled in START  \\\n",
       "0  Business Hours (Monday - Friday 8am - 5pm)   \n",
       "1  Business Hours (Monday - Friday 8am - 5pm)   \n",
       "2  Business Hours (Monday - Friday 8am - 5pm)   \n",
       "3  Business Hours (Monday - Friday 8am - 5pm)   \n",
       "4  Business Hours (Monday - Friday 8am - 5pm)   \n",
       "\n",
       "        Source of referral to START Suitability of enrollment in START  ...  \\\n",
       "0  Case Manager/Service Coordinator                        Appropriate  ...   \n",
       "1  Case Manager/Service Coordinator                        Appropriate  ...   \n",
       "2  Case Manager/Service Coordinator                        Appropriate  ...   \n",
       "3  Case Manager/Service Coordinator                        Appropriate  ...   \n",
       "4  Case Manager/Service Coordinator                        Appropriate  ...   \n",
       "\n",
       "  State sponsored ICF/DD stay in past 1 - 5 years (at enrollment to START)  \\\n",
       "0                                                 No                         \n",
       "1                                                 No                         \n",
       "2                                                 No                         \n",
       "3                                                 No                         \n",
       "4                                                 No                         \n",
       "\n",
       "  Jailed in the past year (at enrollment to START)  \\\n",
       "0                                               No   \n",
       "1                                               No   \n",
       "2                                               No   \n",
       "3                                               No   \n",
       "4                                               No   \n",
       "\n",
       "  Jailed in the past 1 - 5 years (at enrollment to START)  \\\n",
       "0                                                 No        \n",
       "1                                                 No        \n",
       "2                                                 No        \n",
       "3                                                 No        \n",
       "4                                                 No        \n",
       "\n",
       "  Employment Status at Enrollment Grade In School      Current IEP  \\\n",
       "0                         Student         Grade 7  Yes: 2020-11-16   \n",
       "1                         Student        Grade 11               No   \n",
       "2                         Student         Grade 8  Yes: 2020-01-01   \n",
       "3                    Not employed             NaN              NaN   \n",
       "4                             NaN             NaN              NaN   \n",
       "\n",
       "  Current 504 Plan                                School Setting  \\\n",
       "0               No                Special school-out of district   \n",
       "1               No                            Other: BOCES 4:1:2   \n",
       "2               No                    Special school-in district   \n",
       "3              NaN                                           NaN   \n",
       "4              NaN  Other: COE Program Held at Cabrillo College    \n",
       "\n",
       "     Custody Status Child Lives With  \n",
       "0  Parental custody          Parents  \n",
       "1  Parental custody          Parents  \n",
       "2  Parental custody          Parents  \n",
       "3               NaN              NaN  \n",
       "4               NaN              NaN  \n",
       "\n",
       "[5 rows x 48 columns]"
      ]
     },
     "execution_count": 4,
     "metadata": {},
     "output_type": "execute_result"
    },
    {
     "data": {
      "text/plain": [
       "Index(['Local ID', 'Region', 'County', 'Start Coordinator',\n",
       "       'Date Enrolled in START', 'Status', 'Status Date',\n",
       "       'Time Enrolled in START', 'Source of referral to START',\n",
       "       'Suitability of enrollment in START',\n",
       "       'Individual/Caregiver reliable access to technology',\n",
       "       'Presenting problems at time of enrollment', 'Services at Enrollment',\n",
       "       'Date of birth', 'Gender', 'Race', 'Ethnicity',\n",
       "       'Level of Intellectual Disability',\n",
       "       'Current living situation at enrollment to START',\n",
       "       'More than one living situation over the last 5 years?',\n",
       "       'More than one living situation over the last year?',\n",
       "       'Psychiatric hospitalization in past year (at enrollment to START)',\n",
       "       'Psychiatric hospitalizations in past 1 - 5 years (at enrollment to START)',\n",
       "       'Emergency department visits in past year (at enrollment to START)',\n",
       "       'Emergency department visits in past 1-5 years (at enrollment to START)',\n",
       "       'Law enforcement encounters in past year (at enrollment to START)',\n",
       "       'Law enforcement encounters in past 1 - 5 years (at enrollment to START)',\n",
       "       'Psychiatric diagnoses', 'Medical diagnoses', 'Other Disabilities',\n",
       "       'Cause/etiology of disability',\n",
       "       'Who is the individual's primary caregiver?',\n",
       "       'Does the individual have a secondary caregiver?',\n",
       "       'Does the individual have a legal guardian?', 'Funding',\n",
       "       'History of Child Protective Services involvement in past year (at enrollment to START)',\n",
       "       'History of Child Protective Services involvement in lifetime (at enrollment to START)',\n",
       "       'State sponsored ICF/DD stay in past year (at enrollment to START)',\n",
       "       'State sponsored ICF/DD stay in past 1 - 5 years (at enrollment to START)',\n",
       "       'Jailed in the past year (at enrollment to START)',\n",
       "       'Jailed in the past 1 - 5 years (at enrollment to START)',\n",
       "       'Employment Status at Enrollment', 'Grade In School', 'Current IEP',\n",
       "       'Current 504 Plan', 'School Setting', 'Custody Status',\n",
       "       'Child Lives With'],\n",
       "      dtype='object')"
      ]
     },
     "execution_count": 4,
     "metadata": {},
     "output_type": "execute_result"
    },
    {
     "name": "stdout",
     "output_type": "stream",
     "text": [
      "<class 'pandas.core.frame.DataFrame'>\n",
      "RangeIndex: 4986 entries, 0 to 4985\n",
      "Data columns (total 48 columns):\n",
      " #   Column                                                                                  Non-Null Count  Dtype         \n",
      "---  ------                                                                                  --------------  -----         \n",
      " 0   Local ID                                                                                4986 non-null   object        \n",
      " 1   Region                                                                                  4986 non-null   object        \n",
      " 2   County                                                                                  4986 non-null   object        \n",
      " 3   Start Coordinator                                                                       4947 non-null   object        \n",
      " 4   Date Enrolled in START                                                                  4986 non-null   datetime64[ns]\n",
      " 5   Status                                                                                  4986 non-null   object        \n",
      " 6   Status Date                                                                             4986 non-null   datetime64[ns]\n",
      " 7   Time Enrolled in START                                                                  4893 non-null   object        \n",
      " 8   Source of referral to START                                                             4964 non-null   object        \n",
      " 9   Suitability of enrollment in START                                                      4986 non-null   object        \n",
      " 10  Individual/Caregiver reliable access to technology                                      863 non-null    object        \n",
      " 11  Presenting problems at time of enrollment                                               4958 non-null   object        \n",
      " 12  Services at Enrollment                                                                  4899 non-null   object        \n",
      " 13  Date of birth                                                                           4986 non-null   datetime64[ns]\n",
      " 14  Gender                                                                                  4986 non-null   object        \n",
      " 15  Race                                                                                    4986 non-null   object        \n",
      " 16  Ethnicity                                                                               4986 non-null   object        \n",
      " 17  Level of Intellectual Disability                                                        4985 non-null   object        \n",
      " 18  Current living situation at enrollment to START                                         4986 non-null   object        \n",
      " 19  More than one living situation over the last 5 years?                                   4986 non-null   object        \n",
      " 20  More than one living situation over the last year?                                      4023 non-null   object        \n",
      " 21  Psychiatric hospitalization in past year (at enrollment to START)                       4871 non-null   object        \n",
      " 22  Psychiatric hospitalizations in past 1 - 5 years (at enrollment to START)               4850 non-null   object        \n",
      " 23  Emergency department visits in past year (at enrollment to START)                       4859 non-null   object        \n",
      " 24  Emergency department visits in past 1-5 years (at enrollment to START)                  4843 non-null   object        \n",
      " 25  Law enforcement encounters in past year (at enrollment to START)                        29 non-null     object        \n",
      " 26  Law enforcement encounters in past 1 - 5 years (at enrollment to START)                 29 non-null     object        \n",
      " 27  Psychiatric diagnoses                                                                   4615 non-null   object        \n",
      " 28  Medical diagnoses                                                                       3171 non-null   object        \n",
      " 29  Other Disabilities                                                                      910 non-null    object        \n",
      " 30  Cause/etiology of disability                                                            964 non-null    object        \n",
      " 31  Who is the individual's primary caregiver?                                              4857 non-null   object        \n",
      " 32  Does the individual have a secondary caregiver?                                         4986 non-null   object        \n",
      " 33  Does the individual have a legal guardian?                                              4986 non-null   object        \n",
      " 34  Funding                                                                                 4904 non-null   object        \n",
      " 35  History of Child Protective Services involvement in past year (at enrollment to START)  4986 non-null   object        \n",
      " 36  History of Child Protective Services involvement in lifetime (at enrollment to START)   4986 non-null   object        \n",
      " 37  State sponsored ICF/DD stay in past year (at enrollment to START)                       4986 non-null   object        \n",
      " 38  State sponsored ICF/DD stay in past 1 - 5 years (at enrollment to START)                4986 non-null   object        \n",
      " 39  Jailed in the past year (at enrollment to START)                                        4986 non-null   object        \n",
      " 40  Jailed in the past 1 - 5 years (at enrollment to START)                                 4986 non-null   object        \n",
      " 41  Employment Status at Enrollment                                                         4750 non-null   object        \n",
      " 42  Grade In School                                                                         2803 non-null   object        \n",
      " 43  Current IEP                                                                             3669 non-null   object        \n",
      " 44  Current 504 Plan                                                                        3379 non-null   object        \n",
      " 45  School Setting                                                                          2068 non-null   object        \n",
      " 46  Custody Status                                                                          2339 non-null   object        \n",
      " 47  Child Lives With                                                                        2612 non-null   object        \n",
      "dtypes: datetime64[ns](3), object(45)\n",
      "memory usage: 1.8+ MB\n"
     ]
    }
   ],
   "source": [
    "# Explore the demographics dataframe\n",
    "demographics.head()\n",
    "demographics.columns\n",
    "demographics.info()"
   ]
  },
  {
   "cell_type": "code",
   "execution_count": 5,
   "metadata": {},
   "outputs": [
    {
     "data": {
      "text/html": [
       "<div>\n",
       "<style scoped>\n",
       "    .dataframe tbody tr th:only-of-type {\n",
       "        vertical-align: middle;\n",
       "    }\n",
       "\n",
       "    .dataframe tbody tr th {\n",
       "        vertical-align: top;\n",
       "    }\n",
       "\n",
       "    .dataframe thead th {\n",
       "        text-align: right;\n",
       "    }\n",
       "</style>\n",
       "<table border=\"1\" class=\"dataframe\">\n",
       "  <thead>\n",
       "    <tr style=\"text-align: right;\">\n",
       "      <th></th>\n",
       "      <th>Individual ID</th>\n",
       "      <th>Region</th>\n",
       "      <th>Date/Time of Contact</th>\n",
       "      <th>Source of Contact</th>\n",
       "      <th>Reason for Contact</th>\n",
       "      <th>Type of Emergency Response</th>\n",
       "      <th>Total episode length (initial call to disposition)</th>\n",
       "      <th>Total response time (initial call to arrival on-site)</th>\n",
       "      <th>Travel Time</th>\n",
       "      <th>Police Response</th>\n",
       "      <th>...</th>\n",
       "      <th>Restraints Used</th>\n",
       "      <th>If Restraints Were Used</th>\n",
       "      <th>Disposition</th>\n",
       "      <th>Disposition Information</th>\n",
       "      <th>Admitted through ED/CPEP</th>\n",
       "      <th>Date of Admission</th>\n",
       "      <th>Disposition Information (ER)</th>\n",
       "      <th>Did START response prevent higher level of care (hospital diversion)</th>\n",
       "      <th>RSQ Completed?</th>\n",
       "      <th>Entered By</th>\n",
       "    </tr>\n",
       "  </thead>\n",
       "  <tbody>\n",
       "    <tr>\n",
       "      <th>0</th>\n",
       "      <td>11153125</td>\n",
       "      <td>New Hampshire : Region 2 - Pathways/Claremont</td>\n",
       "      <td>2016-08-16 08:40:00</td>\n",
       "      <td>Case Manager/Service Coordinator</td>\n",
       "      <td>At risk of losing placement, Other, Self-injur...</td>\n",
       "      <td>Phone consultation only</td>\n",
       "      <td>15.0</td>\n",
       "      <td>NaN</td>\n",
       "      <td>NaN</td>\n",
       "      <td>No</td>\n",
       "      <td>...</td>\n",
       "      <td>No</td>\n",
       "      <td>NaN</td>\n",
       "      <td>Other: outpatient MH appt</td>\n",
       "      <td>NaN</td>\n",
       "      <td>No</td>\n",
       "      <td>NaT</td>\n",
       "      <td>NaN</td>\n",
       "      <td>No</td>\n",
       "      <td>No</td>\n",
       "      <td>Valarie Tetreault</td>\n",
       "    </tr>\n",
       "    <tr>\n",
       "      <th>1</th>\n",
       "      <td>11153125</td>\n",
       "      <td>New Hampshire : Region 2 - Pathways/Claremont</td>\n",
       "      <td>2018-04-27 15:00:00</td>\n",
       "      <td>Case Manager/Service Coordinator</td>\n",
       "      <td>Mental health symptoms, Self-injurious</td>\n",
       "      <td>In-person: Emergency room</td>\n",
       "      <td>60.0</td>\n",
       "      <td>240.0</td>\n",
       "      <td>60.0</td>\n",
       "      <td>No</td>\n",
       "      <td>...</td>\n",
       "      <td>No</td>\n",
       "      <td>NaN</td>\n",
       "      <td>START emergency resource center admission</td>\n",
       "      <td>NaN</td>\n",
       "      <td>No</td>\n",
       "      <td>NaT</td>\n",
       "      <td>NaN</td>\n",
       "      <td>Yes</td>\n",
       "      <td>No</td>\n",
       "      <td>Samantha L Field</td>\n",
       "    </tr>\n",
       "    <tr>\n",
       "      <th>2</th>\n",
       "      <td>11153125</td>\n",
       "      <td>New Hampshire : Region 2 - Pathways/Claremont</td>\n",
       "      <td>2018-06-05 16:00:00</td>\n",
       "      <td>Residential provider - Community</td>\n",
       "      <td>Mental health symptoms, Suicidal ideation/beha...</td>\n",
       "      <td>Other: phone and email</td>\n",
       "      <td>120.0</td>\n",
       "      <td>NaN</td>\n",
       "      <td>NaN</td>\n",
       "      <td>No</td>\n",
       "      <td>...</td>\n",
       "      <td>No</td>\n",
       "      <td>NaN</td>\n",
       "      <td>Psychiatric Hospital Admission</td>\n",
       "      <td>NaN</td>\n",
       "      <td>No</td>\n",
       "      <td>NaT</td>\n",
       "      <td>NaN</td>\n",
       "      <td>Yes</td>\n",
       "      <td>No</td>\n",
       "      <td>Samantha L Field</td>\n",
       "    </tr>\n",
       "    <tr>\n",
       "      <th>3</th>\n",
       "      <td>11158347</td>\n",
       "      <td>New Hampshire : Region 9 - Community Partners</td>\n",
       "      <td>2015-06-01 14:00:00</td>\n",
       "      <td>Family member</td>\n",
       "      <td>Diagnosis and treatment plan assistance, Other...</td>\n",
       "      <td>Phone consultation only</td>\n",
       "      <td>254.0</td>\n",
       "      <td>NaN</td>\n",
       "      <td>NaN</td>\n",
       "      <td>No</td>\n",
       "      <td>...</td>\n",
       "      <td>No</td>\n",
       "      <td>NaN</td>\n",
       "      <td>START emergency resource center admission</td>\n",
       "      <td>NaN</td>\n",
       "      <td>No</td>\n",
       "      <td>NaT</td>\n",
       "      <td>NaN</td>\n",
       "      <td>No</td>\n",
       "      <td>No</td>\n",
       "      <td>Valarie Tetreault</td>\n",
       "    </tr>\n",
       "    <tr>\n",
       "      <th>4</th>\n",
       "      <td>11158347</td>\n",
       "      <td>New Hampshire : Region 9 - Community Partners</td>\n",
       "      <td>2015-06-01 16:00:00</td>\n",
       "      <td>Family member</td>\n",
       "      <td>Aggression (physical, verbal, property destruc...</td>\n",
       "      <td>Phone consultation only</td>\n",
       "      <td>70.0</td>\n",
       "      <td>NaN</td>\n",
       "      <td>NaN</td>\n",
       "      <td>No</td>\n",
       "      <td>...</td>\n",
       "      <td>No</td>\n",
       "      <td>NaN</td>\n",
       "      <td>Maintain current setting</td>\n",
       "      <td>Planned Resource Center referral</td>\n",
       "      <td>No</td>\n",
       "      <td>NaT</td>\n",
       "      <td>NaN</td>\n",
       "      <td>No</td>\n",
       "      <td>No</td>\n",
       "      <td>Valarie Tetreault</td>\n",
       "    </tr>\n",
       "  </tbody>\n",
       "</table>\n",
       "<p>5 rows × 24 columns</p>\n",
       "</div>"
      ],
      "text/plain": [
       "  Individual ID                                         Region  \\\n",
       "0      11153125  New Hampshire : Region 2 - Pathways/Claremont   \n",
       "1      11153125  New Hampshire : Region 2 - Pathways/Claremont   \n",
       "2      11153125  New Hampshire : Region 2 - Pathways/Claremont   \n",
       "3      11158347  New Hampshire : Region 9 - Community Partners   \n",
       "4      11158347  New Hampshire : Region 9 - Community Partners   \n",
       "\n",
       "  Date/Time of Contact                 Source of Contact  \\\n",
       "0  2016-08-16 08:40:00  Case Manager/Service Coordinator   \n",
       "1  2018-04-27 15:00:00  Case Manager/Service Coordinator   \n",
       "2  2018-06-05 16:00:00  Residential provider - Community   \n",
       "3  2015-06-01 14:00:00                     Family member   \n",
       "4  2015-06-01 16:00:00                     Family member   \n",
       "\n",
       "                                  Reason for Contact  \\\n",
       "0  At risk of losing placement, Other, Self-injur...   \n",
       "1             Mental health symptoms, Self-injurious   \n",
       "2  Mental health symptoms, Suicidal ideation/beha...   \n",
       "3  Diagnosis and treatment plan assistance, Other...   \n",
       "4  Aggression (physical, verbal, property destruc...   \n",
       "\n",
       "  Type of Emergency Response  \\\n",
       "0    Phone consultation only   \n",
       "1  In-person: Emergency room   \n",
       "2     Other: phone and email   \n",
       "3    Phone consultation only   \n",
       "4    Phone consultation only   \n",
       "\n",
       "   Total episode length (initial call to disposition)  \\\n",
       "0                                               15.0    \n",
       "1                                               60.0    \n",
       "2                                              120.0    \n",
       "3                                              254.0    \n",
       "4                                               70.0    \n",
       "\n",
       "   Total response time (initial call to arrival on-site)  Travel Time  \\\n",
       "0                                                NaN              NaN   \n",
       "1                                              240.0             60.0   \n",
       "2                                                NaN              NaN   \n",
       "3                                                NaN              NaN   \n",
       "4                                                NaN              NaN   \n",
       "\n",
       "  Police Response  ... Restraints Used If Restraints Were Used  \\\n",
       "0              No  ...              No                     NaN   \n",
       "1              No  ...              No                     NaN   \n",
       "2              No  ...              No                     NaN   \n",
       "3              No  ...              No                     NaN   \n",
       "4              No  ...              No                     NaN   \n",
       "\n",
       "                                 Disposition  \\\n",
       "0                  Other: outpatient MH appt   \n",
       "1  START emergency resource center admission   \n",
       "2             Psychiatric Hospital Admission   \n",
       "3  START emergency resource center admission   \n",
       "4                   Maintain current setting   \n",
       "\n",
       "            Disposition Information Admitted through ED/CPEP  \\\n",
       "0                               NaN                       No   \n",
       "1                               NaN                       No   \n",
       "2                               NaN                       No   \n",
       "3                               NaN                       No   \n",
       "4  Planned Resource Center referral                       No   \n",
       "\n",
       "  Date of Admission Disposition Information (ER)  \\\n",
       "0               NaT                          NaN   \n",
       "1               NaT                          NaN   \n",
       "2               NaT                          NaN   \n",
       "3               NaT                          NaN   \n",
       "4               NaT                          NaN   \n",
       "\n",
       "  Did START response prevent higher level of care (hospital diversion)  \\\n",
       "0                                                 No                     \n",
       "1                                                Yes                     \n",
       "2                                                Yes                     \n",
       "3                                                 No                     \n",
       "4                                                 No                     \n",
       "\n",
       "  RSQ Completed?         Entered By  \n",
       "0             No  Valarie Tetreault  \n",
       "1             No   Samantha L Field  \n",
       "2             No   Samantha L Field  \n",
       "3             No  Valarie Tetreault  \n",
       "4             No  Valarie Tetreault  \n",
       "\n",
       "[5 rows x 24 columns]"
      ]
     },
     "execution_count": 5,
     "metadata": {},
     "output_type": "execute_result"
    },
    {
     "data": {
      "text/plain": [
       "Index(['Individual ID', 'Region', 'Date/Time of Contact', 'Source of Contact',\n",
       "       'Reason for Contact', 'Type of Emergency Response',\n",
       "       'Total episode length (initial call to disposition)',\n",
       "       'Total response time (initial call to arrival on-site)', 'Travel Time',\n",
       "       'Police Response', 'If Police Responded', 'Who Contacted Police?',\n",
       "       'Mobile Crisis', 'If Mobile Crisis', 'Restraints Used',\n",
       "       'If Restraints Were Used', 'Disposition', 'Disposition Information',\n",
       "       'Admitted through ED/CPEP', 'Date of Admission',\n",
       "       'Disposition Information (ER)',\n",
       "       'Did START response prevent higher level of care (hospital diversion)',\n",
       "       'RSQ Completed?', 'Entered By'],\n",
       "      dtype='object')"
      ]
     },
     "execution_count": 5,
     "metadata": {},
     "output_type": "execute_result"
    },
    {
     "name": "stdout",
     "output_type": "stream",
     "text": [
      "<class 'pandas.core.frame.DataFrame'>\n",
      "RangeIndex: 18168 entries, 0 to 18167\n",
      "Data columns (total 24 columns):\n",
      " #   Column                                                                Non-Null Count  Dtype         \n",
      "---  ------                                                                --------------  -----         \n",
      " 0   Individual ID                                                         18168 non-null  object        \n",
      " 1   Region                                                                18168 non-null  object        \n",
      " 2   Date/Time of Contact                                                  18168 non-null  datetime64[ns]\n",
      " 3   Source of Contact                                                     17780 non-null  object        \n",
      " 4   Reason for Contact                                                    17983 non-null  object        \n",
      " 5   Type of Emergency Response                                            17930 non-null  object        \n",
      " 6   Total episode length (initial call to disposition)                    17106 non-null  float64       \n",
      " 7   Total response time (initial call to arrival on-site)                 6722 non-null   float64       \n",
      " 8   Travel Time                                                           6448 non-null   float64       \n",
      " 9   Police Response                                                       18168 non-null  object        \n",
      " 10  If Police Responded                                                   2735 non-null   object        \n",
      " 11  Who Contacted Police?                                                 1950 non-null   object        \n",
      " 12  Mobile Crisis                                                         18168 non-null  object        \n",
      " 13  If Mobile Crisis                                                      443 non-null    object        \n",
      " 14  Restraints Used                                                       18168 non-null  object        \n",
      " 15  If Restraints Were Used                                               649 non-null    object        \n",
      " 16  Disposition                                                           17907 non-null  object        \n",
      " 17  Disposition Information                                               7428 non-null   object        \n",
      " 18  Admitted through ED/CPEP                                              18168 non-null  object        \n",
      " 19  Date of Admission                                                     380 non-null    datetime64[ns]\n",
      " 20  Disposition Information (ER)                                          1616 non-null   object        \n",
      " 21  Did START response prevent higher level of care (hospital diversion)  18168 non-null  object        \n",
      " 22  RSQ Completed?                                                        18168 non-null  object        \n",
      " 23  Entered By                                                            18168 non-null  object        \n",
      "dtypes: datetime64[ns](2), float64(3), object(19)\n",
      "memory usage: 3.3+ MB\n"
     ]
    }
   ],
   "source": [
    "# Explore the emergency crisis services dataframe\n",
    "emergency_crisis_services.head()\n",
    "emergency_crisis_services.columns\n",
    "emergency_crisis_services.info()"
   ]
  },
  {
   "cell_type": "code",
   "execution_count": 6,
   "metadata": {},
   "outputs": [
    {
     "data": {
      "text/html": [
       "<div>\n",
       "<style scoped>\n",
       "    .dataframe tbody tr th:only-of-type {\n",
       "        vertical-align: middle;\n",
       "    }\n",
       "\n",
       "    .dataframe tbody tr th {\n",
       "        vertical-align: top;\n",
       "    }\n",
       "\n",
       "    .dataframe thead th {\n",
       "        text-align: right;\n",
       "    }\n",
       "</style>\n",
       "<table border=\"1\" class=\"dataframe\">\n",
       "  <thead>\n",
       "    <tr style=\"text-align: right;\">\n",
       "      <th></th>\n",
       "      <th>Client Local Id</th>\n",
       "      <th>START Coordinator</th>\n",
       "      <th>Region</th>\n",
       "      <th>Presenting Problems at Enrollment</th>\n",
       "    </tr>\n",
       "  </thead>\n",
       "  <tbody>\n",
       "    <tr>\n",
       "      <th>0</th>\n",
       "      <td>1</td>\n",
       "      <td>Ashley Gruver</td>\n",
       "      <td>Iowa : County Social Services</td>\n",
       "      <td>Aggression (physical, verbal, property destruc...</td>\n",
       "    </tr>\n",
       "    <tr>\n",
       "      <th>1</th>\n",
       "      <td>1</td>\n",
       "      <td>Ashley Gruver</td>\n",
       "      <td>Iowa : County Social Services</td>\n",
       "      <td>Mental health symptoms</td>\n",
       "    </tr>\n",
       "    <tr>\n",
       "      <th>2</th>\n",
       "      <td>1</td>\n",
       "      <td>Ashley Gruver</td>\n",
       "      <td>Iowa : County Social Services</td>\n",
       "      <td>Self-injurious</td>\n",
       "    </tr>\n",
       "    <tr>\n",
       "      <th>3</th>\n",
       "      <td>000083W</td>\n",
       "      <td>Amy Huff</td>\n",
       "      <td>North Carolina : West</td>\n",
       "      <td>Aggression (physical, verbal, property destruc...</td>\n",
       "    </tr>\n",
       "    <tr>\n",
       "      <th>4</th>\n",
       "      <td>000083W</td>\n",
       "      <td>Amy Huff</td>\n",
       "      <td>North Carolina : West</td>\n",
       "      <td>Decrease in ability to participate in daily fu...</td>\n",
       "    </tr>\n",
       "  </tbody>\n",
       "</table>\n",
       "</div>"
      ],
      "text/plain": [
       "  Client Local Id START Coordinator                         Region  \\\n",
       "0               1     Ashley Gruver  Iowa : County Social Services   \n",
       "1               1     Ashley Gruver  Iowa : County Social Services   \n",
       "2               1     Ashley Gruver  Iowa : County Social Services   \n",
       "3         000083W          Amy Huff          North Carolina : West   \n",
       "4         000083W          Amy Huff          North Carolina : West   \n",
       "\n",
       "                   Presenting Problems at Enrollment  \n",
       "0  Aggression (physical, verbal, property destruc...  \n",
       "1                             Mental health symptoms  \n",
       "2                                    Self-injurious   \n",
       "3  Aggression (physical, verbal, property destruc...  \n",
       "4  Decrease in ability to participate in daily fu...  "
      ]
     },
     "execution_count": 6,
     "metadata": {},
     "output_type": "execute_result"
    },
    {
     "data": {
      "text/plain": [
       "Index(['Client Local Id', 'START Coordinator', 'Region',\n",
       "       'Presenting Problems at Enrollment'],\n",
       "      dtype='object')"
      ]
     },
     "execution_count": 6,
     "metadata": {},
     "output_type": "execute_result"
    },
    {
     "name": "stdout",
     "output_type": "stream",
     "text": [
      "<class 'pandas.core.frame.DataFrame'>\n",
      "RangeIndex: 31014 entries, 0 to 31013\n",
      "Data columns (total 4 columns):\n",
      " #   Column                             Non-Null Count  Dtype \n",
      "---  ------                             --------------  ----- \n",
      " 0   Client Local Id                    31014 non-null  object\n",
      " 1   START Coordinator                  29435 non-null  object\n",
      " 2   Region                             31014 non-null  object\n",
      " 3   Presenting Problems at Enrollment  31014 non-null  object\n",
      "dtypes: object(4)\n",
      "memory usage: 969.3+ KB\n"
     ]
    }
   ],
   "source": [
    "# Explore the presenting problems dataframe\n",
    "presenting_problems.head()\n",
    "presenting_problems.columns\n",
    "presenting_problems.info()"
   ]
  },
  {
   "cell_type": "markdown",
   "metadata": {},
   "source": [
    "Let's skim `Presenting Problems at Enrollment` to see the presented problems"
   ]
  },
  {
   "cell_type": "code",
   "execution_count": 7,
   "metadata": {},
   "outputs": [
    {
     "data": {
      "text/plain": [
       "['Other: Inability to function independently in home environment',\n",
       " 'Other: Transition from family home to IRA',\n",
       " 'Other: Transition from Developmental Center',\n",
       " 'Other: fire setting/substance addiction',\n",
       " 'Other: Recent move; change in routine',\n",
       " 'Other: Very restrictive diet protocol and fluid restriction due to health concerns. IRA is unsure how to support him',\n",
       " 'Other: Jail',\n",
       " 'Other: transitioning from non-public school to public school',\n",
       " 'Other: Changes in routine',\n",
       " 'Other: Domestic assault against mom',\n",
       " 'Other: Training needed for providers/family.',\n",
       " 'Other: David is part of other residentsÂ¿Â¿Â¿ system. Analyzing how to best support all housemates.',\n",
       " 'Other: recent seizures - is not diagnosed with a seizure disorder',\n",
       " 'Other: transition to new living situation',\n",
       " 'Other: socializes w/strangers',\n",
       " 'Other: Bobby is refusing to go to his medical appointments and he is drinking too much alcohol (beer). Bobby was arrested for public intoxication.',\n",
       " 'Other: anxiety, no supports',\n",
       " 'Other: Fecal ingestion',\n",
       " 'Family needs assistance',\n",
       " 'Other: residing in crisis respite']"
      ]
     },
     "execution_count": 7,
     "metadata": {},
     "output_type": "execute_result"
    }
   ],
   "source": [
    "random.choices(presenting_problems['Presenting Problems at Enrollment'].unique(), k = 20)"
   ]
  },
  {
   "cell_type": "markdown",
   "metadata": {},
   "source": [
    "<font color = \"green\"> As we can see above the presented problems are all over the place. In the next section, we will focus on cleaning this column using regex to narrow down the presented problems.  </font>"
   ]
  },
  {
   "cell_type": "markdown",
   "metadata": {},
   "source": [
    "# Data cleaning/preprocessing"
   ]
  },
  {
   "cell_type": "markdown",
   "metadata": {},
   "source": [
    "Let's first `Presenting Problems at Enrollment` column to `presented_problems` for more readability."
   ]
  },
  {
   "cell_type": "code",
   "execution_count": 8,
   "metadata": {},
   "outputs": [
    {
     "data": {
      "text/plain": [
       "Index(['Client Local Id', 'START Coordinator', 'Region', 'presented_problems'], dtype='object')"
      ]
     },
     "execution_count": 8,
     "metadata": {},
     "output_type": "execute_result"
    }
   ],
   "source": [
    "# rename the column\n",
    "presenting_problems.rename(columns={'Presenting Problems at Enrollment': 'presented_problems'}, inplace=True)\n",
    "\n",
    "# confirm that the column was renamed successfully\n",
    "presenting_problems.columns"
   ]
  },
  {
   "cell_type": "code",
   "execution_count": 9,
   "metadata": {},
   "outputs": [
    {
     "data": {
      "text/plain": [
       "Aggression (physical, verbal, property destruction, threats)                                                                                        7427\n",
       "Family needs assistance                                                                                                                             4489\n",
       "Mental health symptoms                                                                                                                              4356\n",
       "Self-injurious                                                                                                                                      2640\n",
       "Diagnosis and treatment plan assistance                                                                                                             2246\n",
       "                                                                                                                                                    ... \n",
       "Other: Social Skills                                                                                                                                   1\n",
       "Other: over-eating                                                                                                                                     1\n",
       "Other: Individual will claim he has seizures to go to the hospital, although he does not have a history of any seizure activity and/or seizures.       1\n",
       "Other: Lack of paid and natural supports                                                                                                               1\n",
       "Other: High utilization of Emergency Services                                                                                                          1\n",
       "Name: presented_problems, Length: 734, dtype: int64"
      ]
     },
     "execution_count": 9,
     "metadata": {},
     "output_type": "execute_result"
    }
   ],
   "source": [
    "presenting_problems['presented_problems'].value_counts()"
   ]
  },
  {
   "cell_type": "markdown",
   "metadata": {},
   "source": [
    "Now, let's turn all the presenting problems in lowercase to see add consistency."
   ]
  },
  {
   "cell_type": "code",
   "execution_count": 10,
   "metadata": {},
   "outputs": [
    {
     "data": {
      "text/html": [
       "<div>\n",
       "<style scoped>\n",
       "    .dataframe tbody tr th:only-of-type {\n",
       "        vertical-align: middle;\n",
       "    }\n",
       "\n",
       "    .dataframe tbody tr th {\n",
       "        vertical-align: top;\n",
       "    }\n",
       "\n",
       "    .dataframe thead th {\n",
       "        text-align: right;\n",
       "    }\n",
       "</style>\n",
       "<table border=\"1\" class=\"dataframe\">\n",
       "  <thead>\n",
       "    <tr style=\"text-align: right;\">\n",
       "      <th></th>\n",
       "      <th>Client Local Id</th>\n",
       "      <th>START Coordinator</th>\n",
       "      <th>Region</th>\n",
       "      <th>presented_problems</th>\n",
       "    </tr>\n",
       "  </thead>\n",
       "  <tbody>\n",
       "    <tr>\n",
       "      <th>5968</th>\n",
       "      <td>1217086</td>\n",
       "      <td>Andrea Pickard</td>\n",
       "      <td>Texas : Tarrant County</td>\n",
       "      <td>other: stealing</td>\n",
       "    </tr>\n",
       "    <tr>\n",
       "      <th>22057</th>\n",
       "      <td>437370</td>\n",
       "      <td>Bryan Alava</td>\n",
       "      <td>New York : Region 4 Tri-Borough - Queens</td>\n",
       "      <td>aggression (physical, verbal, property destruc...</td>\n",
       "    </tr>\n",
       "  </tbody>\n",
       "</table>\n",
       "</div>"
      ],
      "text/plain": [
       "      Client Local Id START Coordinator  \\\n",
       "5968          1217086    Andrea Pickard   \n",
       "22057          437370       Bryan Alava   \n",
       "\n",
       "                                         Region  \\\n",
       "5968                     Texas : Tarrant County   \n",
       "22057  New York : Region 4 Tri-Borough - Queens   \n",
       "\n",
       "                                      presented_problems  \n",
       "5968                                     other: stealing  \n",
       "22057  aggression (physical, verbal, property destruc...  "
      ]
     },
     "execution_count": 10,
     "metadata": {},
     "output_type": "execute_result"
    }
   ],
   "source": [
    "presenting_problems['presented_problems'] = presenting_problems['presented_problems'].str.lower()\n",
    "presenting_problems.sample(2)"
   ]
  },
  {
   "cell_type": "code",
   "execution_count": 11,
   "metadata": {},
   "outputs": [
    {
     "data": {
      "text/plain": [
       "array(['aggression (physical, verbal, property destruction, threats)',\n",
       "       'mental health symptoms', 'self-injurious ',\n",
       "       'decrease in ability to participate in daily functions',\n",
       "       'leaving unexpectedly', 'diagnosis and treatment plan assistance',\n",
       "       'family needs assistance', 'at risk of losing placement',\n",
       "       'sexualized behavior', 'suicidal ideation',\n",
       "       'transition from hospital', 'suicidal action'], dtype=object)"
      ]
     },
     "execution_count": 11,
     "metadata": {},
     "output_type": "execute_result"
    },
    {
     "data": {
      "text/plain": [
       "30011"
      ]
     },
     "execution_count": 11,
     "metadata": {},
     "output_type": "execute_result"
    },
    {
     "name": "stdout",
     "output_type": "stream",
     "text": [
      "The number of unique presenting problems before dropping 'Other' is: 704\n",
      "The number of unique presenting problems is: 12\n"
     ]
    }
   ],
   "source": [
    "# subset to rows that do not contain 'other:' for presented problems\n",
    "presenting_problems_no_other = presenting_problems[~presenting_problems[\"presented_problems\"].str.contains('other:')].copy()\n",
    "presenting_problems_no_other.presented_problems.unique()\n",
    "\n",
    "presenting_problems_no_other.shape[0]\n",
    "\n",
    "print(f\"The number of unique presenting problems before dropping 'Other' is: {presenting_problems.presented_problems.nunique()}\")\n",
    "print(f\"The number of unique presenting problems is: {presenting_problems_no_other.presented_problems.nunique()}\")"
   ]
  },
  {
   "cell_type": "markdown",
   "metadata": {},
   "source": [
    "Let's see how many rows we are losing by removing presented problems that start with `Other:`"
   ]
  },
  {
   "cell_type": "code",
   "execution_count": 12,
   "metadata": {},
   "outputs": [
    {
     "name": "stdout",
     "output_type": "stream",
     "text": [
      "Retention Rate After Dropping 'Other': 96.77%\n"
     ]
    }
   ],
   "source": [
    "print(f\"Retention Rate After Dropping 'Other': {round(100*presenting_problems_no_other.shape[0]/presenting_problems.shape[0], 2)}%\")"
   ]
  },
  {
   "cell_type": "markdown",
   "metadata": {},
   "source": [
    "A retention rate of 96.77% is really good, so we will stick with the 12 unique presented problems. Now, we will write a function to parse the `Region` variable to `state` and `region`"
   ]
  },
  {
   "cell_type": "code",
   "execution_count": 13,
   "metadata": {},
   "outputs": [
    {
     "data": {
      "text/html": [
       "<div>\n",
       "<style scoped>\n",
       "    .dataframe tbody tr th:only-of-type {\n",
       "        vertical-align: middle;\n",
       "    }\n",
       "\n",
       "    .dataframe tbody tr th {\n",
       "        vertical-align: top;\n",
       "    }\n",
       "\n",
       "    .dataframe thead th {\n",
       "        text-align: right;\n",
       "    }\n",
       "</style>\n",
       "<table border=\"1\" class=\"dataframe\">\n",
       "  <thead>\n",
       "    <tr style=\"text-align: right;\">\n",
       "      <th></th>\n",
       "      <th>Client Local Id</th>\n",
       "      <th>START Coordinator</th>\n",
       "      <th>Region</th>\n",
       "      <th>presented_problems</th>\n",
       "      <th>state</th>\n",
       "      <th>region_new</th>\n",
       "    </tr>\n",
       "  </thead>\n",
       "  <tbody>\n",
       "    <tr>\n",
       "      <th>14687</th>\n",
       "      <td>334790W</td>\n",
       "      <td>Carolyn Martin</td>\n",
       "      <td>North Carolina : West</td>\n",
       "      <td>family needs assistance</td>\n",
       "      <td>north carolina</td>\n",
       "      <td>west</td>\n",
       "    </tr>\n",
       "    <tr>\n",
       "      <th>10360</th>\n",
       "      <td>246264</td>\n",
       "      <td>Kristen Cooper</td>\n",
       "      <td>New York : Region 1</td>\n",
       "      <td>mental health symptoms</td>\n",
       "      <td>new york</td>\n",
       "      <td>region 1</td>\n",
       "    </tr>\n",
       "    <tr>\n",
       "      <th>22427</th>\n",
       "      <td>443510E</td>\n",
       "      <td>Luis Hernandez</td>\n",
       "      <td>North Carolina : East</td>\n",
       "      <td>leaving unexpectedly</td>\n",
       "      <td>north carolina</td>\n",
       "      <td>east</td>\n",
       "    </tr>\n",
       "  </tbody>\n",
       "</table>\n",
       "</div>"
      ],
      "text/plain": [
       "      Client Local Id START Coordinator                 Region  \\\n",
       "14687         334790W    Carolyn Martin  North Carolina : West   \n",
       "10360          246264    Kristen Cooper    New York : Region 1   \n",
       "22427         443510E    Luis Hernandez  North Carolina : East   \n",
       "\n",
       "            presented_problems           state region_new  \n",
       "14687  family needs assistance  north carolina       west  \n",
       "10360   mental health symptoms        new york   region 1  \n",
       "22427     leaving unexpectedly  north carolina       east  "
      ]
     },
     "execution_count": 13,
     "metadata": {},
     "output_type": "execute_result"
    }
   ],
   "source": [
    "def parse_region(row):\n",
    "    \"\"\"\n",
    "    Parse a string in the format \"<state>: <region>\" and return a tuple\n",
    "    containing the state and region.\n",
    "    \n",
    "    Parameters:\n",
    "    row (str): A string in the format \"<state> : <region>\".\n",
    "    \n",
    "    Returns:\n",
    "    A tuple containing the parsed state and region.\n",
    "    \"\"\"\n",
    "    state, region = row.lower().split(':')\n",
    "    return state.strip(), region.strip()\n",
    "\n",
    "# apply the function on the demographics, presenting_problems_no_other, and emergency_crisis_services dataframes\n",
    "presenting_problems_no_other.loc[:, ['state', 'region_new']] = presenting_problems_no_other['Region'].apply(parse_region).tolist()\n",
    "demographics.loc[:, ['state', 'region_new']] = demographics['Region'].apply(parse_region).tolist()\n",
    "emergency_crisis_services.loc[:, ['state', 'region_new']] = emergency_crisis_services['Region'].apply(parse_region).tolist()\n",
    "\n",
    "# sample from the presenting_problems_no_other dataframe\n",
    "presenting_problems_no_other.sample(3)"
   ]
  },
  {
   "cell_type": "code",
   "execution_count": 14,
   "metadata": {},
   "outputs": [
    {
     "data": {
      "text/plain": [
       "array(['iowa', 'north carolina', 'texas', 'new york', 'california',\n",
       "       'colorado', 'new hampshire', 'maryland'], dtype=object)"
      ]
     },
     "execution_count": 14,
     "metadata": {},
     "output_type": "execute_result"
    }
   ],
   "source": [
    "# check all the unique states in the presenting_problems_no_other dataframe\n",
    "presenting_problems_no_other.state.unique()"
   ]
  },
  {
   "cell_type": "markdown",
   "metadata": {},
   "source": [
    "Next, we will merge the `demographic` and `presenting_problems_no_other` dataframes using the `Client ID`."
   ]
  },
  {
   "cell_type": "code",
   "execution_count": 15,
   "metadata": {},
   "outputs": [],
   "source": [
    "demographics_problems_merged = presenting_problems_no_other.merge(demographics, left_on='Client Local Id', right_on='Local ID',\n",
    "                                                                  how='inner', suffixes=('_presenting_problems', '_demographics'), \n",
    "                                                                  indicator = True).drop_duplicates()"
   ]
  },
  {
   "cell_type": "code",
   "execution_count": 16,
   "metadata": {},
   "outputs": [
    {
     "data": {
      "text/html": [
       "<div>\n",
       "<style scoped>\n",
       "    .dataframe tbody tr th:only-of-type {\n",
       "        vertical-align: middle;\n",
       "    }\n",
       "\n",
       "    .dataframe tbody tr th {\n",
       "        vertical-align: top;\n",
       "    }\n",
       "\n",
       "    .dataframe thead th {\n",
       "        text-align: right;\n",
       "    }\n",
       "</style>\n",
       "<table border=\"1\" class=\"dataframe\">\n",
       "  <thead>\n",
       "    <tr style=\"text-align: right;\">\n",
       "      <th></th>\n",
       "      <th>Client Local Id</th>\n",
       "      <th>START Coordinator</th>\n",
       "      <th>Region_presenting_problems</th>\n",
       "      <th>presented_problems</th>\n",
       "      <th>state_presenting_problems</th>\n",
       "      <th>region_new_presenting_problems</th>\n",
       "      <th>Local ID</th>\n",
       "      <th>Region_demographics</th>\n",
       "      <th>County</th>\n",
       "      <th>Start Coordinator</th>\n",
       "      <th>...</th>\n",
       "      <th>Employment Status at Enrollment</th>\n",
       "      <th>Grade In School</th>\n",
       "      <th>Current IEP</th>\n",
       "      <th>Current 504 Plan</th>\n",
       "      <th>School Setting</th>\n",
       "      <th>Custody Status</th>\n",
       "      <th>Child Lives With</th>\n",
       "      <th>state_demographics</th>\n",
       "      <th>region_new_demographics</th>\n",
       "      <th>_merge</th>\n",
       "    </tr>\n",
       "  </thead>\n",
       "  <tbody>\n",
       "    <tr>\n",
       "      <th>8494</th>\n",
       "      <td>347768</td>\n",
       "      <td>Jenna Reed</td>\n",
       "      <td>New York : Region 1</td>\n",
       "      <td>family needs assistance</td>\n",
       "      <td>new york</td>\n",
       "      <td>region 1</td>\n",
       "      <td>347768</td>\n",
       "      <td>New York : Region 1</td>\n",
       "      <td>Erie</td>\n",
       "      <td>Jenna Reed</td>\n",
       "      <td>...</td>\n",
       "      <td>Student</td>\n",
       "      <td>NaN</td>\n",
       "      <td>NaN</td>\n",
       "      <td>NaN</td>\n",
       "      <td>NaN</td>\n",
       "      <td>Parental custody</td>\n",
       "      <td>Parents</td>\n",
       "      <td>new york</td>\n",
       "      <td>region 1</td>\n",
       "      <td>both</td>\n",
       "    </tr>\n",
       "    <tr>\n",
       "      <th>3918</th>\n",
       "      <td>175493C</td>\n",
       "      <td>Eileen Slade</td>\n",
       "      <td>North Carolina : Central</td>\n",
       "      <td>decrease in ability to participate in daily fu...</td>\n",
       "      <td>north carolina</td>\n",
       "      <td>central</td>\n",
       "      <td>175493C</td>\n",
       "      <td>North Carolina : Central</td>\n",
       "      <td>Randolph</td>\n",
       "      <td>Eileen Slade</td>\n",
       "      <td>...</td>\n",
       "      <td>Not employed</td>\n",
       "      <td>Grade 9</td>\n",
       "      <td>Yes: 2019-02-13</td>\n",
       "      <td>No</td>\n",
       "      <td>NaN</td>\n",
       "      <td>Relative custody</td>\n",
       "      <td>Relatives</td>\n",
       "      <td>north carolina</td>\n",
       "      <td>central</td>\n",
       "      <td>both</td>\n",
       "    </tr>\n",
       "    <tr>\n",
       "      <th>8308</th>\n",
       "      <td>343704</td>\n",
       "      <td>Oruada Oruada</td>\n",
       "      <td>New York : Region 4 Tri-Borough - Queens</td>\n",
       "      <td>leaving unexpectedly</td>\n",
       "      <td>new york</td>\n",
       "      <td>region 4 tri-borough - queens</td>\n",
       "      <td>343704</td>\n",
       "      <td>New York : Region 4 Tri-Borough - Queens</td>\n",
       "      <td>Queens</td>\n",
       "      <td>Oruada Oruada</td>\n",
       "      <td>...</td>\n",
       "      <td>Not employed</td>\n",
       "      <td>Grade 9</td>\n",
       "      <td>Yes: 2018-11-28</td>\n",
       "      <td>No</td>\n",
       "      <td>Special school-in district</td>\n",
       "      <td>Parental custody</td>\n",
       "      <td>Parents</td>\n",
       "      <td>new york</td>\n",
       "      <td>region 4 tri-borough - queens</td>\n",
       "      <td>both</td>\n",
       "    </tr>\n",
       "  </tbody>\n",
       "</table>\n",
       "<p>3 rows × 57 columns</p>\n",
       "</div>"
      ],
      "text/plain": [
       "     Client Local Id START Coordinator  \\\n",
       "8494          347768        Jenna Reed   \n",
       "3918         175493C      Eileen Slade   \n",
       "8308          343704     Oruada Oruada   \n",
       "\n",
       "                    Region_presenting_problems  \\\n",
       "8494                       New York : Region 1   \n",
       "3918                  North Carolina : Central   \n",
       "8308  New York : Region 4 Tri-Borough - Queens   \n",
       "\n",
       "                                     presented_problems  \\\n",
       "8494                            family needs assistance   \n",
       "3918  decrease in ability to participate in daily fu...   \n",
       "8308                               leaving unexpectedly   \n",
       "\n",
       "     state_presenting_problems region_new_presenting_problems Local ID  \\\n",
       "8494                  new york                       region 1   347768   \n",
       "3918            north carolina                        central  175493C   \n",
       "8308                  new york  region 4 tri-borough - queens   343704   \n",
       "\n",
       "                           Region_demographics    County Start Coordinator  \\\n",
       "8494                       New York : Region 1      Erie        Jenna Reed   \n",
       "3918                  North Carolina : Central  Randolph      Eileen Slade   \n",
       "8308  New York : Region 4 Tri-Borough - Queens    Queens     Oruada Oruada   \n",
       "\n",
       "      ... Employment Status at Enrollment Grade In School      Current IEP  \\\n",
       "8494  ...                         Student             NaN              NaN   \n",
       "3918  ...                    Not employed         Grade 9  Yes: 2019-02-13   \n",
       "8308  ...                    Not employed         Grade 9  Yes: 2018-11-28   \n",
       "\n",
       "     Current 504 Plan              School Setting    Custody Status  \\\n",
       "8494              NaN                         NaN  Parental custody   \n",
       "3918               No                         NaN  Relative custody   \n",
       "8308               No  Special school-in district  Parental custody   \n",
       "\n",
       "     Child Lives With state_demographics        region_new_demographics _merge  \n",
       "8494          Parents           new york                       region 1   both  \n",
       "3918        Relatives     north carolina                        central   both  \n",
       "8308          Parents           new york  region 4 tri-borough - queens   both  \n",
       "\n",
       "[3 rows x 57 columns]"
      ]
     },
     "execution_count": 16,
     "metadata": {},
     "output_type": "execute_result"
    },
    {
     "data": {
      "text/plain": [
       "(17808, 57)"
      ]
     },
     "execution_count": 16,
     "metadata": {},
     "output_type": "execute_result"
    }
   ],
   "source": [
    "demographics_problems_merged.sample(3)\n",
    "demographics_problems_merged.shape"
   ]
  },
  {
   "cell_type": "markdown",
   "metadata": {},
   "source": [
    "Using the `Date Enrolled in START` variable in the merged data frame, we will make a binary classifier of whether or not the client enrolled pre or post COVID. We will use March 01, 2020 as the cutoff date."
   ]
  },
  {
   "cell_type": "code",
   "execution_count": 17,
   "metadata": {},
   "outputs": [
    {
     "name": "stdout",
     "output_type": "stream",
     "text": [
      "Data type for the date variable: datetime64[ns]\n"
     ]
    },
    {
     "data": {
      "text/plain": [
       "False    14270\n",
       "True      3538\n",
       "Name: is_post_covid, dtype: int64"
      ]
     },
     "execution_count": 17,
     "metadata": {},
     "output_type": "execute_result"
    }
   ],
   "source": [
    "# convert to datetime format and save in enrollment_date\n",
    "demographics_problems_merged['enrollment_date'] = pd.to_datetime(demographics_problems_merged['Date Enrolled in START'])\n",
    "print(f\"Data type for the date variable: {demographics_problems_merged['enrollment_date'].dtype}\")\n",
    "\n",
    "# create a binary clarity column based on pre and post covid.\n",
    "date_cutoff = pd.to_datetime(\"2020-03-01\")\n",
    "demographics_problems_merged['is_post_covid'] = demographics_problems_merged['enrollment_date'] >= date_cutoff\n",
    "\n",
    "# check the value counts to see how many of the inputs are post covid\n",
    "demographics_problems_merged['is_post_covid'].value_counts()"
   ]
  },
  {
   "cell_type": "code",
   "execution_count": 18,
   "metadata": {},
   "outputs": [
    {
     "data": {
      "text/plain": [
       "Index(['Client Local Id', 'START Coordinator', 'Region_presenting_problems',\n",
       "       'presented_problems', 'state_presenting_problems',\n",
       "       'region_new_presenting_problems', 'Local ID', 'Region_demographics',\n",
       "       'County', 'Start Coordinator', 'Date Enrolled in START', 'Status',\n",
       "       'Status Date', 'Time Enrolled in START', 'Source of referral to START',\n",
       "       'Suitability of enrollment in START',\n",
       "       'Individual/Caregiver reliable access to technology',\n",
       "       'Presenting problems at time of enrollment', 'Services at Enrollment',\n",
       "       'Date of birth', 'Gender', 'Race', 'Ethnicity',\n",
       "       'Level of Intellectual Disability',\n",
       "       'Current living situation at enrollment to START',\n",
       "       'More than one living situation over the last 5 years?',\n",
       "       'More than one living situation over the last year?',\n",
       "       'Psychiatric hospitalization in past year (at enrollment to START)',\n",
       "       'Psychiatric hospitalizations in past 1 - 5 years (at enrollment to START)',\n",
       "       'Emergency department visits in past year (at enrollment to START)',\n",
       "       'Emergency department visits in past 1-5 years (at enrollment to START)',\n",
       "       'Law enforcement encounters in past year (at enrollment to START)',\n",
       "       'Law enforcement encounters in past 1 - 5 years (at enrollment to START)',\n",
       "       'Psychiatric diagnoses', 'Medical diagnoses', 'Other Disabilities',\n",
       "       'Cause/etiology of disability',\n",
       "       'Who is the individual's primary caregiver?',\n",
       "       'Does the individual have a secondary caregiver?',\n",
       "       'Does the individual have a legal guardian?', 'Funding',\n",
       "       'History of Child Protective Services involvement in past year (at enrollment to START)',\n",
       "       'History of Child Protective Services involvement in lifetime (at enrollment to START)',\n",
       "       'State sponsored ICF/DD stay in past year (at enrollment to START)',\n",
       "       'State sponsored ICF/DD stay in past 1 - 5 years (at enrollment to START)',\n",
       "       'Jailed in the past year (at enrollment to START)',\n",
       "       'Jailed in the past 1 - 5 years (at enrollment to START)',\n",
       "       'Employment Status at Enrollment', 'Grade In School', 'Current IEP',\n",
       "       'Current 504 Plan', 'School Setting', 'Custody Status',\n",
       "       'Child Lives With', 'state_demographics', 'region_new_demographics',\n",
       "       '_merge', 'enrollment_date', 'is_post_covid'],\n",
       "      dtype='object')"
      ]
     },
     "execution_count": 18,
     "metadata": {},
     "output_type": "execute_result"
    }
   ],
   "source": [
    "demographics_problems_merged.columns"
   ]
  },
  {
   "cell_type": "code",
   "execution_count": 19,
   "metadata": {},
   "outputs": [
    {
     "data": {
      "text/html": [
       "<div>\n",
       "<style scoped>\n",
       "    .dataframe tbody tr th:only-of-type {\n",
       "        vertical-align: middle;\n",
       "    }\n",
       "\n",
       "    .dataframe tbody tr th {\n",
       "        vertical-align: top;\n",
       "    }\n",
       "\n",
       "    .dataframe thead th {\n",
       "        text-align: right;\n",
       "    }\n",
       "</style>\n",
       "<table border=\"1\" class=\"dataframe\">\n",
       "  <thead>\n",
       "    <tr style=\"text-align: right;\">\n",
       "      <th></th>\n",
       "      <th>enrollment_date</th>\n",
       "      <th>enrollment_ym_derived</th>\n",
       "      <th>enrollment_year</th>\n",
       "    </tr>\n",
       "  </thead>\n",
       "  <tbody>\n",
       "    <tr>\n",
       "      <th>4772</th>\n",
       "      <td>2018-01-25</td>\n",
       "      <td>2018-01-01</td>\n",
       "      <td>2018</td>\n",
       "    </tr>\n",
       "    <tr>\n",
       "      <th>11902</th>\n",
       "      <td>2019-06-20</td>\n",
       "      <td>2019-06-01</td>\n",
       "      <td>2019</td>\n",
       "    </tr>\n",
       "    <tr>\n",
       "      <th>14994</th>\n",
       "      <td>2020-03-06</td>\n",
       "      <td>2020-03-01</td>\n",
       "      <td>2020</td>\n",
       "    </tr>\n",
       "  </tbody>\n",
       "</table>\n",
       "</div>"
      ],
      "text/plain": [
       "      enrollment_date enrollment_ym_derived  enrollment_year\n",
       "4772       2018-01-25            2018-01-01             2018\n",
       "11902      2019-06-20            2019-06-01             2019\n",
       "14994      2020-03-06            2020-03-01             2020"
      ]
     },
     "execution_count": 19,
     "metadata": {},
     "output_type": "execute_result"
    }
   ],
   "source": [
    "# round down to the first of the month and year\n",
    "demographics_problems_merged['enrollment_ym_derived'] = demographics_problems_merged.enrollment_date.dt.to_period('M').dt.to_timestamp(how='start')\n",
    "\n",
    "# create a new column for the year\n",
    "demographics_problems_merged['enrollment_year'] = pd.DatetimeIndex(demographics_problems_merged['enrollment_date']).year\n",
    "\n",
    "demographics_problems_merged[['enrollment_date', 'enrollment_ym_derived', 'enrollment_year']].sample(3)\n"
   ]
  },
  {
   "cell_type": "code",
   "execution_count": 20,
   "metadata": {},
   "outputs": [
    {
     "data": {
      "text/plain": [
       "Male      12096\n",
       "Female     5640\n",
       "Name: Gender, dtype: int64"
      ]
     },
     "execution_count": 20,
     "metadata": {},
     "output_type": "execute_result"
    }
   ],
   "source": [
    "# remove the rows where 'Gender' starts with 'other'\n",
    "demographics_problems_merged = demographics_problems_merged[~demographics_problems_merged[\"Gender\"].str.contains('Other:')]\n",
    "demographics_problems_merged.Gender.value_counts()\n",
    "\n",
    "# renaming the disability level column\n",
    "demographics_problems_merged.rename(columns={'Level of Intellectual Disability': 'disability_level'}, inplace=True)\n",
    "\n",
    "# remove the rows where 'disability_level' is 'None noted'\n",
    "demographics_problems_merged = demographics_problems_merged[demographics_problems_merged[\"disability_level\"] != 'None noted']"
   ]
  },
  {
   "cell_type": "code",
   "execution_count": 21,
   "metadata": {},
   "outputs": [
    {
     "data": {
      "text/plain": [
       "CategoricalDtype(categories=['Normal intelligence', 'Borderline', 'Mild', 'Moderate',\n",
       "                  'Severe', 'Profound'],\n",
       ", ordered=True)"
      ]
     },
     "execution_count": 21,
     "metadata": {},
     "output_type": "execute_result"
    }
   ],
   "source": [
    "# make the disability level column an ordered factor variable\n",
    "disability_levels_ordered = ['Normal intelligence', 'Borderline', 'Mild', 'Moderate', 'Severe', 'Profound']\n",
    "\n",
    "# convert disability_level to ordered categorical variable\n",
    "demographics_problems_merged['disability_level_ordered'] = pd.Categorical(demographics_problems_merged['disability_level'], categories=disability_levels_ordered, ordered=True)\n",
    "\n",
    "# check the data type of the disability_level_ordered column\n",
    "demographics_problems_merged['disability_level_ordered'].dtype"
   ]
  },
  {
   "cell_type": "code",
   "execution_count": 22,
   "metadata": {},
   "outputs": [
    {
     "data": {
      "text/plain": [
       "Mild                   7841\n",
       "Moderate               4921\n",
       "Severe                 1250\n",
       "Normal intelligence    1206\n",
       "Borderline              974\n",
       "Profound                214\n",
       "Name: disability_level, dtype: int64"
      ]
     },
     "execution_count": 22,
     "metadata": {},
     "output_type": "execute_result"
    },
    {
     "data": {
      "text/plain": [
       "Mild                   7841\n",
       "Moderate               4921\n",
       "Severe                 1250\n",
       "Normal intelligence    1206\n",
       "Borderline              974\n",
       "Profound                214\n",
       "Name: disability_level_ordered, dtype: int64"
      ]
     },
     "execution_count": 22,
     "metadata": {},
     "output_type": "execute_result"
    }
   ],
   "source": [
    "demographics_problems_merged['disability_level'].value_counts()\n",
    "demographics_problems_merged['disability_level_ordered'].value_counts()"
   ]
  },
  {
   "cell_type": "code",
   "execution_count": 23,
   "metadata": {},
   "outputs": [
    {
     "data": {
      "text/plain": [
       "aggression (physical, verbal, property destruction, threats)    3929\n",
       "Name: presented_problems, dtype: int64"
      ]
     },
     "execution_count": 23,
     "metadata": {},
     "output_type": "execute_result"
    }
   ],
   "source": [
    "# creating new subset for people that presented aggression problems\n",
    "demographics_aggression_problems = demographics_problems_merged[demographics_problems_merged[\"presented_problems\"] == \"aggression (physical, verbal, property destruction, threats)\"].copy()\n",
    "\n",
    "# verifying we subsetted correctly\n",
    "demographics_aggression_problems[\"presented_problems\"].value_counts()"
   ]
  },
  {
   "cell_type": "code",
   "execution_count": 24,
   "metadata": {},
   "outputs": [
    {
     "data": {
      "text/plain": [
       "Mild                   1777\n",
       "Moderate               1286\n",
       "Severe                  328\n",
       "Normal intelligence     271\n",
       "Borderline              210\n",
       "Profound                 56\n",
       "Name: disability_level_ordered, dtype: int64"
      ]
     },
     "execution_count": 24,
     "metadata": {},
     "output_type": "execute_result"
    },
    {
     "data": {
      "text/plain": [
       "Male      2724\n",
       "Female    1205\n",
       "Name: Gender, dtype: int64"
      ]
     },
     "execution_count": 24,
     "metadata": {},
     "output_type": "execute_result"
    },
    {
     "data": {
      "text/plain": [
       "Not of Hispanic origin                      2993\n",
       "Hispanic - specific origin not specified     644\n",
       "Unknown, not collected                       292\n",
       "Name: Ethnicity, dtype: int64"
      ]
     },
     "execution_count": 24,
     "metadata": {},
     "output_type": "execute_result"
    },
    {
     "data": {
      "text/plain": [
       "Gender                     \n",
       "Female  Mild                    622\n",
       "        Moderate                387\n",
       "        Severe                   88\n",
       "        Borderline               49\n",
       "        Normal intelligence      47\n",
       "        Profound                 12\n",
       "Male    Mild                   1155\n",
       "        Moderate                899\n",
       "        Severe                  240\n",
       "        Normal intelligence     224\n",
       "        Borderline              161\n",
       "        Profound                 44\n",
       "Name: disability_level_ordered, dtype: int64"
      ]
     },
     "execution_count": 24,
     "metadata": {},
     "output_type": "execute_result"
    },
    {
     "data": {
      "text/plain": [
       "disability_level_ordered  state_demographics\n",
       "Normal intelligence       new york              129\n",
       "                          north carolina         94\n",
       "                          california             36\n",
       "                          texas                   7\n",
       "                          new hampshire           5\n",
       "Borderline                new york              111\n",
       "                          north carolina         27\n",
       "                          california             25\n",
       "                          new hampshire          22\n",
       "                          texas                  15\n",
       "                          iowa                   10\n",
       "Mild                      new york              885\n",
       "                          north carolina        360\n",
       "                          new hampshire         193\n",
       "                          texas                 156\n",
       "                          california             94\n",
       "                          iowa                   79\n",
       "                          colorado               10\n",
       "Moderate                  new york              727\n",
       "                          north carolina        264\n",
       "                          texas                 110\n",
       "                          new hampshire          75\n",
       "                          california             62\n",
       "                          iowa                   43\n",
       "                          colorado                5\n",
       "Severe                    new york              162\n",
       "                          north carolina         74\n",
       "                          texas                  55\n",
       "                          iowa                   19\n",
       "                          california             10\n",
       "                          new hampshire           6\n",
       "                          colorado                2\n",
       "Profound                  new york               35\n",
       "                          north carolina         10\n",
       "                          iowa                    5\n",
       "                          texas                   3\n",
       "                          new hampshire           2\n",
       "                          california              1\n",
       "Name: state_demographics, dtype: int64"
      ]
     },
     "execution_count": 24,
     "metadata": {},
     "output_type": "execute_result"
    }
   ],
   "source": [
    "demographics_aggression_problems['disability_level_ordered'].value_counts()\n",
    "demographics_aggression_problems['Gender'].value_counts()\n",
    "demographics_aggression_problems['Ethnicity'].value_counts()\n",
    "\n",
    "demographics_aggression_problems.groupby(\"Gender\")['disability_level_ordered'].value_counts()\n",
    "\n",
    "demographics_aggression_problems.groupby(\"disability_level_ordered\")['state_demographics'].value_counts()\n"
   ]
  },
  {
   "cell_type": "code",
   "execution_count": 39,
   "metadata": {},
   "outputs": [
    {
     "data": {
      "text/plain": [
       "Text(0.5, 0, 'Enrollment Year')"
      ]
     },
     "execution_count": 39,
     "metadata": {},
     "output_type": "execute_result"
    },
    {
     "data": {
      "text/plain": [
       "Text(0, 0.5, 'Count')"
      ]
     },
     "execution_count": 39,
     "metadata": {},
     "output_type": "execute_result"
    },
    {
     "data": {
      "text/plain": [
       "<matplotlib.legend.Legend at 0x7fb3b991c9a0>"
      ]
     },
     "execution_count": 39,
     "metadata": {},
     "output_type": "execute_result"
    },
    {
     "data": {
      "text/plain": [
       "Text(0.5, 1.0, 'Total Number of People with Aggression Problems by Disability Level Over Time (by Month-Year)')"
      ]
     },
     "execution_count": 39,
     "metadata": {},
     "output_type": "execute_result"
    },
    {
     "data": {
      "text/plain": [
       "<AxesSubplot:title={'center':'Total Number of People with Aggression Problems by Disability Level Over Time (by Month-Year)'}, xlabel='Enrollment Year', ylabel='Count'>"
      ]
     },
     "execution_count": 39,
     "metadata": {},
     "output_type": "execute_result"
    },
    {
     "data": {
      "image/png": "[encoded data removed]",
      "text/plain": [
       "<Figure size 864x576 with 1 Axes>"
      ]
     },
     "metadata": {
      "needs_background": "light"
     },
     "output_type": "display_data"
    }
   ],
   "source": [
    "# define a dictionary of colors for each disability level\n",
    "colors = {'Normal intelligence': '#1f77b4', 'Borderline': '#ff7f0e', 'Mild': '#228B22', 'Moderate': '#CC79A7', 'Severe': '#8B4513', 'Profound': '#DC143C'}\n",
    "\n",
    "# line plot of the total number of people for each disability level over time (by month-year)\n",
    "plot_by_ym = demographics_aggression_problems.groupby('enrollment_ym_derived')['disability_level_ordered'].value_counts().unstack().fillna(0).plot(figsize=(12, 8), color=colors.values())\n",
    "\n",
    "plot_by_ym.set_xlabel(\"Enrollment Year\")\n",
    "plot_by_ym.set_ylabel(\"Count\")\n",
    "plot_by_ym.legend(title=\"Disability Level\", labels=colors.keys())\n",
    "plot_by_ym.set_title(\"Total Number of People with Aggression Problems by Disability Level Over Time (by Month-Year)\")\n",
    "plot_by_ym"
   ]
  },
  {
   "cell_type": "code",
   "execution_count": 41,
   "metadata": {},
   "outputs": [],
   "source": [
    "a = demographics_aggression_problems.groupby('enrollment_ym_derived')['disability_level_ordered'].value_counts().unstack()"
   ]
  },
  {
   "cell_type": "code",
   "execution_count": 38,
   "metadata": {},
   "outputs": [
    {
     "data": {
      "text/plain": [
       "Text(0.5, 0, 'Enrollment Year')"
      ]
     },
     "execution_count": 38,
     "metadata": {},
     "output_type": "execute_result"
    },
    {
     "data": {
      "text/plain": [
       "Text(0, 0.5, 'Count')"
      ]
     },
     "execution_count": 38,
     "metadata": {},
     "output_type": "execute_result"
    },
    {
     "data": {
      "text/plain": [
       "<matplotlib.legend.Legend at 0x7fb39a7139d0>"
      ]
     },
     "execution_count": 38,
     "metadata": {},
     "output_type": "execute_result"
    },
    {
     "data": {
      "text/plain": [
       "Text(0.5, 1.0, 'Total Number of People with Aggression Problems by Disability Level Over Time (by Year)')"
      ]
     },
     "execution_count": 38,
     "metadata": {},
     "output_type": "execute_result"
    },
    {
     "data": {
      "text/plain": [
       "<AxesSubplot:title={'center':'Total Number of People with Aggression Problems by Disability Level Over Time (by Year)'}, xlabel='Enrollment Year', ylabel='Count'>"
      ]
     },
     "execution_count": 38,
     "metadata": {},
     "output_type": "execute_result"
    },
    {
     "data": {
      "image/png": "[encoded data removed]",
      "text/plain": [
       "<Figure size 864x576 with 1 Axes>"
      ]
     },
     "metadata": {
      "needs_background": "light"
     },
     "output_type": "display_data"
    }
   ],
   "source": [
    "# line plot of the total number of people for each aggression level by year\n",
    "plot_by_y = demographics_aggression_problems.groupby('enrollment_year')['disability_level_ordered'].value_counts().unstack().fillna(0).plot(figsize=(12, 8), color=colors.values())\n",
    "plot_by_y.set_xlabel(\"Enrollment Year\")\n",
    "plot_by_y.set_ylabel(\"Count\")\n",
    "plot_by_y.legend(title=\"Disability Level\")\n",
    "plot_by_y.set_title(\"Total Number of People with Aggression Problems by Disability Level Over Time (by Year)\")\n",
    "plot_by_y\n"
   ]
  },
  {
   "cell_type": "code",
   "execution_count": 362,
   "metadata": {},
   "outputs": [
    {
     "data": {
      "text/plain": [
       "Text(0.5, 0, 'Enrollment Year')"
      ]
     },
     "execution_count": 362,
     "metadata": {},
     "output_type": "execute_result"
    },
    {
     "data": {
      "text/plain": [
       "Text(0, 0.5, 'Count')"
      ]
     },
     "execution_count": 362,
     "metadata": {},
     "output_type": "execute_result"
    },
    {
     "data": {
      "text/plain": [
       "<matplotlib.legend.Legend at 0x7fd263a9a310>"
      ]
     },
     "execution_count": 362,
     "metadata": {},
     "output_type": "execute_result"
    },
    {
     "data": {
      "text/plain": [
       "Text(0.5, 1.0, 'Total Number of People by Gender Over Time (by Month-Year)')"
      ]
     },
     "execution_count": 362,
     "metadata": {},
     "output_type": "execute_result"
    },
    {
     "data": {
      "text/plain": [
       "<AxesSubplot:title={'center':'Total Number of People by Gender Over Time (by Month-Year)'}, xlabel='Enrollment Year', ylabel='Count'>"
      ]
     },
     "execution_count": 362,
     "metadata": {},
     "output_type": "execute_result"
    },
    {
     "data": {
      "image/png": "[encoded data removed]",
      "text/plain": [
       "<Figure size 864x576 with 1 Axes>"
      ]
     },
     "metadata": {
      "needs_background": "light"
     },
     "output_type": "display_data"
    }
   ],
   "source": [
    "# line plot of the total number of people for each aggression level by year\n",
    "gender_by_ym = demographics_aggression_problems.groupby('enrollment_ym_derived')['Gender'].value_counts().unstack().fillna(0).plot(figsize=(12, 8))\n",
    "gender_by_ym.set_xlabel(\"Enrollment Year\")\n",
    "gender_by_ym.set_ylabel(\"Count\")\n",
    "gender_by_ym.legend(title=\"Gender\")\n",
    "gender_by_ym.set_title(\"Total Number of People by Gender Over Time (by Month-Year)\")\n",
    "gender_by_ym"
   ]
  },
  {
   "cell_type": "code",
   "execution_count": 32,
   "metadata": {},
   "outputs": [],
   "source": [
    "a= demographics_aggression_problems.groupby('enrollment_ym_derived')['Gender'].value_counts().unstack().fillna(0)"
   ]
  },
  {
   "cell_type": "code",
   "execution_count": 363,
   "metadata": {},
   "outputs": [
    {
     "data": {
      "text/plain": [
       "Text(0.5, 0, 'Enrollment Year')"
      ]
     },
     "execution_count": 363,
     "metadata": {},
     "output_type": "execute_result"
    },
    {
     "data": {
      "text/plain": [
       "Text(0, 0.5, 'Count')"
      ]
     },
     "execution_count": 363,
     "metadata": {},
     "output_type": "execute_result"
    },
    {
     "data": {
      "text/plain": [
       "<matplotlib.legend.Legend at 0x7fd2427abf10>"
      ]
     },
     "execution_count": 363,
     "metadata": {},
     "output_type": "execute_result"
    },
    {
     "data": {
      "text/plain": [
       "Text(0.5, 1.0, 'Total Number of People by Gender Over Time (by Year)')"
      ]
     },
     "execution_count": 363,
     "metadata": {},
     "output_type": "execute_result"
    },
    {
     "data": {
      "text/plain": [
       "<AxesSubplot:title={'center':'Total Number of People by Gender Over Time (by Year)'}, xlabel='Enrollment Year', ylabel='Count'>"
      ]
     },
     "execution_count": 363,
     "metadata": {},
     "output_type": "execute_result"
    },
    {
     "data": {
      "image/png": "[encoded data removed]",
      "text/plain": [
       "<Figure size 864x576 with 1 Axes>"
      ]
     },
     "metadata": {
      "needs_background": "light"
     },
     "output_type": "display_data"
    }
   ],
   "source": [
    "gender_by_ym = demographics_aggression_problems.groupby('enrollment_year')['Gender'].value_counts().unstack().plot(figsize=(12, 8))\n",
    "gender_by_ym.set_xlabel(\"Enrollment Year\")\n",
    "gender_by_ym.set_ylabel(\"Count\")\n",
    "gender_by_ym.legend(title=\"Gender\")\n",
    "gender_by_ym.set_title(\"Total Number of People by Gender Over Time (by Year)\")\n",
    "gender_by_ym"
   ]
  },
  {
   "cell_type": "code",
   "execution_count": 364,
   "metadata": {},
   "outputs": [
    {
     "data": {
      "text/plain": [
       "<AxesSubplot:xlabel='enrollment_year'>"
      ]
     },
     "execution_count": 364,
     "metadata": {},
     "output_type": "execute_result"
    },
    {
     "data": {
      "image/png": "[encoded data removed]",
      "text/plain": [
       "<Figure size 864x576 with 1 Axes>"
      ]
     },
     "metadata": {
      "needs_background": "light"
     },
     "output_type": "display_data"
    }
   ],
   "source": [
    "demographics_aggression_problems.groupby('enrollment_year')['Ethnicity'].value_counts().unstack().fillna(0).plot(figsize=(12, 8))"
   ]
  },
  {
   "cell_type": "code",
   "execution_count": 365,
   "metadata": {},
   "outputs": [
    {
     "data": {
      "text/plain": [
       "Text(0, 0.5, 'Proportion')"
      ]
     },
     "execution_count": 365,
     "metadata": {},
     "output_type": "execute_result"
    },
    {
     "data": {
      "text/plain": [
       "<matplotlib.legend.Legend at 0x7fd231fb4fa0>"
      ]
     },
     "execution_count": 365,
     "metadata": {},
     "output_type": "execute_result"
    },
    {
     "data": {
      "text/plain": [
       "Text(0.5, 1.0, 'Proportion of Disability Level by Gender')"
      ]
     },
     "execution_count": 365,
     "metadata": {},
     "output_type": "execute_result"
    },
    {
     "data": {
      "text/plain": [
       "<AxesSubplot:title={'center':'Proportion of Disability Level by Gender'}, xlabel='Gender', ylabel='Proportion'>"
      ]
     },
     "execution_count": 365,
     "metadata": {},
     "output_type": "execute_result"
    },
    {
     "data": {
      "image/png": "[encoded data removed]",
      "text/plain": [
       "<Figure size 864x576 with 1 Axes>"
      ]
     },
     "metadata": {
      "needs_background": "light"
     },
     "output_type": "display_data"
    }
   ],
   "source": [
    "# Disability level by gender\n",
    "disability_by_gender = demographics_aggression_problems.groupby(\"Gender\")['disability_level_ordered'].value_counts(normalize = True).unstack().plot(kind='bar', figsize=(12, 8), color=colors.values())\n",
    "disability_by_gender.set_ylabel(\"Proportion\")\n",
    "disability_by_gender.legend(title=\"Disbility Level\")\n",
    "disability_by_gender.set_title(\"Proportion of Disability Level by Gender\")\n",
    "disability_by_gender"
   ]
  },
  {
   "cell_type": "code",
   "execution_count": 366,
   "metadata": {},
   "outputs": [
    {
     "data": {
      "text/plain": [
       "Text(0.5, 0, 'Enrollment Year, Gender')"
      ]
     },
     "execution_count": 366,
     "metadata": {},
     "output_type": "execute_result"
    },
    {
     "data": {
      "text/plain": [
       "Text(0, 0.5, 'Proportion')"
      ]
     },
     "execution_count": 366,
     "metadata": {},
     "output_type": "execute_result"
    },
    {
     "data": {
      "text/plain": [
       "<matplotlib.legend.Legend at 0x7fd2314a34c0>"
      ]
     },
     "execution_count": 366,
     "metadata": {},
     "output_type": "execute_result"
    },
    {
     "data": {
      "text/plain": [
       "Text(0.5, 1.0, 'Proportion of Disability Level by Gender for 2019 and 2020')"
      ]
     },
     "execution_count": 366,
     "metadata": {},
     "output_type": "execute_result"
    },
    {
     "data": {
      "text/plain": [
       "<AxesSubplot:title={'center':'Proportion of Disability Level by Gender for 2019 and 2020'}, xlabel='Enrollment Year, Gender', ylabel='Proportion'>"
      ]
     },
     "execution_count": 366,
     "metadata": {},
     "output_type": "execute_result"
    },
    {
     "data": {
      "image/png": "[encoded data removed]",
      "text/plain": [
       "<Figure size 864x576 with 1 Axes>"
      ]
     },
     "metadata": {
      "needs_background": "light"
     },
     "output_type": "display_data"
    }
   ],
   "source": [
    "temp = demographics_aggression_problems[demographics_aggression_problems.enrollment_year > 2018]\n",
    "disability_after_2018 = temp.groupby(['enrollment_year', 'Gender'])['disability_level_ordered'].value_counts(normalize=True).unstack().fillna(0).plot(kind='bar', figsize=(12, 8), color=colors.values())\n",
    "disability_after_2018.set_xlabel(\"Enrollment Year, Gender\")\n",
    "disability_after_2018.set_ylabel(\"Proportion\")\n",
    "disability_after_2018.legend(title=\"Disbility Level\")\n",
    "disability_after_2018.set_title(\"Proportion of Disability Level by Gender for 2019 and 2020\")\n",
    "disability_after_2018"
   ]
  },
  {
   "cell_type": "code",
   "execution_count": 367,
   "metadata": {},
   "outputs": [
    {
     "data": {
      "text/plain": [
       "Text(0.5, 0, 'State')"
      ]
     },
     "execution_count": 367,
     "metadata": {},
     "output_type": "execute_result"
    },
    {
     "data": {
      "text/plain": [
       "Text(0, 0.5, 'Proportion')"
      ]
     },
     "execution_count": 367,
     "metadata": {},
     "output_type": "execute_result"
    },
    {
     "data": {
      "text/plain": [
       "<matplotlib.legend.Legend at 0x7fd2a3d8d700>"
      ]
     },
     "execution_count": 367,
     "metadata": {},
     "output_type": "execute_result"
    },
    {
     "data": {
      "text/plain": [
       "Text(0.5, 1.0, 'Proportion of Disability Levels by State for People with Aggression Problems')"
      ]
     },
     "execution_count": 367,
     "metadata": {},
     "output_type": "execute_result"
    },
    {
     "data": {
      "text/plain": [
       "<AxesSubplot:title={'center':'Proportion of Disability Levels by State for People with Aggression Problems'}, xlabel='State', ylabel='Proportion'>"
      ]
     },
     "execution_count": 367,
     "metadata": {},
     "output_type": "execute_result"
    },
    {
     "data": {
      "image/png": "[encoded data removed]",
      "text/plain": [
       "<Figure size 864x576 with 1 Axes>"
      ]
     },
     "metadata": {
      "needs_background": "light"
     },
     "output_type": "display_data"
    }
   ],
   "source": [
    "disability_by_state = demographics_aggression_problems.groupby(['state_demographics'])[\"disability_level_ordered\"].value_counts(normalize=True).unstack().fillna(0).plot(kind='bar', figsize=(12, 8), color=colors.values())\n",
    "disability_by_state.set_xlabel(\"State\")\n",
    "disability_by_state.set_ylabel(\"Proportion\")\n",
    "disability_by_state.legend(title=\"Disbility Level\")\n",
    "disability_by_state.set_title(\"Proportion of Disability Levels by State for People with Aggression Problems\")\n",
    "disability_by_state"
   ]
  },
  {
   "cell_type": "code",
   "execution_count": 368,
   "metadata": {
    "scrolled": true
   },
   "outputs": [
    {
     "data": {
      "text/plain": [
       "Text(0.5, 0, 'State')"
      ]
     },
     "execution_count": 368,
     "metadata": {},
     "output_type": "execute_result"
    },
    {
     "data": {
      "text/plain": [
       "Text(0, 0.5, 'Proportion')"
      ]
     },
     "execution_count": 368,
     "metadata": {},
     "output_type": "execute_result"
    },
    {
     "data": {
      "text/plain": [
       "<matplotlib.legend.Legend at 0x7fd228afe250>"
      ]
     },
     "execution_count": 368,
     "metadata": {},
     "output_type": "execute_result"
    },
    {
     "data": {
      "text/plain": [
       "Text(0.5, 1.0, 'Proportion of Disability Levels by State for People for the Entire Dataset')"
      ]
     },
     "execution_count": 368,
     "metadata": {},
     "output_type": "execute_result"
    },
    {
     "data": {
      "text/plain": [
       "<AxesSubplot:title={'center':'Proportion of Disability Levels by State for People for the Entire Dataset'}, xlabel='State', ylabel='Proportion'>"
      ]
     },
     "execution_count": 368,
     "metadata": {},
     "output_type": "execute_result"
    },
    {
     "data": {
      "image/png": "[encoded data removed]",
      "text/plain": [
       "<Figure size 864x576 with 1 Axes>"
      ]
     },
     "metadata": {
      "needs_background": "light"
     },
     "output_type": "display_data"
    }
   ],
   "source": [
    "## the demographics merged dataset before subsetting to aggression problems\n",
    "disability_by_state_full_dataset = demographics_problems_merged.groupby(['state_demographics'])[\"disability_level_ordered\"].value_counts(normalize=True).unstack().plot(kind='bar', figsize=(12, 8), color=colors.values())\n",
    "disability_by_state_full_dataset.set_xlabel(\"State\")\n",
    "disability_by_state_full_dataset.set_ylabel(\"Proportion\")\n",
    "disability_by_state_full_dataset.legend(title=\"Disbility Level\")\n",
    "disability_by_state_full_dataset.set_title(\"Proportion of Disability Levels by State for People for the Entire Dataset\")\n",
    "disability_by_state_full_dataset"
   ]
  },
  {
   "cell_type": "code",
   "execution_count": 369,
   "metadata": {},
   "outputs": [],
   "source": [
    "# subset to people with mild disability level that have agression issues\n",
    "mild_aggression_problems = demographics_aggression_problems[demographics_aggression_problems['disability_level'] == 'Mild'].copy()"
   ]
  },
  {
   "cell_type": "code",
   "execution_count": 370,
   "metadata": {
    "scrolled": true
   },
   "outputs": [
    {
     "data": {
      "text/html": [
       "<div>\n",
       "<style scoped>\n",
       "    .dataframe tbody tr th:only-of-type {\n",
       "        vertical-align: middle;\n",
       "    }\n",
       "\n",
       "    .dataframe tbody tr th {\n",
       "        vertical-align: top;\n",
       "    }\n",
       "\n",
       "    .dataframe thead th {\n",
       "        text-align: right;\n",
       "    }\n",
       "</style>\n",
       "<table border=\"1\" class=\"dataframe\">\n",
       "  <thead>\n",
       "    <tr style=\"text-align: right;\">\n",
       "      <th></th>\n",
       "      <th>enrollment_year</th>\n",
       "      <th>Local ID</th>\n",
       "    </tr>\n",
       "  </thead>\n",
       "  <tbody>\n",
       "    <tr>\n",
       "      <th>0</th>\n",
       "      <td>2010</td>\n",
       "      <td>5</td>\n",
       "    </tr>\n",
       "    <tr>\n",
       "      <th>1</th>\n",
       "      <td>2011</td>\n",
       "      <td>17</td>\n",
       "    </tr>\n",
       "    <tr>\n",
       "      <th>2</th>\n",
       "      <td>2012</td>\n",
       "      <td>10</td>\n",
       "    </tr>\n",
       "    <tr>\n",
       "      <th>3</th>\n",
       "      <td>2013</td>\n",
       "      <td>22</td>\n",
       "    </tr>\n",
       "    <tr>\n",
       "      <th>4</th>\n",
       "      <td>2014</td>\n",
       "      <td>89</td>\n",
       "    </tr>\n",
       "    <tr>\n",
       "      <th>5</th>\n",
       "      <td>2015</td>\n",
       "      <td>61</td>\n",
       "    </tr>\n",
       "    <tr>\n",
       "      <th>6</th>\n",
       "      <td>2016</td>\n",
       "      <td>122</td>\n",
       "    </tr>\n",
       "    <tr>\n",
       "      <th>7</th>\n",
       "      <td>2017</td>\n",
       "      <td>235</td>\n",
       "    </tr>\n",
       "    <tr>\n",
       "      <th>8</th>\n",
       "      <td>2018</td>\n",
       "      <td>367</td>\n",
       "    </tr>\n",
       "    <tr>\n",
       "      <th>9</th>\n",
       "      <td>2019</td>\n",
       "      <td>444</td>\n",
       "    </tr>\n",
       "    <tr>\n",
       "      <th>10</th>\n",
       "      <td>2020</td>\n",
       "      <td>405</td>\n",
       "    </tr>\n",
       "  </tbody>\n",
       "</table>\n",
       "</div>"
      ],
      "text/plain": [
       "    enrollment_year  Local ID\n",
       "0              2010         5\n",
       "1              2011        17\n",
       "2              2012        10\n",
       "3              2013        22\n",
       "4              2014        89\n",
       "5              2015        61\n",
       "6              2016       122\n",
       "7              2017       235\n",
       "8              2018       367\n",
       "9              2019       444\n",
       "10             2020       405"
      ]
     },
     "execution_count": 370,
     "metadata": {},
     "output_type": "execute_result"
    }
   ],
   "source": [
    "# create dataframe with count of people with mild disability level that have agression issues\n",
    "aggression_mild_df = pd.DataFrame(mild_aggression_problems.groupby(\"enrollment_year\").agg({\"Local ID\":\"count\"})).reset_index()\n",
    "aggression_mild_df "
   ]
  },
  {
   "cell_type": "code",
   "execution_count": 371,
   "metadata": {},
   "outputs": [
    {
     "data": {
      "text/html": [
       "<div>\n",
       "<style scoped>\n",
       "    .dataframe tbody tr th:only-of-type {\n",
       "        vertical-align: middle;\n",
       "    }\n",
       "\n",
       "    .dataframe tbody tr th {\n",
       "        vertical-align: top;\n",
       "    }\n",
       "\n",
       "    .dataframe thead th {\n",
       "        text-align: right;\n",
       "    }\n",
       "</style>\n",
       "<table border=\"1\" class=\"dataframe\">\n",
       "  <thead>\n",
       "    <tr style=\"text-align: right;\">\n",
       "      <th></th>\n",
       "      <th>Client Local Id</th>\n",
       "      <th>START Coordinator</th>\n",
       "      <th>Region_presenting_problems</th>\n",
       "      <th>presented_problems</th>\n",
       "      <th>state_presenting_problems</th>\n",
       "      <th>region_new_presenting_problems</th>\n",
       "      <th>Local ID</th>\n",
       "      <th>Region_demographics</th>\n",
       "      <th>County</th>\n",
       "      <th>Start Coordinator</th>\n",
       "      <th>...</th>\n",
       "      <th>Custody Status</th>\n",
       "      <th>Child Lives With</th>\n",
       "      <th>state_demographics</th>\n",
       "      <th>region_new_demographics</th>\n",
       "      <th>_merge</th>\n",
       "      <th>enrollment_date</th>\n",
       "      <th>is_post_covid</th>\n",
       "      <th>enrollment_ym_derived</th>\n",
       "      <th>enrollment_year</th>\n",
       "      <th>disability_level_ordered</th>\n",
       "    </tr>\n",
       "  </thead>\n",
       "  <tbody>\n",
       "    <tr>\n",
       "      <th>0</th>\n",
       "      <td>000083W</td>\n",
       "      <td>Amy Huff</td>\n",
       "      <td>North Carolina : West</td>\n",
       "      <td>aggression (physical, verbal, property destruc...</td>\n",
       "      <td>north carolina</td>\n",
       "      <td>west</td>\n",
       "      <td>000083W</td>\n",
       "      <td>North Carolina : West</td>\n",
       "      <td>Swain</td>\n",
       "      <td>Amy Huff</td>\n",
       "      <td>...</td>\n",
       "      <td>NaN</td>\n",
       "      <td>NaN</td>\n",
       "      <td>north carolina</td>\n",
       "      <td>west</td>\n",
       "      <td>both</td>\n",
       "      <td>2018-06-27</td>\n",
       "      <td>False</td>\n",
       "      <td>2018-06-01</td>\n",
       "      <td>2018</td>\n",
       "      <td>Mild</td>\n",
       "    </tr>\n",
       "    <tr>\n",
       "      <th>1</th>\n",
       "      <td>000083W</td>\n",
       "      <td>Amy Huff</td>\n",
       "      <td>North Carolina : West</td>\n",
       "      <td>decrease in ability to participate in daily fu...</td>\n",
       "      <td>north carolina</td>\n",
       "      <td>west</td>\n",
       "      <td>000083W</td>\n",
       "      <td>North Carolina : West</td>\n",
       "      <td>Swain</td>\n",
       "      <td>Amy Huff</td>\n",
       "      <td>...</td>\n",
       "      <td>NaN</td>\n",
       "      <td>NaN</td>\n",
       "      <td>north carolina</td>\n",
       "      <td>west</td>\n",
       "      <td>both</td>\n",
       "      <td>2018-06-27</td>\n",
       "      <td>False</td>\n",
       "      <td>2018-06-01</td>\n",
       "      <td>2018</td>\n",
       "      <td>Mild</td>\n",
       "    </tr>\n",
       "    <tr>\n",
       "      <th>2</th>\n",
       "      <td>000083W</td>\n",
       "      <td>Amy Huff</td>\n",
       "      <td>North Carolina : West</td>\n",
       "      <td>leaving unexpectedly</td>\n",
       "      <td>north carolina</td>\n",
       "      <td>west</td>\n",
       "      <td>000083W</td>\n",
       "      <td>North Carolina : West</td>\n",
       "      <td>Swain</td>\n",
       "      <td>Amy Huff</td>\n",
       "      <td>...</td>\n",
       "      <td>NaN</td>\n",
       "      <td>NaN</td>\n",
       "      <td>north carolina</td>\n",
       "      <td>west</td>\n",
       "      <td>both</td>\n",
       "      <td>2018-06-27</td>\n",
       "      <td>False</td>\n",
       "      <td>2018-06-01</td>\n",
       "      <td>2018</td>\n",
       "      <td>Mild</td>\n",
       "    </tr>\n",
       "    <tr>\n",
       "      <th>3</th>\n",
       "      <td>000083W</td>\n",
       "      <td>Amy Huff</td>\n",
       "      <td>North Carolina : West</td>\n",
       "      <td>mental health symptoms</td>\n",
       "      <td>north carolina</td>\n",
       "      <td>west</td>\n",
       "      <td>000083W</td>\n",
       "      <td>North Carolina : West</td>\n",
       "      <td>Swain</td>\n",
       "      <td>Amy Huff</td>\n",
       "      <td>...</td>\n",
       "      <td>NaN</td>\n",
       "      <td>NaN</td>\n",
       "      <td>north carolina</td>\n",
       "      <td>west</td>\n",
       "      <td>both</td>\n",
       "      <td>2018-06-27</td>\n",
       "      <td>False</td>\n",
       "      <td>2018-06-01</td>\n",
       "      <td>2018</td>\n",
       "      <td>Mild</td>\n",
       "    </tr>\n",
       "    <tr>\n",
       "      <th>4</th>\n",
       "      <td>1021487</td>\n",
       "      <td>Andrew Nawoj</td>\n",
       "      <td>Texas : Tarrant County</td>\n",
       "      <td>aggression (physical, verbal, property destruc...</td>\n",
       "      <td>texas</td>\n",
       "      <td>tarrant county</td>\n",
       "      <td>1021487</td>\n",
       "      <td>Texas : Tarrant County</td>\n",
       "      <td>Tarrant</td>\n",
       "      <td>Andrew Nawoj</td>\n",
       "      <td>...</td>\n",
       "      <td>NaN</td>\n",
       "      <td>NaN</td>\n",
       "      <td>texas</td>\n",
       "      <td>tarrant county</td>\n",
       "      <td>both</td>\n",
       "      <td>2020-03-02</td>\n",
       "      <td>True</td>\n",
       "      <td>2020-03-01</td>\n",
       "      <td>2020</td>\n",
       "      <td>Mild</td>\n",
       "    </tr>\n",
       "  </tbody>\n",
       "</table>\n",
       "<p>5 rows × 62 columns</p>\n",
       "</div>"
      ],
      "text/plain": [
       "  Client Local Id START Coordinator Region_presenting_problems  \\\n",
       "0         000083W          Amy Huff      North Carolina : West   \n",
       "1         000083W          Amy Huff      North Carolina : West   \n",
       "2         000083W          Amy Huff      North Carolina : West   \n",
       "3         000083W          Amy Huff      North Carolina : West   \n",
       "4         1021487      Andrew Nawoj     Texas : Tarrant County   \n",
       "\n",
       "                                  presented_problems  \\\n",
       "0  aggression (physical, verbal, property destruc...   \n",
       "1  decrease in ability to participate in daily fu...   \n",
       "2                               leaving unexpectedly   \n",
       "3                             mental health symptoms   \n",
       "4  aggression (physical, verbal, property destruc...   \n",
       "\n",
       "  state_presenting_problems region_new_presenting_problems Local ID  \\\n",
       "0            north carolina                           west  000083W   \n",
       "1            north carolina                           west  000083W   \n",
       "2            north carolina                           west  000083W   \n",
       "3            north carolina                           west  000083W   \n",
       "4                     texas                 tarrant county  1021487   \n",
       "\n",
       "      Region_demographics   County Start Coordinator  ... Custody Status  \\\n",
       "0   North Carolina : West    Swain          Amy Huff  ...            NaN   \n",
       "1   North Carolina : West    Swain          Amy Huff  ...            NaN   \n",
       "2   North Carolina : West    Swain          Amy Huff  ...            NaN   \n",
       "3   North Carolina : West    Swain          Amy Huff  ...            NaN   \n",
       "4  Texas : Tarrant County  Tarrant      Andrew Nawoj  ...            NaN   \n",
       "\n",
       "  Child Lives With state_demographics region_new_demographics _merge  \\\n",
       "0              NaN     north carolina                    west   both   \n",
       "1              NaN     north carolina                    west   both   \n",
       "2              NaN     north carolina                    west   both   \n",
       "3              NaN     north carolina                    west   both   \n",
       "4              NaN              texas          tarrant county   both   \n",
       "\n",
       "  enrollment_date is_post_covid enrollment_ym_derived enrollment_year  \\\n",
       "0      2018-06-27         False            2018-06-01            2018   \n",
       "1      2018-06-27         False            2018-06-01            2018   \n",
       "2      2018-06-27         False            2018-06-01            2018   \n",
       "3      2018-06-27         False            2018-06-01            2018   \n",
       "4      2020-03-02          True            2020-03-01            2020   \n",
       "\n",
       "  disability_level_ordered  \n",
       "0                     Mild  \n",
       "1                     Mild  \n",
       "2                     Mild  \n",
       "3                     Mild  \n",
       "4                     Mild  \n",
       "\n",
       "[5 rows x 62 columns]"
      ]
     },
     "execution_count": 371,
     "metadata": {},
     "output_type": "execute_result"
    }
   ],
   "source": [
    "# subset to people with mild disability level from general dataframe\n",
    "mild_df = demographics_problems_merged[demographics_problems_merged['disability_level'] == 'Mild'].copy()\n",
    "mild_df.head()"
   ]
  },
  {
   "cell_type": "code",
   "execution_count": 372,
   "metadata": {
    "scrolled": true
   },
   "outputs": [
    {
     "data": {
      "text/html": [
       "<div>\n",
       "<style scoped>\n",
       "    .dataframe tbody tr th:only-of-type {\n",
       "        vertical-align: middle;\n",
       "    }\n",
       "\n",
       "    .dataframe tbody tr th {\n",
       "        vertical-align: top;\n",
       "    }\n",
       "\n",
       "    .dataframe thead th {\n",
       "        text-align: right;\n",
       "    }\n",
       "</style>\n",
       "<table border=\"1\" class=\"dataframe\">\n",
       "  <thead>\n",
       "    <tr style=\"text-align: right;\">\n",
       "      <th></th>\n",
       "      <th>enrollment_year</th>\n",
       "      <th>Local ID</th>\n",
       "    </tr>\n",
       "  </thead>\n",
       "  <tbody>\n",
       "    <tr>\n",
       "      <th>0</th>\n",
       "      <td>2010</td>\n",
       "      <td>24</td>\n",
       "    </tr>\n",
       "    <tr>\n",
       "      <th>1</th>\n",
       "      <td>2011</td>\n",
       "      <td>93</td>\n",
       "    </tr>\n",
       "    <tr>\n",
       "      <th>2</th>\n",
       "      <td>2012</td>\n",
       "      <td>50</td>\n",
       "    </tr>\n",
       "    <tr>\n",
       "      <th>3</th>\n",
       "      <td>2013</td>\n",
       "      <td>122</td>\n",
       "    </tr>\n",
       "    <tr>\n",
       "      <th>4</th>\n",
       "      <td>2014</td>\n",
       "      <td>338</td>\n",
       "    </tr>\n",
       "    <tr>\n",
       "      <th>5</th>\n",
       "      <td>2015</td>\n",
       "      <td>238</td>\n",
       "    </tr>\n",
       "    <tr>\n",
       "      <th>6</th>\n",
       "      <td>2016</td>\n",
       "      <td>512</td>\n",
       "    </tr>\n",
       "    <tr>\n",
       "      <th>7</th>\n",
       "      <td>2017</td>\n",
       "      <td>983</td>\n",
       "    </tr>\n",
       "    <tr>\n",
       "      <th>8</th>\n",
       "      <td>2018</td>\n",
       "      <td>1561</td>\n",
       "    </tr>\n",
       "    <tr>\n",
       "      <th>9</th>\n",
       "      <td>2019</td>\n",
       "      <td>1997</td>\n",
       "    </tr>\n",
       "    <tr>\n",
       "      <th>10</th>\n",
       "      <td>2020</td>\n",
       "      <td>1923</td>\n",
       "    </tr>\n",
       "  </tbody>\n",
       "</table>\n",
       "</div>"
      ],
      "text/plain": [
       "    enrollment_year  Local ID\n",
       "0              2010        24\n",
       "1              2011        93\n",
       "2              2012        50\n",
       "3              2013       122\n",
       "4              2014       338\n",
       "5              2015       238\n",
       "6              2016       512\n",
       "7              2017       983\n",
       "8              2018      1561\n",
       "9              2019      1997\n",
       "10             2020      1923"
      ]
     },
     "execution_count": 372,
     "metadata": {},
     "output_type": "execute_result"
    }
   ],
   "source": [
    "# create dataframe with count of people with mild disability level\n",
    "gen_mild_df = pd.DataFrame(mild_df.groupby(\"enrollment_year\").agg({\"Local ID\":\"count\"})).reset_index()\n",
    "gen_mild_df "
   ]
  },
  {
   "cell_type": "code",
   "execution_count": 373,
   "metadata": {},
   "outputs": [
    {
     "data": {
      "text/html": [
       "<div>\n",
       "<style scoped>\n",
       "    .dataframe tbody tr th:only-of-type {\n",
       "        vertical-align: middle;\n",
       "    }\n",
       "\n",
       "    .dataframe tbody tr th {\n",
       "        vertical-align: top;\n",
       "    }\n",
       "\n",
       "    .dataframe thead th {\n",
       "        text-align: right;\n",
       "    }\n",
       "</style>\n",
       "<table border=\"1\" class=\"dataframe\">\n",
       "  <thead>\n",
       "    <tr style=\"text-align: right;\">\n",
       "      <th></th>\n",
       "      <th>enrollment_year</th>\n",
       "      <th>Local ID_agression</th>\n",
       "      <th>Local ID_general</th>\n",
       "      <th>_merge</th>\n",
       "    </tr>\n",
       "  </thead>\n",
       "  <tbody>\n",
       "    <tr>\n",
       "      <th>0</th>\n",
       "      <td>2010</td>\n",
       "      <td>5</td>\n",
       "      <td>24</td>\n",
       "      <td>both</td>\n",
       "    </tr>\n",
       "    <tr>\n",
       "      <th>1</th>\n",
       "      <td>2011</td>\n",
       "      <td>17</td>\n",
       "      <td>93</td>\n",
       "      <td>both</td>\n",
       "    </tr>\n",
       "    <tr>\n",
       "      <th>2</th>\n",
       "      <td>2012</td>\n",
       "      <td>10</td>\n",
       "      <td>50</td>\n",
       "      <td>both</td>\n",
       "    </tr>\n",
       "    <tr>\n",
       "      <th>3</th>\n",
       "      <td>2013</td>\n",
       "      <td>22</td>\n",
       "      <td>122</td>\n",
       "      <td>both</td>\n",
       "    </tr>\n",
       "    <tr>\n",
       "      <th>4</th>\n",
       "      <td>2014</td>\n",
       "      <td>89</td>\n",
       "      <td>338</td>\n",
       "      <td>both</td>\n",
       "    </tr>\n",
       "    <tr>\n",
       "      <th>5</th>\n",
       "      <td>2015</td>\n",
       "      <td>61</td>\n",
       "      <td>238</td>\n",
       "      <td>both</td>\n",
       "    </tr>\n",
       "    <tr>\n",
       "      <th>6</th>\n",
       "      <td>2016</td>\n",
       "      <td>122</td>\n",
       "      <td>512</td>\n",
       "      <td>both</td>\n",
       "    </tr>\n",
       "    <tr>\n",
       "      <th>7</th>\n",
       "      <td>2017</td>\n",
       "      <td>235</td>\n",
       "      <td>983</td>\n",
       "      <td>both</td>\n",
       "    </tr>\n",
       "    <tr>\n",
       "      <th>8</th>\n",
       "      <td>2018</td>\n",
       "      <td>367</td>\n",
       "      <td>1561</td>\n",
       "      <td>both</td>\n",
       "    </tr>\n",
       "    <tr>\n",
       "      <th>9</th>\n",
       "      <td>2019</td>\n",
       "      <td>444</td>\n",
       "      <td>1997</td>\n",
       "      <td>both</td>\n",
       "    </tr>\n",
       "    <tr>\n",
       "      <th>10</th>\n",
       "      <td>2020</td>\n",
       "      <td>405</td>\n",
       "      <td>1923</td>\n",
       "      <td>both</td>\n",
       "    </tr>\n",
       "  </tbody>\n",
       "</table>\n",
       "</div>"
      ],
      "text/plain": [
       "    enrollment_year  Local ID_agression  Local ID_general _merge\n",
       "0              2010                   5                24   both\n",
       "1              2011                  17                93   both\n",
       "2              2012                  10                50   both\n",
       "3              2013                  22               122   both\n",
       "4              2014                  89               338   both\n",
       "5              2015                  61               238   both\n",
       "6              2016                 122               512   both\n",
       "7              2017                 235               983   both\n",
       "8              2018                 367              1561   both\n",
       "9              2019                 444              1997   both\n",
       "10             2020                 405              1923   both"
      ]
     },
     "execution_count": 373,
     "metadata": {},
     "output_type": "execute_result"
    }
   ],
   "source": [
    "# merge both dattaframes with counts\n",
    "mild_merged_df =  aggression_mild_df.merge(gen_mild_df, left_on='enrollment_year', right_on='enrollment_year',\n",
    "                                                                  how='inner', suffixes=('_agression', '_general'), \n",
    "                                                                  indicator = True).drop_duplicates()\n",
    "mild_merged_df"
   ]
  },
  {
   "cell_type": "code",
   "execution_count": 374,
   "metadata": {},
   "outputs": [
    {
     "data": {
      "text/html": [
       "<div>\n",
       "<style scoped>\n",
       "    .dataframe tbody tr th:only-of-type {\n",
       "        vertical-align: middle;\n",
       "    }\n",
       "\n",
       "    .dataframe tbody tr th {\n",
       "        vertical-align: top;\n",
       "    }\n",
       "\n",
       "    .dataframe thead th {\n",
       "        text-align: right;\n",
       "    }\n",
       "</style>\n",
       "<table border=\"1\" class=\"dataframe\">\n",
       "  <thead>\n",
       "    <tr style=\"text-align: right;\">\n",
       "      <th></th>\n",
       "      <th>enrollment_year</th>\n",
       "      <th>Local ID_agression</th>\n",
       "      <th>Local ID_general</th>\n",
       "      <th>_merge</th>\n",
       "      <th>mild_perc</th>\n",
       "    </tr>\n",
       "  </thead>\n",
       "  <tbody>\n",
       "    <tr>\n",
       "      <th>0</th>\n",
       "      <td>2010</td>\n",
       "      <td>5</td>\n",
       "      <td>24</td>\n",
       "      <td>both</td>\n",
       "      <td>0.208333</td>\n",
       "    </tr>\n",
       "    <tr>\n",
       "      <th>1</th>\n",
       "      <td>2011</td>\n",
       "      <td>17</td>\n",
       "      <td>93</td>\n",
       "      <td>both</td>\n",
       "      <td>0.182796</td>\n",
       "    </tr>\n",
       "    <tr>\n",
       "      <th>2</th>\n",
       "      <td>2012</td>\n",
       "      <td>10</td>\n",
       "      <td>50</td>\n",
       "      <td>both</td>\n",
       "      <td>0.200000</td>\n",
       "    </tr>\n",
       "    <tr>\n",
       "      <th>3</th>\n",
       "      <td>2013</td>\n",
       "      <td>22</td>\n",
       "      <td>122</td>\n",
       "      <td>both</td>\n",
       "      <td>0.180328</td>\n",
       "    </tr>\n",
       "    <tr>\n",
       "      <th>4</th>\n",
       "      <td>2014</td>\n",
       "      <td>89</td>\n",
       "      <td>338</td>\n",
       "      <td>both</td>\n",
       "      <td>0.263314</td>\n",
       "    </tr>\n",
       "    <tr>\n",
       "      <th>5</th>\n",
       "      <td>2015</td>\n",
       "      <td>61</td>\n",
       "      <td>238</td>\n",
       "      <td>both</td>\n",
       "      <td>0.256303</td>\n",
       "    </tr>\n",
       "    <tr>\n",
       "      <th>6</th>\n",
       "      <td>2016</td>\n",
       "      <td>122</td>\n",
       "      <td>512</td>\n",
       "      <td>both</td>\n",
       "      <td>0.238281</td>\n",
       "    </tr>\n",
       "    <tr>\n",
       "      <th>7</th>\n",
       "      <td>2017</td>\n",
       "      <td>235</td>\n",
       "      <td>983</td>\n",
       "      <td>both</td>\n",
       "      <td>0.239064</td>\n",
       "    </tr>\n",
       "    <tr>\n",
       "      <th>8</th>\n",
       "      <td>2018</td>\n",
       "      <td>367</td>\n",
       "      <td>1561</td>\n",
       "      <td>both</td>\n",
       "      <td>0.235106</td>\n",
       "    </tr>\n",
       "    <tr>\n",
       "      <th>9</th>\n",
       "      <td>2019</td>\n",
       "      <td>444</td>\n",
       "      <td>1997</td>\n",
       "      <td>both</td>\n",
       "      <td>0.222334</td>\n",
       "    </tr>\n",
       "    <tr>\n",
       "      <th>10</th>\n",
       "      <td>2020</td>\n",
       "      <td>405</td>\n",
       "      <td>1923</td>\n",
       "      <td>both</td>\n",
       "      <td>0.210608</td>\n",
       "    </tr>\n",
       "  </tbody>\n",
       "</table>\n",
       "</div>"
      ],
      "text/plain": [
       "    enrollment_year  Local ID_agression  Local ID_general _merge  mild_perc\n",
       "0              2010                   5                24   both   0.208333\n",
       "1              2011                  17                93   both   0.182796\n",
       "2              2012                  10                50   both   0.200000\n",
       "3              2013                  22               122   both   0.180328\n",
       "4              2014                  89               338   both   0.263314\n",
       "5              2015                  61               238   both   0.256303\n",
       "6              2016                 122               512   both   0.238281\n",
       "7              2017                 235               983   both   0.239064\n",
       "8              2018                 367              1561   both   0.235106\n",
       "9              2019                 444              1997   both   0.222334\n",
       "10             2020                 405              1923   both   0.210608"
      ]
     },
     "execution_count": 374,
     "metadata": {},
     "output_type": "execute_result"
    }
   ],
   "source": [
    "# create new variable in merged df for percent of people with mild disability level that have agression issues\n",
    "mild_merged_df[\"mild_perc\"] = mild_merged_df['Local ID_agression'] / mild_merged_df['Local ID_general']\n",
    "mild_merged_df"
   ]
  },
  {
   "cell_type": "code",
   "execution_count": 383,
   "metadata": {},
   "outputs": [
    {
     "data": {
      "image/png": "[encoded data removed]",
      "text/plain": [
       "<Figure size 640x480 with 1 Axes>"
      ]
     },
     "metadata": {},
     "output_type": "display_data"
    },
    {
     "data": {
      "text/plain": [
       "<ggplot: (8783870432552)>"
      ]
     },
     "execution_count": 383,
     "metadata": {},
     "output_type": "execute_result"
    },
    {
     "data": {
      "image/png": "[encoded data removed]",
      "text/plain": [
       "<Figure size 640x480 with 1 Axes>"
      ]
     },
     "metadata": {},
     "output_type": "display_data"
    },
    {
     "data": {
      "text/plain": [
       "<ggplot: (8783788275179)>"
      ]
     },
     "execution_count": 383,
     "metadata": {},
     "output_type": "execute_result"
    }
   ],
   "source": [
    "def make_smoothed_plot(df, y_var, y_label):\n",
    "        return (ggplot(df, aes(x = \"enrollment_year\", y = y_var, color = y_var))\n",
    "                + geom_point()\n",
    "                + geom_smooth(method = \"lm\")\n",
    "                + labs(x = 'Enrollment Year', y = y_label, color = y_label,\n",
    "                       title = \"Enrollment Year vs. \" + y_label + \" in START Participants with Aggression Problems\")\n",
    "                + theme_light()\n",
    "                + scale_x_continuous(breaks=(2010, 2012, 2014, 2016, 2018, 2020)))\n",
    "        \n",
    "make_smoothed_plot(aggression_mild_df, 'Local ID', 'Count')                                                                                                                                                                                                                     \n",
    "make_smoothed_plot(mild_merged_df, 'mild_perc', 'Percent')"
   ]
  },
  {
   "cell_type": "code",
   "execution_count": 376,
   "metadata": {},
   "outputs": [
    {
     "ename": "ValueError",
     "evalue": "Unable to parse string \"Mild\" at position 0",
     "output_type": "error",
     "traceback": [
      "\u001b[0;31m---------------------------------------------------------------------------\u001b[0m",
      "\u001b[0;31mValueError\u001b[0m                                Traceback (most recent call last)",
      "File \u001b[0;32m~/opt/anaconda3/lib/python3.9/site-packages/pandas/_libs/lib.pyx:2315\u001b[0m, in \u001b[0;36mpandas._libs.lib.maybe_convert_numeric\u001b[0;34m()\u001b[0m\n",
      "\u001b[0;31mValueError\u001b[0m: Unable to parse string \"Mild\"",
      "\nDuring handling of the above exception, another exception occurred:\n",
      "\u001b[0;31mValueError\u001b[0m                                Traceback (most recent call last)",
      "\u001b[1;32m/Users/aimen/Desktop/CS/QSS20/qss_final_project/code/01_data_cleaning_and_merging.ipynb Cell 53\u001b[0m in \u001b[0;36m<cell line: 1>\u001b[0;34m()\u001b[0m\n\u001b[0;32m----> <a href='vscode-notebook-cell:/Users/aimen/Desktop/CS/QSS20/qss_final_project/code/01_data_cleaning_and_merging.ipynb#Y330sZmlsZQ%3D%3D?line=0'>1</a>\u001b[0m demographics_aggression_problems[\u001b[39m'\u001b[39m\u001b[39mdisability_level_num\u001b[39m\u001b[39m'\u001b[39m]\u001b[39m=\u001b[39m [pd\u001b[39m.\u001b[39mto_numeric(ele) \u001b[39mfor\u001b[39;00m ele \u001b[39min\u001b[39;00m demographics_aggression_problems[\u001b[39m'\u001b[39m\u001b[39mdisability_level\u001b[39m\u001b[39m'\u001b[39m]]\n",
      "\u001b[1;32m/Users/aimen/Desktop/CS/QSS20/qss_final_project/code/01_data_cleaning_and_merging.ipynb Cell 53\u001b[0m in \u001b[0;36m<listcomp>\u001b[0;34m(.0)\u001b[0m\n\u001b[0;32m----> <a href='vscode-notebook-cell:/Users/aimen/Desktop/CS/QSS20/qss_final_project/code/01_data_cleaning_and_merging.ipynb#Y330sZmlsZQ%3D%3D?line=0'>1</a>\u001b[0m demographics_aggression_problems[\u001b[39m'\u001b[39m\u001b[39mdisability_level_num\u001b[39m\u001b[39m'\u001b[39m]\u001b[39m=\u001b[39m [pd\u001b[39m.\u001b[39;49mto_numeric(ele) \u001b[39mfor\u001b[39;00m ele \u001b[39min\u001b[39;00m demographics_aggression_problems[\u001b[39m'\u001b[39m\u001b[39mdisability_level\u001b[39m\u001b[39m'\u001b[39m]]\n",
      "File \u001b[0;32m~/opt/anaconda3/lib/python3.9/site-packages/pandas/core/tools/numeric.py:184\u001b[0m, in \u001b[0;36mto_numeric\u001b[0;34m(arg, errors, downcast)\u001b[0m\n\u001b[1;32m    182\u001b[0m coerce_numeric \u001b[39m=\u001b[39m errors \u001b[39mnot\u001b[39;00m \u001b[39min\u001b[39;00m (\u001b[39m\"\u001b[39m\u001b[39mignore\u001b[39m\u001b[39m\"\u001b[39m, \u001b[39m\"\u001b[39m\u001b[39mraise\u001b[39m\u001b[39m\"\u001b[39m)\n\u001b[1;32m    183\u001b[0m \u001b[39mtry\u001b[39;00m:\n\u001b[0;32m--> 184\u001b[0m     values, _ \u001b[39m=\u001b[39m lib\u001b[39m.\u001b[39;49mmaybe_convert_numeric(\n\u001b[1;32m    185\u001b[0m         values, \u001b[39mset\u001b[39;49m(), coerce_numeric\u001b[39m=\u001b[39;49mcoerce_numeric\n\u001b[1;32m    186\u001b[0m     )\n\u001b[1;32m    187\u001b[0m \u001b[39mexcept\u001b[39;00m (\u001b[39mValueError\u001b[39;00m, \u001b[39mTypeError\u001b[39;00m):\n\u001b[1;32m    188\u001b[0m     \u001b[39mif\u001b[39;00m errors \u001b[39m==\u001b[39m \u001b[39m\"\u001b[39m\u001b[39mraise\u001b[39m\u001b[39m\"\u001b[39m:\n",
      "File \u001b[0;32m~/opt/anaconda3/lib/python3.9/site-packages/pandas/_libs/lib.pyx:2357\u001b[0m, in \u001b[0;36mpandas._libs.lib.maybe_convert_numeric\u001b[0;34m()\u001b[0m\n",
      "\u001b[0;31mValueError\u001b[0m: Unable to parse string \"Mild\" at position 0"
     ]
    }
   ],
   "source": [
    "demographics_aggression_problems['disability_level_num']= [pd.to_numeric(ele) for ele in demographics_aggression_problems['disability_level']]\n",
    "# df['col_name'] = pd.to_numeric(df['col_name'])"
   ]
  },
  {
   "cell_type": "code",
   "execution_count": null,
   "metadata": {},
   "outputs": [
    {
     "ename": "ValueError",
     "evalue": "endog has evaluated to an array with multiple columns that has shape (3928, 6). This occurs when the variable converted to endog is non-numeric (e.g., bool or str).",
     "output_type": "error",
     "traceback": [
      "\u001b[0;31m---------------------------------------------------------------------------\u001b[0m",
      "\u001b[0;31mValueError\u001b[0m                                Traceback (most recent call last)",
      "\u001b[0;32m/var/folders/7v/1mdpxx6j4m1ftxgrrf_mmszh0000gp/T/ipykernel_59304/1165083195.py\u001b[0m in \u001b[0;36m<module>\u001b[0;34m\u001b[0m\n\u001b[0;32m----> 1\u001b[0;31m \u001b[0mresult\u001b[0m \u001b[0;34m=\u001b[0m \u001b[0msm\u001b[0m\u001b[0;34m.\u001b[0m\u001b[0mols\u001b[0m\u001b[0;34m(\u001b[0m\u001b[0mformula\u001b[0m\u001b[0;34m=\u001b[0m\u001b[0;34m\"disability_level ~ enrollment_year\"\u001b[0m\u001b[0;34m,\u001b[0m \u001b[0mdata\u001b[0m\u001b[0;34m=\u001b[0m\u001b[0mdemographics_aggression_problems\u001b[0m\u001b[0;34m)\u001b[0m\u001b[0;34m.\u001b[0m\u001b[0mfit\u001b[0m\u001b[0;34m(\u001b[0m\u001b[0;34m)\u001b[0m\u001b[0;34m\u001b[0m\u001b[0;34m\u001b[0m\u001b[0m\n\u001b[0m",
      "\u001b[0;32m~/opt/anaconda3/lib/python3.9/site-packages/statsmodels/base/model.py\u001b[0m in \u001b[0;36mfrom_formula\u001b[0;34m(cls, formula, data, subset, drop_cols, *args, **kwargs)\u001b[0m\n\u001b[1;32m    204\u001b[0m         if (max_endog is not None and\n\u001b[1;32m    205\u001b[0m                 endog.ndim > 1 and endog.shape[1] > max_endog):\n\u001b[0;32m--> 206\u001b[0;31m             raise ValueError('endog has evaluated to an array with multiple '\n\u001b[0m\u001b[1;32m    207\u001b[0m                              \u001b[0;34m'columns that has shape {0}. This occurs when '\u001b[0m\u001b[0;34m\u001b[0m\u001b[0;34m\u001b[0m\u001b[0m\n\u001b[1;32m    208\u001b[0m                              \u001b[0;34m'the variable converted to endog is non-numeric'\u001b[0m\u001b[0;34m\u001b[0m\u001b[0;34m\u001b[0m\u001b[0m\n",
      "\u001b[0;31mValueError\u001b[0m: endog has evaluated to an array with multiple columns that has shape (3928, 6). This occurs when the variable converted to endog is non-numeric (e.g., bool or str)."
     ]
    }
   ],
   "source": [
    "result = sm.ols(formula=\"disability_level ~ enrollment_year\", data=demographics_aggression_problems).fit()"
   ]
  },
  {
   "cell_type": "code",
   "execution_count": null,
   "metadata": {},
   "outputs": [],
   "source": [
    "file = '/Users/esmer1/Desktop/qss20folder/qss_final_project/code/NYS_Civil_Boundaries/counties.shp'\n",
    "ny_counties =  gpd.read_file(gplt.datasets.get_path(file))"
   ]
  }
 ],
 "metadata": {
  "kernelspec": {
   "display_name": "Python 3 (ipykernel)",
   "language": "python",
   "name": "python3"
  },
  "language_info": {
   "codemirror_mode": {
    "name": "ipython",
    "version": 3
   },
   "file_extension": ".py",
   "mimetype": "text/x-python",
   "name": "python",
   "nbconvert_exporter": "python",
   "pygments_lexer": "ipython3",
   "version": "3.9.12"
  },
  "vscode": {
   "interpreter": {
    "hash": "48a02c5e975c804dcf2278658419dc84d4068d13da7f0f36cd1aa7eb80cf5577"
   }
  }
 },
 "nbformat": 4,
 "nbformat_minor": 2
}
