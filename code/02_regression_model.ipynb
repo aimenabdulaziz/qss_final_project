{
 "cells": [
  {
   "attachments": {},
   "cell_type": "markdown",
   "metadata": {},
   "source": [
    "# Import Packages"
   ]
  },
  {
   "cell_type": "code",
   "execution_count": 1,
   "metadata": {},
   "outputs": [],
   "source": [
    "import pandas as pd\n",
    "import numpy as np\n",
    "import statsmodels.api as sm\n",
    "import statsmodels.formula.api as smf\n",
    "from tabulate import tabulate\n",
    "\n",
    "# repeated printouts\n",
    "from IPython.core.interactiveshell import InteractiveShell\n",
    "InteractiveShell.ast_node_interactivity = \"all\""
   ]
  },
  {
   "attachments": {},
   "cell_type": "markdown",
   "metadata": {},
   "source": [
    "## Load the raw data"
   ]
  },
  {
   "cell_type": "code",
   "execution_count": 2,
   "metadata": {},
   "outputs": [],
   "source": [
    "demographics_problems_merged = pd.read_pickle('../data/clean_presented_problems.pkl')"
   ]
  },
  {
   "cell_type": "markdown",
   "metadata": {},
   "source": [
    "## Explore the data"
   ]
  },
  {
   "cell_type": "code",
   "execution_count": 3,
   "metadata": {},
   "outputs": [
    {
     "data": {
      "text/html": [
       "<div>\n",
       "<style scoped>\n",
       "    .dataframe tbody tr th:only-of-type {\n",
       "        vertical-align: middle;\n",
       "    }\n",
       "\n",
       "    .dataframe tbody tr th {\n",
       "        vertical-align: top;\n",
       "    }\n",
       "\n",
       "    .dataframe thead th {\n",
       "        text-align: right;\n",
       "    }\n",
       "</style>\n",
       "<table border=\"1\" class=\"dataframe\">\n",
       "  <thead>\n",
       "    <tr style=\"text-align: right;\">\n",
       "      <th></th>\n",
       "      <th>Local ID</th>\n",
       "      <th>state_demographics</th>\n",
       "      <th>enrollment_date</th>\n",
       "      <th>enrollment_ym_derived</th>\n",
       "      <th>enrollment_year</th>\n",
       "      <th>disability_level</th>\n",
       "      <th>disability_level_ordered</th>\n",
       "      <th>presented_problems</th>\n",
       "      <th>Gender</th>\n",
       "      <th>Ethnicity</th>\n",
       "      <th>County</th>\n",
       "      <th>is_aggression</th>\n",
       "    </tr>\n",
       "  </thead>\n",
       "  <tbody>\n",
       "    <tr>\n",
       "      <th>0</th>\n",
       "      <td>000083W</td>\n",
       "      <td>north carolina</td>\n",
       "      <td>2018-06-27</td>\n",
       "      <td>2018-06-01</td>\n",
       "      <td>2018</td>\n",
       "      <td>Mild</td>\n",
       "      <td>Mild</td>\n",
       "      <td>aggression (physical, verbal, property destruc...</td>\n",
       "      <td>Female</td>\n",
       "      <td>Not of Hispanic origin</td>\n",
       "      <td>Swain</td>\n",
       "      <td>1</td>\n",
       "    </tr>\n",
       "    <tr>\n",
       "      <th>1</th>\n",
       "      <td>000083W</td>\n",
       "      <td>north carolina</td>\n",
       "      <td>2018-06-27</td>\n",
       "      <td>2018-06-01</td>\n",
       "      <td>2018</td>\n",
       "      <td>Mild</td>\n",
       "      <td>Mild</td>\n",
       "      <td>decrease in ability to participate in daily fu...</td>\n",
       "      <td>Female</td>\n",
       "      <td>Not of Hispanic origin</td>\n",
       "      <td>Swain</td>\n",
       "      <td>0</td>\n",
       "    </tr>\n",
       "    <tr>\n",
       "      <th>2</th>\n",
       "      <td>000083W</td>\n",
       "      <td>north carolina</td>\n",
       "      <td>2018-06-27</td>\n",
       "      <td>2018-06-01</td>\n",
       "      <td>2018</td>\n",
       "      <td>Mild</td>\n",
       "      <td>Mild</td>\n",
       "      <td>leaving unexpectedly</td>\n",
       "      <td>Female</td>\n",
       "      <td>Not of Hispanic origin</td>\n",
       "      <td>Swain</td>\n",
       "      <td>0</td>\n",
       "    </tr>\n",
       "    <tr>\n",
       "      <th>3</th>\n",
       "      <td>000083W</td>\n",
       "      <td>north carolina</td>\n",
       "      <td>2018-06-27</td>\n",
       "      <td>2018-06-01</td>\n",
       "      <td>2018</td>\n",
       "      <td>Mild</td>\n",
       "      <td>Mild</td>\n",
       "      <td>mental health symptoms</td>\n",
       "      <td>Female</td>\n",
       "      <td>Not of Hispanic origin</td>\n",
       "      <td>Swain</td>\n",
       "      <td>0</td>\n",
       "    </tr>\n",
       "    <tr>\n",
       "      <th>4</th>\n",
       "      <td>1021487</td>\n",
       "      <td>texas</td>\n",
       "      <td>2020-03-02</td>\n",
       "      <td>2020-03-01</td>\n",
       "      <td>2020</td>\n",
       "      <td>Mild</td>\n",
       "      <td>Mild</td>\n",
       "      <td>aggression (physical, verbal, property destruc...</td>\n",
       "      <td>Male</td>\n",
       "      <td>Not of Hispanic origin</td>\n",
       "      <td>Tarrant</td>\n",
       "      <td>1</td>\n",
       "    </tr>\n",
       "  </tbody>\n",
       "</table>\n",
       "</div>"
      ],
      "text/plain": [
       "  Local ID state_demographics enrollment_date enrollment_ym_derived  \\\n",
       "0  000083W     north carolina      2018-06-27            2018-06-01   \n",
       "1  000083W     north carolina      2018-06-27            2018-06-01   \n",
       "2  000083W     north carolina      2018-06-27            2018-06-01   \n",
       "3  000083W     north carolina      2018-06-27            2018-06-01   \n",
       "4  1021487              texas      2020-03-02            2020-03-01   \n",
       "\n",
       "   enrollment_year disability_level disability_level_ordered  \\\n",
       "0             2018             Mild                     Mild   \n",
       "1             2018             Mild                     Mild   \n",
       "2             2018             Mild                     Mild   \n",
       "3             2018             Mild                     Mild   \n",
       "4             2020             Mild                     Mild   \n",
       "\n",
       "                                  presented_problems  Gender  \\\n",
       "0  aggression (physical, verbal, property destruc...  Female   \n",
       "1  decrease in ability to participate in daily fu...  Female   \n",
       "2                               leaving unexpectedly  Female   \n",
       "3                             mental health symptoms  Female   \n",
       "4  aggression (physical, verbal, property destruc...    Male   \n",
       "\n",
       "                Ethnicity   County  is_aggression  \n",
       "0  Not of Hispanic origin    Swain              1  \n",
       "1  Not of Hispanic origin    Swain              0  \n",
       "2  Not of Hispanic origin    Swain              0  \n",
       "3  Not of Hispanic origin    Swain              0  \n",
       "4  Not of Hispanic origin  Tarrant              1  "
      ]
     },
     "execution_count": 3,
     "metadata": {},
     "output_type": "execute_result"
    }
   ],
   "source": [
    "demographics_problems_merged.head()"
   ]
  },
  {
   "cell_type": "markdown",
   "metadata": {},
   "source": [
    "## Define function"
   ]
  },
  {
   "cell_type": "code",
   "execution_count": 5,
   "metadata": {},
   "outputs": [],
   "source": [
    "def save_model_output(model, i):\n",
    "    # Extract the coefficient table from the model summary and format it nicely\n",
    "    coef_table = model.params.to_frame()\n",
    "    coef_table.columns = ['Coefficient']\n",
    "    coef_table['Standard Error'] = model.bse\n",
    "    coef_table['z-value'] = model.tvalues\n",
    "    coef_table['P-value'] = model.pvalues\n",
    "    coef_table = coef_table.apply(pd.to_numeric)\n",
    "\n",
    "    # Save the formatted coefficient table to a text file\n",
    "    with open(f\"../output/logistic_regression_output{i}.txt\", \"w\") as f:\n",
    "        f.write(tabulate(coef_table, headers='keys', tablefmt='fancy_grid'))"
   ]
  },
  {
   "cell_type": "code",
   "execution_count": 6,
   "metadata": {},
   "outputs": [
    {
     "name": "stdout",
     "output_type": "stream",
     "text": [
      "Optimization terminated successfully.\n",
      "         Current function value: 0.549546\n",
      "         Iterations 5\n",
      "                           Logit Regression Results                           \n",
      "==============================================================================\n",
      "Dep. Variable:          is_aggression   No. Observations:                16406\n",
      "Model:                          Logit   Df Residuals:                    16400\n",
      "Method:                           MLE   Df Model:                            5\n",
      "Date:                Mon, 13 Mar 2023   Pseudo R-squ.:                0.001580\n",
      "Time:                        22:15:28   Log-Likelihood:                -9015.9\n",
      "converged:                       True   LL-Null:                       -9030.1\n",
      "Covariance Type:            nonrobust   LLR p-value:                 2.869e-05\n",
      "===============================================================================================================================================\n",
      "                                                                                  coef    std err          z      P>|z|      [0.025      0.975]\n",
      "-----------------------------------------------------------------------------------------------------------------------------------------------\n",
      "Intercept                                                                      -1.2384      0.069    -17.951      0.000      -1.374      -1.103\n",
      "C(disability_level_ordered, Treatment('Normal intelligence'))[T.Borderline]    -0.0530      0.104     -0.510      0.610      -0.257       0.151\n",
      "C(disability_level_ordered, Treatment('Normal intelligence'))[T.Mild]           0.0110      0.074      0.148      0.882      -0.134       0.156\n",
      "C(disability_level_ordered, Treatment('Normal intelligence'))[T.Moderate]       0.1994      0.076      2.615      0.009       0.050       0.349\n",
      "C(disability_level_ordered, Treatment('Normal intelligence'))[T.Severe]         0.2049      0.094      2.173      0.030       0.020       0.390\n",
      "C(disability_level_ordered, Treatment('Normal intelligence'))[T.Profound]       0.2012      0.170      1.183      0.237      -0.132       0.535\n",
      "===============================================================================================================================================\n"
     ]
    }
   ],
   "source": [
    "## Perform a logistic regression to see if there is a relationship between disability level and aggression\n",
    "model = smf.logit(\"is_aggression ~ C(disability_level_ordered, Treatment('Normal intelligence'))\", data = demographics_problems_merged).fit()\n",
    "\n",
    "print(model.summary())\n",
    "save_model_output(model, 0)"
   ]
  },
  {
   "cell_type": "code",
   "execution_count": 7,
   "metadata": {},
   "outputs": [
    {
     "name": "stdout",
     "output_type": "stream",
     "text": [
      "Optimization terminated successfully.\n",
      "         Current function value: 0.547205\n",
      "         Iterations 5\n",
      "                           Logit Regression Results                           \n",
      "==============================================================================\n",
      "Dep. Variable:          is_aggression   No. Observations:                16406\n",
      "Model:                          Logit   Df Residuals:                    16394\n",
      "Method:                           MLE   Df Model:                           11\n",
      "Date:                Mon, 13 Mar 2023   Pseudo R-squ.:                0.005833\n",
      "Time:                        22:15:29   Log-Likelihood:                -8977.4\n",
      "converged:                       True   LL-Null:                       -9030.1\n",
      "Covariance Type:            nonrobust   LLR p-value:                 1.553e-17\n",
      "===============================================================================================================================================\n",
      "                                                                                  coef    std err          z      P>|z|      [0.025      0.975]\n",
      "-----------------------------------------------------------------------------------------------------------------------------------------------\n",
      "Intercept                                                                      -1.2500      0.072    -17.346      0.000      -1.391      -1.109\n",
      "C(disability_level_ordered, Treatment('Normal intelligence'))[T.Borderline]     0.0112      0.105      0.107      0.915      -0.194       0.217\n",
      "C(disability_level_ordered, Treatment('Normal intelligence'))[T.Mild]           0.0372      0.075      0.496      0.620      -0.110       0.184\n",
      "C(disability_level_ordered, Treatment('Normal intelligence'))[T.Moderate]       0.2032      0.077      2.639      0.008       0.052       0.354\n",
      "C(disability_level_ordered, Treatment('Normal intelligence'))[T.Severe]         0.1702      0.095      1.784      0.074      -0.017       0.357\n",
      "C(disability_level_ordered, Treatment('Normal intelligence'))[T.Profound]       0.2097      0.171      1.228      0.220      -0.125       0.544\n",
      "C(state_demographics, Treatment('new york'))[T.california]                     -0.2391      0.079     -3.045      0.002      -0.393      -0.085\n",
      "C(state_demographics, Treatment('new york'))[T.colorado]                       -0.3502      0.270     -1.297      0.195      -0.880       0.179\n",
      "C(state_demographics, Treatment('new york'))[T.iowa]                           -0.0962      0.095     -1.017      0.309      -0.282       0.089\n",
      "C(state_demographics, Treatment('new york'))[T.new hampshire]                  -0.3527      0.069     -5.128      0.000      -0.488      -0.218\n",
      "C(state_demographics, Treatment('new york'))[T.north carolina]                  0.1657      0.048      3.443      0.001       0.071       0.260\n",
      "C(state_demographics, Treatment('new york'))[T.texas]                           0.2502      0.069      3.624      0.000       0.115       0.386\n",
      "===============================================================================================================================================\n"
     ]
    }
   ],
   "source": [
    "## Perform a logistic regression to see if there is a relationship between disability level, gender, and state \n",
    "model = smf.logit(\"is_aggression ~ C(disability_level_ordered, Treatment('Normal intelligence')) + C(state_demographics, Treatment('new york'))\", data = demographics_problems_merged).fit()\n",
    "\n",
    "print(model.summary())"
   ]
  },
  {
   "cell_type": "code",
   "execution_count": 8,
   "metadata": {},
   "outputs": [
    {
     "name": "stdout",
     "output_type": "stream",
     "text": [
      "Optimization terminated successfully.\n",
      "         Current function value: 0.546977\n",
      "         Iterations 5\n",
      "                           Logit Regression Results                           \n",
      "==============================================================================\n",
      "Dep. Variable:          is_aggression   No. Observations:                16406\n",
      "Model:                          Logit   Df Residuals:                    16393\n",
      "Method:                           MLE   Df Model:                           12\n",
      "Date:                Mon, 13 Mar 2023   Pseudo R-squ.:                0.006248\n",
      "Time:                        22:15:29   Log-Likelihood:                -8973.7\n",
      "converged:                       True   LL-Null:                       -9030.1\n",
      "Covariance Type:            nonrobust   LLR p-value:                 1.644e-18\n",
      "===============================================================================================================================================\n",
      "                                                                                  coef    std err          z      P>|z|      [0.025      0.975]\n",
      "-----------------------------------------------------------------------------------------------------------------------------------------------\n",
      "Intercept                                                                      -1.2294      0.072    -16.963      0.000      -1.371      -1.087\n",
      "C(disability_level_ordered, Treatment('Normal intelligence'))[T.Borderline]     0.0154      0.105      0.147      0.884      -0.190       0.221\n",
      "C(disability_level_ordered, Treatment('Normal intelligence'))[T.Mild]           0.0545      0.075      0.724      0.469      -0.093       0.202\n",
      "C(disability_level_ordered, Treatment('Normal intelligence'))[T.Moderate]       0.2153      0.077      2.792      0.005       0.064       0.367\n",
      "C(disability_level_ordered, Treatment('Normal intelligence'))[T.Severe]         0.1770      0.095      1.855      0.064      -0.010       0.364\n",
      "C(disability_level_ordered, Treatment('Normal intelligence'))[T.Profound]       0.2140      0.171      1.253      0.210      -0.121       0.549\n",
      "C(Gender, Treatment('Male'))[T.Female]                                         -0.1089      0.040     -2.727      0.006      -0.187      -0.031\n",
      "C(state_demographics, Treatment('new york'))[T.california]                     -0.2407      0.079     -3.064      0.002      -0.395      -0.087\n",
      "C(state_demographics, Treatment('new york'))[T.colorado]                       -0.3441      0.270     -1.273      0.203      -0.874       0.185\n",
      "C(state_demographics, Treatment('new york'))[T.iowa]                           -0.0844      0.095     -0.891      0.373      -0.270       0.101\n",
      "C(state_demographics, Treatment('new york'))[T.new hampshire]                  -0.3445      0.069     -5.003      0.000      -0.479      -0.210\n",
      "C(state_demographics, Treatment('new york'))[T.north carolina]                  0.1668      0.048      3.466      0.001       0.073       0.261\n",
      "C(state_demographics, Treatment('new york'))[T.texas]                           0.2509      0.069      3.633      0.000       0.116       0.386\n",
      "===============================================================================================================================================\n"
     ]
    }
   ],
   "source": [
    "## Perform a logistic regression to see if there is a relationship between disability level, gender, and state \n",
    "model = smf.logit(\"is_aggression ~ C(disability_level_ordered, Treatment('Normal intelligence')) + C(Gender, Treatment('Male')) + C(state_demographics, Treatment('new york'))\", data = demographics_problems_merged).fit()\n",
    "\n",
    "print(model.summary())\n",
    "save_model_output(model, 1)"
   ]
  },
  {
   "cell_type": "code",
   "execution_count": null,
   "metadata": {},
   "outputs": [],
   "source": []
  }
 ],
 "metadata": {
  "kernelspec": {
   "display_name": "base",
   "language": "python",
   "name": "python3"
  },
  "language_info": {
   "codemirror_mode": {
    "name": "ipython",
    "version": 3
   },
   "file_extension": ".py",
   "mimetype": "text/x-python",
   "name": "python",
   "nbconvert_exporter": "python",
   "pygments_lexer": "ipython3",
   "version": "3.9.12"
  },
  "orig_nbformat": 4
 },
 "nbformat": 4,
 "nbformat_minor": 2
}
